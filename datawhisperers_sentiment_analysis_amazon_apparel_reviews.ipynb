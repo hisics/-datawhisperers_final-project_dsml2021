{
  "nbformat": 4,
  "nbformat_minor": 0,
  "metadata": {
    "colab": {
      "name": " datawhisperers_sentiment_analysis_amazon_apparel_reviews.ipynb",
      "provenance": [],
      "collapsed_sections": [
        "3WLtzXUTC5LN",
        "QgCQXJ3G_b9K",
        "SRkCf5Pk9YCx"
      ],
      "include_colab_link": true
    },
    "kernelspec": {
      "display_name": "Python 3.7.4 64-bit",
      "metadata": {
        "interpreter": {
          "hash": "aee8b7b246df8f9039afb4144a1f6fd8d2ca17a180786b69acc140d282b71a49"
        }
      },
      "name": "python3"
    },
    "language_info": {
      "codemirror_mode": {
        "name": "ipython",
        "version": 3
      },
      "file_extension": ".py",
      "mimetype": "text/x-python",
      "name": "python",
      "nbconvert_exporter": "python",
      "pygments_lexer": "ipython3",
      "version": "3.7.4-final"
    },
    "orig_nbformat": 2
  },
  "cells": [
    {
      "cell_type": "markdown",
      "metadata": {
        "id": "view-in-github",
        "colab_type": "text"
      },
      "source": [
        "<a href=\"https://colab.research.google.com/github/hisics/-datawhisperers_final-project_dsml2021/blob/bhavya/datawhisperers_sentiment_analysis_amazon_apparel_reviews.ipynb\" target=\"_parent\"><img src=\"https://colab.research.google.com/assets/colab-badge.svg\" alt=\"Open In Colab\"/></a>"
      ]
    },
    {
      "cell_type": "markdown",
      "metadata": {
        "id": "Ub7F7w29_l0Z"
      },
      "source": [
        "# Capstone Project - ML on Apparel Reviews at Amazon US\n",
        "The Data Whisperers Team ✨  Amba | Bhavya | Sushma | Heba"
      ]
    },
    {
      "cell_type": "markdown",
      "metadata": {
        "id": "3WLtzXUTC5LN"
      },
      "source": [
        "#### Chosen project : Option 8 - Sentiment Analysis for Ecommerce\n",
        "\n",
        "From Dany: Look at this document for reference,<br/>\n",
        "https://colab.research.google.com/drive/1g6ZtYOOhGUj1WsiPpeaVPp5T7VFw234e?usp=sharing"
      ]
    },
    {
      "cell_type": "markdown",
      "metadata": {
        "id": "ZeWDiw-r98hn"
      },
      "source": [
        "DATA COLUMNS:\n",
        "* marketplace       : 2 letter country code of the marketplace where the review was written.\n",
        "*customer_id       : Random identifier that can be used to aggregate *reviews written by a single author.\n",
        "*review_id         : The unique ID of the review.\n",
        "*product_id        : The unique Product ID the review pertains to. In the multilingual dataset the reviews for the same product in different countries can be grouped by the same product_id.\n",
        "*product_parent    : Random identifier that can be used to aggregatereviews for the same product.\n",
        "*product_title     : Title of the product.\n",
        "*product_category  : Broad product category that can be used to group reviews  (also used to group the dataset into coherent parts).\n",
        "*star_rating       : The 1-5 star rating of the review.\n",
        "*helpful_votes     : Number of helpful votes.\n",
        "*total_votes       : Number of total votes the review received.\n",
        "*vine              : Review was written as part of the Vine program.\n",
        "*verified_purchase : The review is on a verified purchase.\n",
        "*review_headline   : The title of the review.\n",
        "*review_body       : The review text.\n",
        "*review_date       : The date the review was written."
      ]
    },
    {
      "cell_type": "markdown",
      "metadata": {
        "id": "QgCQXJ3G_b9K"
      },
      "source": [
        "#### Importing libaries and Apparel dataset"
      ]
    },
    {
      "cell_type": "code",
      "metadata": {
        "id": "ny7TFp0sC5LV"
      },
      "source": [
        "# (1) Import libraries\n",
        "import pandas as pd\n",
        "import matplotlib.pyplot as plt\n",
        "import seaborn as sns\n",
        "from sklearn.naive_bayes import MultinomialNB\n",
        "from sklearn.linear_model import LogisticRegression\n",
        "from sklearn.ensemble import RandomForestClassifier\n",
        "from sklearn.svm import LinearSVC\n",
        "from sklearn.model_selection import train_test_split, cross_val_score,GridSearchCV, RandomizedSearchCV\n",
        "from sklearn.metrics import confusion_matrix, classification_report, roc_curve, roc_auc_score"
      ],
      "execution_count": 1,
      "outputs": []
    },
    {
      "cell_type": "code",
      "metadata": {
        "colab": {
          "base_uri": "https://localhost:8080/"
        },
        "id": "TBaD7dvAC5LW",
        "outputId": "cf0dd6b8-00e2-4fa3-eac7-3ada2008529e"
      },
      "source": [
        "# (2) Download product reviews from Amazon Datasets\n",
        "# You can use reviews from Amazon Datasets for a particular product.\n",
        "# Note that the data are quite large so do not run this cell unless you are willing to wait!\n",
        "# For reference, visit:\n",
        "# https://www.tensorflow.org/datasets/catalog/amazon_us_reviews\n",
        "# https://s3.amazonaws.com/amazon-reviews-pds/readme.html\n",
        "!curl -O https://s3.amazonaws.com/amazon-reviews-pds/tsv/amazon_reviews_us_Apparel_v1_00.tsv.gz"
      ],
      "execution_count": 2,
      "outputs": [
        {
          "output_type": "stream",
          "name": "stdout",
          "text": [
            "  % Total    % Received % Xferd  Average Speed   Time    Time     Time  Current\n",
            "                                 Dload  Upload   Total   Spent    Left  Speed\n",
            "100  618M  100  618M    0     0  47.1M      0  0:00:13  0:00:13 --:--:-- 37.8M\n"
          ]
        }
      ]
    },
    {
      "cell_type": "code",
      "metadata": {
        "id": "EG7i-4E7DR6P"
      },
      "source": [
        "!echo \"y\" | gzip -d amazon_reviews_us_Apparel_v1_00.tsv.gz"
      ],
      "execution_count": 3,
      "outputs": []
    },
    {
      "cell_type": "code",
      "metadata": {
        "colab": {
          "base_uri": "https://localhost:8080/"
        },
        "id": "W7MGo9e-C5LX",
        "outputId": "41a61643-472e-4992-c926-d0181dda3032"
      },
      "source": [
        "# (3.a) Read the contents of the folder \n",
        "!ls"
      ],
      "execution_count": 4,
      "outputs": [
        {
          "output_type": "stream",
          "name": "stdout",
          "text": [
            "amazon_reviews_us_Apparel_v1_00.tsv  sample_data\n"
          ]
        }
      ]
    },
    {
      "cell_type": "code",
      "metadata": {
        "id": "iPwqyKTuC5LX"
      },
      "source": [
        "# (3.b) Explore data (see what is categorial and numerical)"
      ],
      "execution_count": 5,
      "outputs": []
    },
    {
      "cell_type": "code",
      "metadata": {
        "colab": {
          "base_uri": "https://localhost:8080/"
        },
        "id": "lytjIOzXD2Zu",
        "outputId": "68d6f370-85fa-41e0-8be9-263d1ea4c4ee"
      },
      "source": [
        "df = pd.read_table('amazon_reviews_us_Apparel_v1_00.tsv', delim_whitespace=False, error_bad_lines=False, nrows=100000)\n",
        "df.info()"
      ],
      "execution_count": 6,
      "outputs": [
        {
          "output_type": "stream",
          "name": "stderr",
          "text": [
            "b'Skipping line 49396: expected 15 fields, saw 22\\nSkipping line 57008: expected 15 fields, saw 22\\n'\n",
            "b'Skipping line 82075: expected 15 fields, saw 22\\n'\n"
          ]
        },
        {
          "output_type": "stream",
          "name": "stdout",
          "text": [
            "<class 'pandas.core.frame.DataFrame'>\n",
            "RangeIndex: 100000 entries, 0 to 99999\n",
            "Data columns (total 15 columns):\n",
            " #   Column             Non-Null Count   Dtype \n",
            "---  ------             --------------   ----- \n",
            " 0   marketplace        100000 non-null  object\n",
            " 1   customer_id        100000 non-null  int64 \n",
            " 2   review_id          100000 non-null  object\n",
            " 3   product_id         100000 non-null  object\n",
            " 4   product_parent     100000 non-null  int64 \n",
            " 5   product_title      100000 non-null  object\n",
            " 6   product_category   100000 non-null  object\n",
            " 7   star_rating        100000 non-null  int64 \n",
            " 8   helpful_votes      100000 non-null  int64 \n",
            " 9   total_votes        100000 non-null  int64 \n",
            " 10  vine               100000 non-null  object\n",
            " 11  verified_purchase  100000 non-null  object\n",
            " 12  review_headline    100000 non-null  object\n",
            " 13  review_body        99947 non-null   object\n",
            " 14  review_date        99997 non-null   object\n",
            "dtypes: int64(5), object(10)\n",
            "memory usage: 11.4+ MB\n"
          ]
        }
      ]
    },
    {
      "cell_type": "code",
      "metadata": {
        "colab": {
          "base_uri": "https://localhost:8080/",
          "height": 0
        },
        "id": "glfGT55PxCuu",
        "outputId": "78258af9-1473-4856-f45e-c82899836aa2"
      },
      "source": [
        "# To see how the data looks like and if any is boolean\n",
        "df.tail()"
      ],
      "execution_count": 7,
      "outputs": [
        {
          "output_type": "execute_result",
          "data": {
            "text/html": [
              "<div>\n",
              "<style scoped>\n",
              "    .dataframe tbody tr th:only-of-type {\n",
              "        vertical-align: middle;\n",
              "    }\n",
              "\n",
              "    .dataframe tbody tr th {\n",
              "        vertical-align: top;\n",
              "    }\n",
              "\n",
              "    .dataframe thead th {\n",
              "        text-align: right;\n",
              "    }\n",
              "</style>\n",
              "<table border=\"1\" class=\"dataframe\">\n",
              "  <thead>\n",
              "    <tr style=\"text-align: right;\">\n",
              "      <th></th>\n",
              "      <th>marketplace</th>\n",
              "      <th>customer_id</th>\n",
              "      <th>review_id</th>\n",
              "      <th>product_id</th>\n",
              "      <th>product_parent</th>\n",
              "      <th>product_title</th>\n",
              "      <th>product_category</th>\n",
              "      <th>star_rating</th>\n",
              "      <th>helpful_votes</th>\n",
              "      <th>total_votes</th>\n",
              "      <th>vine</th>\n",
              "      <th>verified_purchase</th>\n",
              "      <th>review_headline</th>\n",
              "      <th>review_body</th>\n",
              "      <th>review_date</th>\n",
              "    </tr>\n",
              "  </thead>\n",
              "  <tbody>\n",
              "    <tr>\n",
              "      <th>99995</th>\n",
              "      <td>US</td>\n",
              "      <td>43330569</td>\n",
              "      <td>R209JPXL8VMOVJ</td>\n",
              "      <td>B00VW37AMU</td>\n",
              "      <td>354148485</td>\n",
              "      <td>Cybertela Women's Nice Fish You Caught, Can.. ...</td>\n",
              "      <td>Apparel</td>\n",
              "      <td>5</td>\n",
              "      <td>0</td>\n",
              "      <td>0</td>\n",
              "      <td>N</td>\n",
              "      <td>Y</td>\n",
              "      <td>Five Stars</td>\n",
              "      <td>My girlfriend loved it.</td>\n",
              "      <td>2015-05-05</td>\n",
              "    </tr>\n",
              "    <tr>\n",
              "      <th>99996</th>\n",
              "      <td>US</td>\n",
              "      <td>25578439</td>\n",
              "      <td>R2ISQWVCXLRNXQ</td>\n",
              "      <td>B00VW367FG</td>\n",
              "      <td>90102146</td>\n",
              "      <td>Cybertela Women's If You Don’t Fish I See.. Fu...</td>\n",
              "      <td>Apparel</td>\n",
              "      <td>4</td>\n",
              "      <td>0</td>\n",
              "      <td>0</td>\n",
              "      <td>N</td>\n",
              "      <td>Y</td>\n",
              "      <td>Four Stars</td>\n",
              "      <td>Great shirt</td>\n",
              "      <td>2015-05-18</td>\n",
              "    </tr>\n",
              "    <tr>\n",
              "      <th>99997</th>\n",
              "      <td>US</td>\n",
              "      <td>4282714</td>\n",
              "      <td>RB6XI6R464ZQL</td>\n",
              "      <td>B00VW366V6</td>\n",
              "      <td>789256548</td>\n",
              "      <td>Asgard Blacksmith's Alliance Thor Men's T-Shirt</td>\n",
              "      <td>Apparel</td>\n",
              "      <td>5</td>\n",
              "      <td>0</td>\n",
              "      <td>0</td>\n",
              "      <td>N</td>\n",
              "      <td>Y</td>\n",
              "      <td>Five Stars</td>\n",
              "      <td>Sweet shirt</td>\n",
              "      <td>2015-06-29</td>\n",
              "    </tr>\n",
              "    <tr>\n",
              "      <th>99998</th>\n",
              "      <td>US</td>\n",
              "      <td>41294636</td>\n",
              "      <td>R2RW7ZCM8J5YGV</td>\n",
              "      <td>B00VW2UKTG</td>\n",
              "      <td>233863271</td>\n",
              "      <td>Naturana Women's Mastectomy Bra</td>\n",
              "      <td>Apparel</td>\n",
              "      <td>5</td>\n",
              "      <td>0</td>\n",
              "      <td>1</td>\n",
              "      <td>N</td>\n",
              "      <td>Y</td>\n",
              "      <td>Five Stars</td>\n",
              "      <td>very well made</td>\n",
              "      <td>2015-08-06</td>\n",
              "    </tr>\n",
              "    <tr>\n",
              "      <th>99999</th>\n",
              "      <td>US</td>\n",
              "      <td>10624669</td>\n",
              "      <td>RN6BUHLG6XC8U</td>\n",
              "      <td>B00VW2TT0W</td>\n",
              "      <td>255023016</td>\n",
              "      <td>Ah Pardon Me My Good Sir I Believe I May Have ...</td>\n",
              "      <td>Apparel</td>\n",
              "      <td>4</td>\n",
              "      <td>0</td>\n",
              "      <td>0</td>\n",
              "      <td>N</td>\n",
              "      <td>Y</td>\n",
              "      <td>So Great!</td>\n",
              "      <td>This was a hit at the baby shower!</td>\n",
              "      <td>2015-07-07</td>\n",
              "    </tr>\n",
              "  </tbody>\n",
              "</table>\n",
              "</div>"
            ],
            "text/plain": [
              "      marketplace  customer_id  ...                         review_body review_date\n",
              "99995          US     43330569  ...             My girlfriend loved it.  2015-05-05\n",
              "99996          US     25578439  ...                         Great shirt  2015-05-18\n",
              "99997          US      4282714  ...                         Sweet shirt  2015-06-29\n",
              "99998          US     41294636  ...                      very well made  2015-08-06\n",
              "99999          US     10624669  ...  This was a hit at the baby shower!  2015-07-07\n",
              "\n",
              "[5 rows x 15 columns]"
            ]
          },
          "metadata": {},
          "execution_count": 7
        }
      ]
    },
    {
      "cell_type": "markdown",
      "metadata": {
        "id": "SRkCf5Pk9YCx"
      },
      "source": [
        "###Cleaning data and converting data types\n"
      ]
    },
    {
      "cell_type": "markdown",
      "metadata": {
        "id": "1IKKlScwO-yZ"
      },
      "source": [
        "#### Pre-processing the columns without review text"
      ]
    },
    {
      "cell_type": "code",
      "metadata": {
        "colab": {
          "base_uri": "https://localhost:8080/"
        },
        "id": "5-2JEGQ9ymK3",
        "outputId": "1e436ba6-1c1a-4817-b8cb-556afae3f696"
      },
      "source": [
        "# Checking if marketplace is only in the US\n",
        "df.marketplace.unique()"
      ],
      "execution_count": 8,
      "outputs": [
        {
          "output_type": "execute_result",
          "data": {
            "text/plain": [
              "array(['US'], dtype=object)"
            ]
          },
          "metadata": {},
          "execution_count": 8
        }
      ]
    },
    {
      "cell_type": "code",
      "metadata": {
        "colab": {
          "base_uri": "https://localhost:8080/",
          "height": 185
        },
        "id": "wSPAMKIX2rdt",
        "outputId": "7b6430c3-c498-4e12-a900-ed7bb9bad6e6"
      },
      "source": [
        "# creating numerical df -> df_num\n",
        "# creating categorical df -> df_cat\n",
        "cat_list = ['marketplace','review_id','product_id','product_title','product_category','vine','verified_purchase','review_headline','review_body','review_date']\n",
        "df_num = df.drop(cat_list, inplace = False , axis = 1) \n",
        "\n",
        "df_cat = df[cat_list]\n",
        "\n",
        "\n",
        "# Cleaning\n",
        "# (1) Drop: marketplace + product_category + review_id\n",
        "df.drop(['marketplace','product_category','review_id'], axis=1, inplace=True)\n",
        "\n",
        "# (2) Map: vine + verified_purchase (y:1, n:0)\n",
        "YN_to_bool = {'Y': 1,'N': 0}\n",
        "df['vine'] = df['vine'].map( YN_to_bool )\n",
        "df['verified_purchase'] = df['verified_purchase'].map( YN_to_bool)\n",
        "\n",
        "# (3) Datetime: review_date\n",
        "df['review_date'] = pd.to_datetime(df['review_date'])\n",
        "\n",
        "# (4) Create a year column for EDA\n",
        "df['Year'] = df.review_date.dt.year\n",
        "\n",
        "# (5) Drop the rows where there are no reviews\n",
        "df.dropna(subset = ['review_body'], inplace = True)\n",
        "\n",
        " \n",
        "# (6) Combine the review headline and review date columns\n",
        "df['review_body'] = df['review_headline'] + ' ' + df['review_body']\n",
        "del df['review_headline']\n",
        "\n",
        "df.head(1)"
      ],
      "execution_count": 9,
      "outputs": [
        {
          "output_type": "execute_result",
          "data": {
            "text/html": [
              "<div>\n",
              "<style scoped>\n",
              "    .dataframe tbody tr th:only-of-type {\n",
              "        vertical-align: middle;\n",
              "    }\n",
              "\n",
              "    .dataframe tbody tr th {\n",
              "        vertical-align: top;\n",
              "    }\n",
              "\n",
              "    .dataframe thead th {\n",
              "        text-align: right;\n",
              "    }\n",
              "</style>\n",
              "<table border=\"1\" class=\"dataframe\">\n",
              "  <thead>\n",
              "    <tr style=\"text-align: right;\">\n",
              "      <th></th>\n",
              "      <th>customer_id</th>\n",
              "      <th>product_id</th>\n",
              "      <th>product_parent</th>\n",
              "      <th>product_title</th>\n",
              "      <th>star_rating</th>\n",
              "      <th>helpful_votes</th>\n",
              "      <th>total_votes</th>\n",
              "      <th>vine</th>\n",
              "      <th>verified_purchase</th>\n",
              "      <th>review_body</th>\n",
              "      <th>review_date</th>\n",
              "      <th>Year</th>\n",
              "    </tr>\n",
              "  </thead>\n",
              "  <tbody>\n",
              "    <tr>\n",
              "      <th>0</th>\n",
              "      <td>32158956</td>\n",
              "      <td>B01KL6O72Y</td>\n",
              "      <td>24485154</td>\n",
              "      <td>Easy Tool Stainless Steel Fruit Pineapple Core...</td>\n",
              "      <td>4</td>\n",
              "      <td>0</td>\n",
              "      <td>0</td>\n",
              "      <td>0</td>\n",
              "      <td>1</td>\n",
              "      <td>★ THESE REALLY DO WORK GREAT WITH SOME TWEAKIN...</td>\n",
              "      <td>2013-01-14</td>\n",
              "      <td>2013.0</td>\n",
              "    </tr>\n",
              "  </tbody>\n",
              "</table>\n",
              "</div>"
            ],
            "text/plain": [
              "   customer_id  product_id  ...  review_date    Year\n",
              "0     32158956  B01KL6O72Y  ...   2013-01-14  2013.0\n",
              "\n",
              "[1 rows x 12 columns]"
            ]
          },
          "metadata": {},
          "execution_count": 9
        }
      ]
    },
    {
      "cell_type": "markdown",
      "metadata": {
        "id": "JKVO9FRnB7nz"
      },
      "source": [
        "#### Pre-processing the text fields\n",
        "##### Useful resource for cleaning text\n",
        "https://medium.com/mlearning-ai/10-python-functions-you-need-to-apply-before-you-build-your-nlp-sentiment-analysis-model-874a37e0217e"
      ]
    },
    {
      "cell_type": "code",
      "metadata": {
        "id": "AddOnryNBpPk"
      },
      "source": [
        "# Removing the hashtags\n",
        "import re      # Import REGEX\n",
        "def remove_mentions(text):\n",
        "  text = re.sub(\"@[A-Za-z0-9_]+\",\"\", text)\n",
        "  text = re.sub(\"#[A-Za-z0-9_]+\",\"\", text)\n",
        "  return text\n",
        "\n",
        "df['review_body'] = df.apply(lambda row: remove_mentions(row['review_body']), axis=1)"
      ],
      "execution_count": 10,
      "outputs": []
    },
    {
      "cell_type": "code",
      "metadata": {
        "id": "E2tNPNqL18Bh"
      },
      "source": [
        "# Removing the emojis |\n",
        "\n",
        "# # Reference code: https://gist.github.com/slowkow/7a7f61f495e3dbb7e3d767f97bd7304b\n",
        "# def remove_emoji(review_body):\n",
        "#     emoji_pattern = re.compile(\"[\"\n",
        "#                                u\"\\U0001F600-\\U0001F64F\"  # emoticons\n",
        "#                                u\"\\U0001F300-\\U0001F5FF\"  # symbols & pictographs\n",
        "#                                u\"\\U0001F680-\\U0001F6FF\"  # transport & map symbols\n",
        "#                                u\"\\U0001F1E0-\\U0001F1FF\"  # flags (iOS)\n",
        "#                                u\"\\U00002500-\\U00002BEF\"  # chinese char\n",
        "#                                u\"\\U00002702-\\U000027B0\"\n",
        "#                                u\"\\U00002702-\\U000027B0\"\n",
        "#                                u\"\\U000024C2-\\U0001F251\"\n",
        "#                                u\"\\U0001f926-\\U0001f937\"\n",
        "#                                u\"\\U00010000-\\U0010ffff\"\n",
        "#                                u\"\\u2640-\\u2642\"\n",
        "#                                u\"\\u2600-\\u2B55\"\n",
        "#                                u\"\\u200d\"\n",
        "#                                u\"\\u23cf\"\n",
        "#                                u\"\\u23e9\"\n",
        "#                                u\"\\u231a\"\n",
        "#                                u\"\\ufe0f\"  # dingbats\n",
        "#                                u\"\\u3030\"\n",
        "#                                \"]+\", flags=re.UNICODE)\n",
        "#     return emoji_pattern.sub(r'', string)"
      ],
      "execution_count": 11,
      "outputs": []
    },
    {
      "cell_type": "code",
      "metadata": {
        "colab": {
          "base_uri": "https://localhost:8080/"
        },
        "id": "goaMsuuiDNON",
        "outputId": "79af38e0-fc83-48ad-83af-3819fc7ac72f"
      },
      "source": [
        "# Importing text cleaning libraries \n",
        "# Tokenizer: Tokenization of data. At one stage we will need to deal with our text as a words list to iterate between the words and apply certain functions on it\n",
        "\n",
        "import nltk         #Natural language processing tool-kit\n",
        "nltk.download('stopwords')\n",
        "nltk.download('wordnet')\n",
        "nltk.download('punkt')\n",
        "nltk.download('averaged_perceptron_tagger') \n",
        "\n",
        "from nltk.tokenize import word_tokenize, sent_tokenize  # Import Tokenizer.\n",
        "\n"
      ],
      "execution_count": 12,
      "outputs": [
        {
          "output_type": "stream",
          "name": "stdout",
          "text": [
            "[nltk_data] Downloading package stopwords to /root/nltk_data...\n",
            "[nltk_data]   Unzipping corpora/stopwords.zip.\n",
            "[nltk_data] Downloading package wordnet to /root/nltk_data...\n",
            "[nltk_data]   Unzipping corpora/wordnet.zip.\n",
            "[nltk_data] Downloading package punkt to /root/nltk_data...\n",
            "[nltk_data]   Unzipping tokenizers/punkt.zip.\n",
            "[nltk_data] Downloading package averaged_perceptron_tagger to\n",
            "[nltk_data]     /root/nltk_data...\n",
            "[nltk_data]   Unzipping taggers/averaged_perceptron_tagger.zip.\n"
          ]
        }
      ]
    },
    {
      "cell_type": "code",
      "metadata": {
        "colab": {
          "base_uri": "https://localhost:8080/"
        },
        "id": "_R4u4Anv6Piu",
        "outputId": "723b03cc-671f-4d4d-fd19-7be67fd87eb2"
      },
      "source": [
        "# lower all upper case and enumerate words into a list\n",
        "df['review_body'] = df['review_body'].str.lower()\n",
        "# df['review_body'] = df['review_body'].values.tolist()\n",
        "df['review_body']"
      ],
      "execution_count": 13,
      "outputs": [
        {
          "output_type": "execute_result",
          "data": {
            "text/plain": [
              "0        ★ these really do work great with some tweakin...\n",
              "1        favorite for winter. very warm! i love this dr...\n",
              "2        great socks for the money. nice socks, great c...\n",
              "3        slick hat! i bought this for my husband and wo...\n",
              "4        i would do it again! perfect dress and the cus...\n",
              "                               ...                        \n",
              "99995                   five stars my girlfriend loved it.\n",
              "99996                               four stars great shirt\n",
              "99997                               five stars sweet shirt\n",
              "99998                            five stars very well made\n",
              "99999         so great! this was a hit at the baby shower!\n",
              "Name: review_body, Length: 99947, dtype: object"
            ]
          },
          "metadata": {},
          "execution_count": 13
        }
      ]
    },
    {
      "cell_type": "code",
      "metadata": {
        "id": "RTFDUv9zWgUf"
      },
      "source": [
        "# Removal of numbers and digits\n",
        "import re      # Import REGEX\n",
        "def remove_numbers(text):\n",
        "  text = re.sub(r'\\d+', '', str(text))\n",
        "  return text\n",
        "\n",
        "df['review_body'] = df.apply(lambda row: remove_numbers(row['review_body']), axis=1)\n"
      ],
      "execution_count": 14,
      "outputs": []
    },
    {
      "cell_type": "code",
      "metadata": {
        "id": "57xUt-yzYALg"
      },
      "source": [
        "# Removal of special characters\n",
        "import re, string, unicodedata # Import Regex, string and unicodedata.\n",
        "def remove_non_ascii(words):\n",
        "    words = unicodedata.normalize('NFKD', words).encode('ascii', 'ignore').decode('utf-8', 'ignore')\n",
        "    return words\n",
        "\n",
        "df['review_body'] = df.apply(lambda row: remove_non_ascii(row['review_body']), axis=1)"
      ],
      "execution_count": 15,
      "outputs": []
    },
    {
      "cell_type": "code",
      "metadata": {
        "id": "l2GwxbzuYIN_"
      },
      "source": [
        "# Removal of punctuation\n",
        "import re      # Import REGEX\n",
        "def remove_punctuation(text):\n",
        "  text = re.sub(r'[^\\w\\s]', '', str(text))\n",
        "  return text\n",
        "\n",
        "df['review_body'] = df.apply(lambda row: remove_punctuation(row['review_body']), axis=1)\n"
      ],
      "execution_count": 16,
      "outputs": []
    },
    {
      "cell_type": "code",
      "metadata": {
        "id": "3673tp0ZYZ7Y"
      },
      "source": [
        "# Import nltk stop words\n",
        "# # Removal of stop words\n",
        "import nltk\n",
        "from nltk.corpus import stopwords            #Stopwords corpus\n",
        "stopwords = stopwords.words('english')"
      ],
      "execution_count": 17,
      "outputs": []
    },
    {
      "cell_type": "code",
      "metadata": {
        "id": "Fn-foBgoYmYo"
      },
      "source": [
        "# Customising the stop words - we need to review this\n",
        "customlist = ['not', \"couldn't\", 'didn', \"didn't\", 'doesn', \"doesn't\", 'hadn', \"hadn't\", 'hasn',\n",
        "        \"hasn't\", 'haven', \"haven't\", 'isn', \"isn't\", 'ma', 'mightn', \"mightn't\", 'mustn',\n",
        "        \"mustn't\", 'needn', \"needn't\", 'shan', \"shan't\", 'shouldn', \"shouldn't\", 'wasn',\n",
        "        \"wasn't\", 'weren', \"weren't\", 'won', \"won't\", 'wouldn', \"wouldn't\"]\n",
        "\n",
        "# # Set custom stop-word's list as not, couldn't etc. words matter in Sentiment, so not removing them from original data.\n",
        "\n",
        "stopwords = list(set(stopwords) - set(customlist))"
      ],
      "execution_count": 18,
      "outputs": []
    },
    {
      "cell_type": "code",
      "metadata": {
        "colab": {
          "base_uri": "https://localhost:8080/"
        },
        "id": "qU_47LfyYq06",
        "outputId": "69f600b2-7a65-4e39-b357-4844df51bdd2"
      },
      "source": [
        "# after cleaning text, bring the words into a list\n",
        "df['review_body'] = df.apply(lambda row: nltk.word_tokenize(row['review_body']), axis=1)\n",
        "df['review_body']"
      ],
      "execution_count": 19,
      "outputs": [
        {
          "output_type": "execute_result",
          "data": {
            "text/plain": [
              "0        [these, really, do, work, great, with, some, t...\n",
              "1        [favorite, for, winter, very, warm, i, love, t...\n",
              "2        [great, socks, for, the, money, nice, socks, g...\n",
              "3        [slick, hat, i, bought, this, for, my, husband...\n",
              "4        [i, would, do, it, again, perfect, dress, and,...\n",
              "                               ...                        \n",
              "99995             [five, stars, my, girlfriend, loved, it]\n",
              "99996                          [four, stars, great, shirt]\n",
              "99997                          [five, stars, sweet, shirt]\n",
              "99998                      [five, stars, very, well, made]\n",
              "99999    [so, great, this, was, a, hit, at, the, baby, ...\n",
              "Name: review_body, Length: 99947, dtype: object"
            ]
          },
          "metadata": {},
          "execution_count": 19
        }
      ]
    },
    {
      "cell_type": "markdown",
      "metadata": {
        "id": "UlcIQtgryy47"
      },
      "source": [
        "### EDA and Feature Engineering"
      ]
    },
    {
      "cell_type": "code",
      "metadata": {
        "id": "UyzhOFk8zR6v",
        "colab": {
          "base_uri": "https://localhost:8080/",
          "height": 297
        },
        "outputId": "65583e75-cfd1-49e7-fe64-2a4789c4d26d"
      },
      "source": [
        "# Quick check: Using discriptive statistics + measures of dispersion\n",
        "# Note: customer_id and product_parent are random numbers not for descriptive analysis\n",
        "df_discriptive = df.drop(['customer_id', 'product_parent'],axis = 1,inplace = False)\n",
        "df_discriptive.describe()"
      ],
      "execution_count": 20,
      "outputs": [
        {
          "output_type": "execute_result",
          "data": {
            "text/html": [
              "<div>\n",
              "<style scoped>\n",
              "    .dataframe tbody tr th:only-of-type {\n",
              "        vertical-align: middle;\n",
              "    }\n",
              "\n",
              "    .dataframe tbody tr th {\n",
              "        vertical-align: top;\n",
              "    }\n",
              "\n",
              "    .dataframe thead th {\n",
              "        text-align: right;\n",
              "    }\n",
              "</style>\n",
              "<table border=\"1\" class=\"dataframe\">\n",
              "  <thead>\n",
              "    <tr style=\"text-align: right;\">\n",
              "      <th></th>\n",
              "      <th>star_rating</th>\n",
              "      <th>helpful_votes</th>\n",
              "      <th>total_votes</th>\n",
              "      <th>vine</th>\n",
              "      <th>verified_purchase</th>\n",
              "      <th>Year</th>\n",
              "    </tr>\n",
              "  </thead>\n",
              "  <tbody>\n",
              "    <tr>\n",
              "      <th>count</th>\n",
              "      <td>99947.000000</td>\n",
              "      <td>99947.000000</td>\n",
              "      <td>99947.000000</td>\n",
              "      <td>99947.000000</td>\n",
              "      <td>99947.000000</td>\n",
              "      <td>99944.000000</td>\n",
              "    </tr>\n",
              "    <tr>\n",
              "      <th>mean</th>\n",
              "      <td>3.944611</td>\n",
              "      <td>1.592004</td>\n",
              "      <td>1.867490</td>\n",
              "      <td>0.003672</td>\n",
              "      <td>0.872833</td>\n",
              "      <td>2014.999530</td>\n",
              "    </tr>\n",
              "    <tr>\n",
              "      <th>std</th>\n",
              "      <td>1.399111</td>\n",
              "      <td>11.264699</td>\n",
              "      <td>11.762749</td>\n",
              "      <td>0.060486</td>\n",
              "      <td>0.333162</td>\n",
              "      <td>0.039632</td>\n",
              "    </tr>\n",
              "    <tr>\n",
              "      <th>min</th>\n",
              "      <td>1.000000</td>\n",
              "      <td>0.000000</td>\n",
              "      <td>0.000000</td>\n",
              "      <td>0.000000</td>\n",
              "      <td>0.000000</td>\n",
              "      <td>2008.000000</td>\n",
              "    </tr>\n",
              "    <tr>\n",
              "      <th>25%</th>\n",
              "      <td>3.000000</td>\n",
              "      <td>0.000000</td>\n",
              "      <td>0.000000</td>\n",
              "      <td>0.000000</td>\n",
              "      <td>1.000000</td>\n",
              "      <td>2015.000000</td>\n",
              "    </tr>\n",
              "    <tr>\n",
              "      <th>50%</th>\n",
              "      <td>5.000000</td>\n",
              "      <td>0.000000</td>\n",
              "      <td>0.000000</td>\n",
              "      <td>0.000000</td>\n",
              "      <td>1.000000</td>\n",
              "      <td>2015.000000</td>\n",
              "    </tr>\n",
              "    <tr>\n",
              "      <th>75%</th>\n",
              "      <td>5.000000</td>\n",
              "      <td>1.000000</td>\n",
              "      <td>1.000000</td>\n",
              "      <td>0.000000</td>\n",
              "      <td>1.000000</td>\n",
              "      <td>2015.000000</td>\n",
              "    </tr>\n",
              "    <tr>\n",
              "      <th>max</th>\n",
              "      <td>5.000000</td>\n",
              "      <td>1655.000000</td>\n",
              "      <td>1679.000000</td>\n",
              "      <td>1.000000</td>\n",
              "      <td>1.000000</td>\n",
              "      <td>2015.000000</td>\n",
              "    </tr>\n",
              "  </tbody>\n",
              "</table>\n",
              "</div>"
            ],
            "text/plain": [
              "        star_rating  helpful_votes  ...  verified_purchase          Year\n",
              "count  99947.000000   99947.000000  ...       99947.000000  99944.000000\n",
              "mean       3.944611       1.592004  ...           0.872833   2014.999530\n",
              "std        1.399111      11.264699  ...           0.333162      0.039632\n",
              "min        1.000000       0.000000  ...           0.000000   2008.000000\n",
              "25%        3.000000       0.000000  ...           1.000000   2015.000000\n",
              "50%        5.000000       0.000000  ...           1.000000   2015.000000\n",
              "75%        5.000000       1.000000  ...           1.000000   2015.000000\n",
              "max        5.000000    1655.000000  ...           1.000000   2015.000000\n",
              "\n",
              "[8 rows x 6 columns]"
            ]
          },
          "metadata": {},
          "execution_count": 20
        }
      ]
    },
    {
      "cell_type": "code",
      "metadata": {
        "colab": {
          "base_uri": "https://localhost:8080/"
        },
        "id": "wKlmiKogryTr",
        "outputId": "8697dc62-7f56-44dd-b575-0ad580ea7a23"
      },
      "source": [
        "df_discriptive.info()"
      ],
      "execution_count": 32,
      "outputs": [
        {
          "output_type": "stream",
          "name": "stdout",
          "text": [
            "<class 'pandas.core.frame.DataFrame'>\n",
            "Int64Index: 99947 entries, 0 to 99999\n",
            "Data columns (total 10 columns):\n",
            " #   Column             Non-Null Count  Dtype         \n",
            "---  ------             --------------  -----         \n",
            " 0   product_id         99947 non-null  object        \n",
            " 1   product_title      99947 non-null  object        \n",
            " 2   star_rating        99947 non-null  int64         \n",
            " 3   helpful_votes      99947 non-null  int64         \n",
            " 4   total_votes        99947 non-null  int64         \n",
            " 5   vine               99947 non-null  int64         \n",
            " 6   verified_purchase  99947 non-null  int64         \n",
            " 7   review_body        99947 non-null  object        \n",
            " 8   review_date        99944 non-null  datetime64[ns]\n",
            " 9   Year               99944 non-null  float64       \n",
            "dtypes: datetime64[ns](1), float64(1), int64(5), object(3)\n",
            "memory usage: 8.4+ MB\n"
          ]
        }
      ]
    },
    {
      "cell_type": "code",
      "metadata": {
        "id": "69ZlPecRzaOc",
        "colab": {
          "base_uri": "https://localhost:8080/",
          "height": 280
        },
        "outputId": "58b3948e-20eb-4f7b-e774-ced3daecd880"
      },
      "source": [
        "# Check the distribution of the star rating with the DataFrame | reference chart: https://www.datacamp.com/community/tutorials/histograms-matplotlib\n",
        "# plt.hist(df.star_rating, bins='auto', color = \"skyblue\", ec='grey')\n",
        "# plt.gca().set(title='Frequency Histogram | Review Stars |', ylabel='Frequency',xlabel = 'stars',alpha=0.7, rwidth=0.85);\n",
        "# plt.show()\n",
        "\n",
        "(len(df)-df.count())/len(df)\n",
        "sns.countplot(x='star_rating',data=df)\n",
        "plt.show()\n",
        "\n",
        "\n",
        "\n",
        "\n",
        "\n",
        "# Looking at product reviews vs date | seems we can extra clean outliers outside 2015 #todo\n"
      ],
      "execution_count": 42,
      "outputs": [
        {
          "output_type": "display_data",
          "data": {
            "image/png": "[encoded data removed]",
            "text/plain": [
              "<Figure size 432x288 with 1 Axes>"
            ]
          },
          "metadata": {
            "needs_background": "light"
          }
        }
      ]
    },
    {
      "cell_type": "code",
      "metadata": {
        "id": "HhEgJ_k4C5LX",
        "colab": {
          "base_uri": "https://localhost:8080/",
          "height": 359
        },
        "outputId": "e505368b-ecaf-4875-b4c3-f04840eca241"
      },
      "source": [
        "# (4) Choose the label and features\n",
        "selectedFeatures = ['product_id','star_rating', 'total_votes', 'helpful_votes','vine','verified_purchase']\n",
        "features = df.loc[:, selectedFeatures]\n",
        "\n",
        "features[0:10]\n"
      ],
      "execution_count": 36,
      "outputs": [
        {
          "output_type": "execute_result",
          "data": {
            "text/html": [
              "<div>\n",
              "<style scoped>\n",
              "    .dataframe tbody tr th:only-of-type {\n",
              "        vertical-align: middle;\n",
              "    }\n",
              "\n",
              "    .dataframe tbody tr th {\n",
              "        vertical-align: top;\n",
              "    }\n",
              "\n",
              "    .dataframe thead th {\n",
              "        text-align: right;\n",
              "    }\n",
              "</style>\n",
              "<table border=\"1\" class=\"dataframe\">\n",
              "  <thead>\n",
              "    <tr style=\"text-align: right;\">\n",
              "      <th></th>\n",
              "      <th>product_id</th>\n",
              "      <th>star_rating</th>\n",
              "      <th>total_votes</th>\n",
              "      <th>helpful_votes</th>\n",
              "      <th>vine</th>\n",
              "      <th>verified_purchase</th>\n",
              "    </tr>\n",
              "  </thead>\n",
              "  <tbody>\n",
              "    <tr>\n",
              "      <th>0</th>\n",
              "      <td>B01KL6O72Y</td>\n",
              "      <td>4</td>\n",
              "      <td>0</td>\n",
              "      <td>0</td>\n",
              "      <td>0</td>\n",
              "      <td>1</td>\n",
              "    </tr>\n",
              "    <tr>\n",
              "      <th>1</th>\n",
              "      <td>B01ID3ZS5W</td>\n",
              "      <td>5</td>\n",
              "      <td>2</td>\n",
              "      <td>1</td>\n",
              "      <td>0</td>\n",
              "      <td>1</td>\n",
              "    </tr>\n",
              "    <tr>\n",
              "      <th>2</th>\n",
              "      <td>B01I497BGY</td>\n",
              "      <td>5</td>\n",
              "      <td>0</td>\n",
              "      <td>0</td>\n",
              "      <td>0</td>\n",
              "      <td>1</td>\n",
              "    </tr>\n",
              "    <tr>\n",
              "      <th>3</th>\n",
              "      <td>B01HDXFZK6</td>\n",
              "      <td>5</td>\n",
              "      <td>0</td>\n",
              "      <td>0</td>\n",
              "      <td>0</td>\n",
              "      <td>1</td>\n",
              "    </tr>\n",
              "    <tr>\n",
              "      <th>4</th>\n",
              "      <td>B01G6MBEBY</td>\n",
              "      <td>5</td>\n",
              "      <td>0</td>\n",
              "      <td>0</td>\n",
              "      <td>0</td>\n",
              "      <td>1</td>\n",
              "    </tr>\n",
              "    <tr>\n",
              "      <th>5</th>\n",
              "      <td>B01FWRXN0Y</td>\n",
              "      <td>5</td>\n",
              "      <td>0</td>\n",
              "      <td>0</td>\n",
              "      <td>0</td>\n",
              "      <td>1</td>\n",
              "    </tr>\n",
              "    <tr>\n",
              "      <th>6</th>\n",
              "      <td>B01EXNH1HE</td>\n",
              "      <td>5</td>\n",
              "      <td>0</td>\n",
              "      <td>0</td>\n",
              "      <td>0</td>\n",
              "      <td>1</td>\n",
              "    </tr>\n",
              "    <tr>\n",
              "      <th>7</th>\n",
              "      <td>B01E7OL09O</td>\n",
              "      <td>4</td>\n",
              "      <td>0</td>\n",
              "      <td>0</td>\n",
              "      <td>0</td>\n",
              "      <td>1</td>\n",
              "    </tr>\n",
              "    <tr>\n",
              "      <th>8</th>\n",
              "      <td>B01DXHX81O</td>\n",
              "      <td>5</td>\n",
              "      <td>0</td>\n",
              "      <td>0</td>\n",
              "      <td>0</td>\n",
              "      <td>1</td>\n",
              "    </tr>\n",
              "    <tr>\n",
              "      <th>9</th>\n",
              "      <td>B01DDULIJK</td>\n",
              "      <td>3</td>\n",
              "      <td>0</td>\n",
              "      <td>0</td>\n",
              "      <td>0</td>\n",
              "      <td>1</td>\n",
              "    </tr>\n",
              "  </tbody>\n",
              "</table>\n",
              "</div>"
            ],
            "text/plain": [
              "   product_id  star_rating  total_votes  helpful_votes  vine  verified_purchase\n",
              "0  B01KL6O72Y            4            0              0     0                  1\n",
              "1  B01ID3ZS5W            5            2              1     0                  1\n",
              "2  B01I497BGY            5            0              0     0                  1\n",
              "3  B01HDXFZK6            5            0              0     0                  1\n",
              "4  B01G6MBEBY            5            0              0     0                  1\n",
              "5  B01FWRXN0Y            5            0              0     0                  1\n",
              "6  B01EXNH1HE            5            0              0     0                  1\n",
              "7  B01E7OL09O            4            0              0     0                  1\n",
              "8  B01DXHX81O            5            0              0     0                  1\n",
              "9  B01DDULIJK            3            0              0     0                  1"
            ]
          },
          "metadata": {},
          "execution_count": 36
        }
      ]
    },
    {
      "cell_type": "code",
      "metadata": {
        "id": "6bAuUZonC5LX",
        "colab": {
          "base_uri": "https://localhost:8080/",
          "height": 583
        },
        "outputId": "b3af1254-4bf6-40c7-eede-472537405c0e"
      },
      "source": [
        "# (5) Feature engineer for data that is\n",
        "# (a) relevant \n",
        "# (b) unique\n",
        "# (c) correct \n",
        "# (d) not missing\n",
        "fig, axes = plt.subplots(1, figsize=(15,8))\n",
        "fig.suptitle(\"Comparing Ratio of Neutral Negative and Positive ratings\", fontsize = 25)\n",
        "plt.tight_layout(pad = 3.5)\n",
        "sns.countplot(x = \"star_rating\", data = df)\n",
        "axes.set_xlabel(\"Sentiment\", fontsize = 20)\n",
        "axes.set_ylabel(\"Count\", fontsize = 20)\n",
        "sns.despine()\n",
        "\n",
        "# Drop data that is not a,b,c, or d\n",
        "# Use one-hot encoding for nominal\n",
        "# Reduce dimensions of your features"
      ],
      "execution_count": 45,
      "outputs": [
        {
          "output_type": "display_data",
          "data": {
            "image/png": "[encoded data removed]",
            "text/plain": [
              "<Figure size 1080x576 with 1 Axes>"
            ]
          },
          "metadata": {
            "needs_background": "light"
          }
        }
      ]
    },
    {
      "cell_type": "code",
      "metadata": {
        "id": "Dq6UgamkC5LY"
      },
      "source": [
        "# (6) Confirm data is ready with further exploratory analysis"
      ],
      "execution_count": null,
      "outputs": []
    },
    {
      "cell_type": "code",
      "metadata": {
        "id": "1hoZ8o-kC5LY"
      },
      "source": [
        "# (7) Training, Testing (and/or Validation) data split \n",
        "\n",
        "# for example, 60/20/20"
      ],
      "execution_count": null,
      "outputs": []
    },
    {
      "cell_type": "code",
      "metadata": {
        "id": "Wh3Mpqv0C5LY"
      },
      "source": [
        "# (7.b) If using Deep Learning, building the model\n",
        "\n",
        "# Add Input Layer\n",
        "# Add Hidden Layers\n",
        "# Add Output"
      ],
      "execution_count": null,
      "outputs": []
    },
    {
      "cell_type": "code",
      "metadata": {
        "id": "RvmY_kfYC5LZ"
      },
      "source": [
        "# (8) Training the Machine Learning Model (i.e, Fitting the Model)"
      ],
      "execution_count": null,
      "outputs": []
    },
    {
      "cell_type": "code",
      "metadata": {
        "id": "EZ01SXbIC5LZ"
      },
      "source": [
        "# (9) Evaluate the model metrics for Training (and/or Validation) data"
      ],
      "execution_count": null,
      "outputs": []
    },
    {
      "cell_type": "code",
      "metadata": {
        "id": "wTpOxodBC5LZ"
      },
      "source": [
        "# (10) Evaluate the model metris for Testing data\n",
        "\n",
        "\n",
        "# If metrics are poor, optimize either (a) the data, (b) the hyperpamaters"
      ],
      "execution_count": null,
      "outputs": []
    },
    {
      "cell_type": "code",
      "metadata": {
        "id": "0kitVPuJC5LZ"
      },
      "source": [
        "# (11) Use the model for prediction"
      ],
      "execution_count": null,
      "outputs": []
    },
    {
      "cell_type": "code",
      "metadata": {
        "id": "9WEaNzAVC5La"
      },
      "source": [
        "# (12) Write final predicted data  (e.g, to CSV or JSON, etc.)"
      ],
      "execution_count": null,
      "outputs": []
    }
  ]
}