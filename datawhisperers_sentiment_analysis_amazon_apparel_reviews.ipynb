{
  "cells": [
    {
      "cell_type": "markdown",
      "metadata": {
        "colab_type": "text",
        "id": "view-in-github"
      },
      "source": [
        "<a href=\"https://colab.research.google.com/github/hisics/-datawhisperers_final-project_dsml2021/blob/main/datawhisperers_sentiment_analysis_amazon_apparel_reviews.ipynb\" target=\"_parent\"><img src=\"https://colab.research.google.com/assets/colab-badge.svg\" alt=\"Open In Colab\"/></a>"
      ]
    },
    {
      "cell_type": "markdown",
      "metadata": {
        "id": "3WLtzXUTC5LN"
      },
      "source": [
        "### Option 8 - Sentiment Analysis for Ecommerce\n",
        "\n",
        "Look at this document for reference,<br/>\n",
        "https://colab.research.google.com/drive/1g6ZtYOOhGUj1WsiPpeaVPp5T7VFw234e?usp=sharing"
      ]
    },
    {
      "cell_type": "code",
      "execution_count": null,
      "metadata": {
        "id": "ny7TFp0sC5LV"
      },
      "outputs": [],
      "source": [
        "# (1) Import libraries\n",
        "import pandas as pd"
      ]
    },
    {
      "cell_type": "code",
      "execution_count": 2,
      "metadata": {
        "colab": {
          "base_uri": "https://localhost:8080/"
        },
        "id": "TBaD7dvAC5LW",
        "outputId": "fa9dfa76-1447-485d-85a8-d3683ffcae13"
      },
      "outputs": [
        {
          "name": "stdout",
          "output_type": "stream",
          "text": [
            "^C\n"
          ]
        }
      ],
      "source": [
        "# (2) Download product reviews from Amazon Datasets\n",
        "# You can use reviews from Amazon Datasets for a particular product.\n",
        "# Note that the data are quite large so do not run this cell unless you are willing to wait!\n",
        "# For reference, visit:\n",
        "# https://www.tensorflow.org/datasets/catalog/amazon_us_reviews\n",
        "# https://s3.amazonaws.com/amazon-reviews-pds/readme.html\n",
        "!curl -O https://s3.amazonaws.com/amazon-reviews-pds/tsv/amazon_reviews_us_Apparel_v1_00.tsv.gz"
      ]
    },
    {
      "cell_type": "code",
      "execution_count": 3,
      "metadata": {
        "colab": {
          "base_uri": "https://localhost:8080/"
        },
        "id": "EG7i-4E7DR6P",
        "outputId": "992343eb-b217-4a38-b908-f57fcadc4640"
      },
      "outputs": [
        {
          "name": "stderr",
          "output_type": "stream",
          "text": [
            "'gzip' is not recognized as an internal or external command,\n",
            "operable program or batch file.\n"
          ]
        }
      ],
      "source": [
        "!echo \"y\" | gzip -d amazon_reviews_us_Wireless_v1_00.tsv.gz"
      ]
    },
    {
      "cell_type": "code",
      "execution_count": 4,
      "metadata": {
        "colab": {
          "base_uri": "https://localhost:8080/"
        },
        "id": "W7MGo9e-C5LX",
        "outputId": "d8fa8776-2eb2-4ea1-a554-f7be8748c7b3"
      },
      "outputs": [
        {
          "name": "stderr",
          "output_type": "stream",
          "text": [
            "'ls' is not recognized as an internal or external command,\n",
            "operable program or batch file.\n"
          ]
        }
      ],
      "source": [
        "# (3.a) Read the contents of the folder \n",
        "!ls"
      ]
    },
    {
      "cell_type": "code",
      "execution_count": null,
      "metadata": {
        "id": "iPwqyKTuC5LX"
      },
      "outputs": [],
      "source": [
        "# (3.b) Explore data (for example, see what is categorial and numerical)"
      ]
    },
    {
      "cell_type": "code",
      "execution_count": 5,
      "metadata": {
        "colab": {
          "base_uri": "https://localhost:8080/",
          "height": 1000
        },
        "id": "lytjIOzXD2Zu",
        "outputId": "2ee45f9f-ba09-469b-e4ee-58a638b39643"
      },
      "outputs": [
        {
          "name": "stdout",
          "output_type": "stream",
          "text": [
            "<class 'pandas.core.frame.DataFrame'>\n",
            "RangeIndex: 500 entries, 0 to 499\n",
            "Data columns (total 15 columns):\n",
            " #   Column             Non-Null Count  Dtype \n",
            "---  ------             --------------  ----- \n",
            " 0   marketplace        500 non-null    object\n",
            " 1   customer_id        500 non-null    int64 \n",
            " 2   review_id          500 non-null    object\n",
            " 3   product_id         500 non-null    object\n",
            " 4   product_parent     500 non-null    int64 \n",
            " 5   product_title      500 non-null    object\n",
            " 6   product_category   500 non-null    object\n",
            " 7   star_rating        500 non-null    int64 \n",
            " 8   helpful_votes      500 non-null    int64 \n",
            " 9   total_votes        500 non-null    int64 \n",
            " 10  vine               500 non-null    object\n",
            " 11  verified_purchase  500 non-null    object\n",
            " 12  review_headline    500 non-null    object\n",
            " 13  review_body        500 non-null    object\n",
            " 14  review_date        500 non-null    object\n",
            "dtypes: int64(5), object(10)\n",
            "memory usage: 58.7+ KB\n"
          ]
        },
        {
          "name": "stderr",
          "output_type": "stream",
          "text": [
            "C:\\Users\\sushma.shetty\\AppData\\Local\\Packages\\PythonSoftwareFoundation.Python.3.9_qbz5n2kfra8p0\\LocalCache\\local-packages\\Python39\\site-packages\\IPython\\core\\interactiveshell.py:3444: FutureWarning: The error_bad_lines argument has been deprecated and will be removed in a future version.\n",
            "\n",
            "\n",
            "  exec(code_obj, self.user_global_ns, self.user_ns)\n"
          ]
        },
        {
          "data": {
            "text/html": [
              "<div>\n",
              "<style scoped>\n",
              "    .dataframe tbody tr th:only-of-type {\n",
              "        vertical-align: middle;\n",
              "    }\n",
              "\n",
              "    .dataframe tbody tr th {\n",
              "        vertical-align: top;\n",
              "    }\n",
              "\n",
              "    .dataframe thead th {\n",
              "        text-align: right;\n",
              "    }\n",
              "</style>\n",
              "<table border=\"1\" class=\"dataframe\">\n",
              "  <thead>\n",
              "    <tr style=\"text-align: right;\">\n",
              "      <th></th>\n",
              "      <th>marketplace</th>\n",
              "      <th>customer_id</th>\n",
              "      <th>review_id</th>\n",
              "      <th>product_id</th>\n",
              "      <th>product_parent</th>\n",
              "      <th>product_title</th>\n",
              "      <th>product_category</th>\n",
              "      <th>star_rating</th>\n",
              "      <th>helpful_votes</th>\n",
              "      <th>total_votes</th>\n",
              "      <th>vine</th>\n",
              "      <th>verified_purchase</th>\n",
              "      <th>review_headline</th>\n",
              "      <th>review_body</th>\n",
              "      <th>review_date</th>\n",
              "    </tr>\n",
              "  </thead>\n",
              "  <tbody>\n",
              "    <tr>\n",
              "      <th>0</th>\n",
              "      <td>US</td>\n",
              "      <td>32158956</td>\n",
              "      <td>R1KKOXHNI8MSXU</td>\n",
              "      <td>B01KL6O72Y</td>\n",
              "      <td>24485154</td>\n",
              "      <td>Easy Tool Stainless Steel Fruit Pineapple Core...</td>\n",
              "      <td>Apparel</td>\n",
              "      <td>4</td>\n",
              "      <td>0</td>\n",
              "      <td>0</td>\n",
              "      <td>N</td>\n",
              "      <td>Y</td>\n",
              "      <td>★ THESE REALLY DO WORK GREAT WITH SOME TWEAKING ★</td>\n",
              "      <td>These Really Do Work Great, But You Do Need To...</td>\n",
              "      <td>2013-01-14</td>\n",
              "    </tr>\n",
              "    <tr>\n",
              "      <th>1</th>\n",
              "      <td>US</td>\n",
              "      <td>2714559</td>\n",
              "      <td>R26SP2OPDK4HT7</td>\n",
              "      <td>B01ID3ZS5W</td>\n",
              "      <td>363128556</td>\n",
              "      <td>V28 Women Cowl Neck Knit Stretchable Elasticit...</td>\n",
              "      <td>Apparel</td>\n",
              "      <td>5</td>\n",
              "      <td>1</td>\n",
              "      <td>2</td>\n",
              "      <td>N</td>\n",
              "      <td>Y</td>\n",
              "      <td>Favorite for winter. Very warm!</td>\n",
              "      <td>I love this dress. Absolute favorite for winte...</td>\n",
              "      <td>2014-03-04</td>\n",
              "    </tr>\n",
              "    <tr>\n",
              "      <th>2</th>\n",
              "      <td>US</td>\n",
              "      <td>12608825</td>\n",
              "      <td>RWQEDYAX373I1</td>\n",
              "      <td>B01I497BGY</td>\n",
              "      <td>811958549</td>\n",
              "      <td>James Fiallo Men's 12-Pairs Low Cut Athletic S...</td>\n",
              "      <td>Apparel</td>\n",
              "      <td>5</td>\n",
              "      <td>0</td>\n",
              "      <td>0</td>\n",
              "      <td>N</td>\n",
              "      <td>Y</td>\n",
              "      <td>Great Socks for the money.</td>\n",
              "      <td>Nice socks, great colors, just enough support ...</td>\n",
              "      <td>2015-07-12</td>\n",
              "    </tr>\n",
              "    <tr>\n",
              "      <th>3</th>\n",
              "      <td>US</td>\n",
              "      <td>25482800</td>\n",
              "      <td>R231YI7R4GPF6J</td>\n",
              "      <td>B01HDXFZK6</td>\n",
              "      <td>692205728</td>\n",
              "      <td>Belfry Gangster 100% Wool Stain-Resistant Crus...</td>\n",
              "      <td>Apparel</td>\n",
              "      <td>5</td>\n",
              "      <td>0</td>\n",
              "      <td>0</td>\n",
              "      <td>N</td>\n",
              "      <td>Y</td>\n",
              "      <td>Slick hat!</td>\n",
              "      <td>I bought this for my husband and WOW, this is ...</td>\n",
              "      <td>2015-06-03</td>\n",
              "    </tr>\n",
              "    <tr>\n",
              "      <th>4</th>\n",
              "      <td>US</td>\n",
              "      <td>9310286</td>\n",
              "      <td>R3KO3W45DD0L1K</td>\n",
              "      <td>B01G6MBEBY</td>\n",
              "      <td>431150422</td>\n",
              "      <td>JAEDEN Women's Beaded Spaghetti Straps Sexy Lo...</td>\n",
              "      <td>Apparel</td>\n",
              "      <td>5</td>\n",
              "      <td>0</td>\n",
              "      <td>0</td>\n",
              "      <td>N</td>\n",
              "      <td>Y</td>\n",
              "      <td>I would do it again!</td>\n",
              "      <td>Perfect dress and the customer service was awe...</td>\n",
              "      <td>2015-06-12</td>\n",
              "    </tr>\n",
              "    <tr>\n",
              "      <th>...</th>\n",
              "      <td>...</td>\n",
              "      <td>...</td>\n",
              "      <td>...</td>\n",
              "      <td>...</td>\n",
              "      <td>...</td>\n",
              "      <td>...</td>\n",
              "      <td>...</td>\n",
              "      <td>...</td>\n",
              "      <td>...</td>\n",
              "      <td>...</td>\n",
              "      <td>...</td>\n",
              "      <td>...</td>\n",
              "      <td>...</td>\n",
              "      <td>...</td>\n",
              "      <td>...</td>\n",
              "    </tr>\n",
              "    <tr>\n",
              "      <th>495</th>\n",
              "      <td>US</td>\n",
              "      <td>14284226</td>\n",
              "      <td>R28XD9X8YAJQU2</td>\n",
              "      <td>B013MK0GPI</td>\n",
              "      <td>11485117</td>\n",
              "      <td>Fresh Tees Black And White Tuxedo With Bowtie ...</td>\n",
              "      <td>Apparel</td>\n",
              "      <td>5</td>\n",
              "      <td>0</td>\n",
              "      <td>0</td>\n",
              "      <td>N</td>\n",
              "      <td>N</td>\n",
              "      <td>Great Quality print and shirt!</td>\n",
              "      <td>I have a 12 year old son who loves funny shirt...</td>\n",
              "      <td>2015-08-28</td>\n",
              "    </tr>\n",
              "    <tr>\n",
              "      <th>496</th>\n",
              "      <td>US</td>\n",
              "      <td>34547941</td>\n",
              "      <td>ROQS5PB3XQ2EH</td>\n",
              "      <td>B013MK0GPI</td>\n",
              "      <td>11485117</td>\n",
              "      <td>Fresh Tees Black And White Tuxedo With Bowtie ...</td>\n",
              "      <td>Apparel</td>\n",
              "      <td>5</td>\n",
              "      <td>0</td>\n",
              "      <td>0</td>\n",
              "      <td>N</td>\n",
              "      <td>N</td>\n",
              "      <td>good for the price</td>\n",
              "      <td>Soft comfy fruit of the loom shift with an iro...</td>\n",
              "      <td>2015-08-26</td>\n",
              "    </tr>\n",
              "    <tr>\n",
              "      <th>497</th>\n",
              "      <td>US</td>\n",
              "      <td>32845239</td>\n",
              "      <td>R3ATVQGNVCJC2C</td>\n",
              "      <td>B013MK0GPI</td>\n",
              "      <td>11485117</td>\n",
              "      <td>Fresh Tees Black And White Tuxedo With Bowtie ...</td>\n",
              "      <td>Apparel</td>\n",
              "      <td>5</td>\n",
              "      <td>3</td>\n",
              "      <td>3</td>\n",
              "      <td>N</td>\n",
              "      <td>N</td>\n",
              "      <td>My Favorite New T-Shirt, gets people all the t...</td>\n",
              "      <td>I received this product in exchange for a revi...</td>\n",
              "      <td>2015-08-25</td>\n",
              "    </tr>\n",
              "    <tr>\n",
              "      <th>498</th>\n",
              "      <td>US</td>\n",
              "      <td>43923212</td>\n",
              "      <td>R3HWK013CPJ2M4</td>\n",
              "      <td>B013MK0GPI</td>\n",
              "      <td>11485117</td>\n",
              "      <td>Fresh Tees Black And White Tuxedo With Bowtie ...</td>\n",
              "      <td>Apparel</td>\n",
              "      <td>5</td>\n",
              "      <td>1</td>\n",
              "      <td>2</td>\n",
              "      <td>N</td>\n",
              "      <td>N</td>\n",
              "      <td>High quality, great design</td>\n",
              "      <td>I purchased this shirt for my son who is a col...</td>\n",
              "      <td>2015-08-24</td>\n",
              "    </tr>\n",
              "    <tr>\n",
              "      <th>499</th>\n",
              "      <td>US</td>\n",
              "      <td>30240983</td>\n",
              "      <td>R2E93480WI5C7B</td>\n",
              "      <td>B013MGGX7C</td>\n",
              "      <td>477015279</td>\n",
              "      <td>Don't Label Us Graphic Tee for Women and Teens</td>\n",
              "      <td>Apparel</td>\n",
              "      <td>5</td>\n",
              "      <td>0</td>\n",
              "      <td>0</td>\n",
              "      <td>N</td>\n",
              "      <td>N</td>\n",
              "      <td>Nice! Good weight, soft without being flimsy o...</td>\n",
              "      <td>I love the weight fo this shirt and the feel o...</td>\n",
              "      <td>2015-08-09</td>\n",
              "    </tr>\n",
              "  </tbody>\n",
              "</table>\n",
              "<p>500 rows × 15 columns</p>\n",
              "</div>"
            ],
            "text/plain": [
              "    marketplace  customer_id       review_id  product_id  product_parent  \\\n",
              "0            US     32158956  R1KKOXHNI8MSXU  B01KL6O72Y        24485154   \n",
              "1            US      2714559  R26SP2OPDK4HT7  B01ID3ZS5W       363128556   \n",
              "2            US     12608825   RWQEDYAX373I1  B01I497BGY       811958549   \n",
              "3            US     25482800  R231YI7R4GPF6J  B01HDXFZK6       692205728   \n",
              "4            US      9310286  R3KO3W45DD0L1K  B01G6MBEBY       431150422   \n",
              "..          ...          ...             ...         ...             ...   \n",
              "495          US     14284226  R28XD9X8YAJQU2  B013MK0GPI        11485117   \n",
              "496          US     34547941   ROQS5PB3XQ2EH  B013MK0GPI        11485117   \n",
              "497          US     32845239  R3ATVQGNVCJC2C  B013MK0GPI        11485117   \n",
              "498          US     43923212  R3HWK013CPJ2M4  B013MK0GPI        11485117   \n",
              "499          US     30240983  R2E93480WI5C7B  B013MGGX7C       477015279   \n",
              "\n",
              "                                         product_title product_category  \\\n",
              "0    Easy Tool Stainless Steel Fruit Pineapple Core...          Apparel   \n",
              "1    V28 Women Cowl Neck Knit Stretchable Elasticit...          Apparel   \n",
              "2    James Fiallo Men's 12-Pairs Low Cut Athletic S...          Apparel   \n",
              "3    Belfry Gangster 100% Wool Stain-Resistant Crus...          Apparel   \n",
              "4    JAEDEN Women's Beaded Spaghetti Straps Sexy Lo...          Apparel   \n",
              "..                                                 ...              ...   \n",
              "495  Fresh Tees Black And White Tuxedo With Bowtie ...          Apparel   \n",
              "496  Fresh Tees Black And White Tuxedo With Bowtie ...          Apparel   \n",
              "497  Fresh Tees Black And White Tuxedo With Bowtie ...          Apparel   \n",
              "498  Fresh Tees Black And White Tuxedo With Bowtie ...          Apparel   \n",
              "499     Don't Label Us Graphic Tee for Women and Teens          Apparel   \n",
              "\n",
              "     star_rating  helpful_votes  total_votes vine verified_purchase  \\\n",
              "0              4              0            0    N                 Y   \n",
              "1              5              1            2    N                 Y   \n",
              "2              5              0            0    N                 Y   \n",
              "3              5              0            0    N                 Y   \n",
              "4              5              0            0    N                 Y   \n",
              "..           ...            ...          ...  ...               ...   \n",
              "495            5              0            0    N                 N   \n",
              "496            5              0            0    N                 N   \n",
              "497            5              3            3    N                 N   \n",
              "498            5              1            2    N                 N   \n",
              "499            5              0            0    N                 N   \n",
              "\n",
              "                                       review_headline  \\\n",
              "0    ★ THESE REALLY DO WORK GREAT WITH SOME TWEAKING ★   \n",
              "1                      Favorite for winter. Very warm!   \n",
              "2                           Great Socks for the money.   \n",
              "3                                           Slick hat!   \n",
              "4                                 I would do it again!   \n",
              "..                                                 ...   \n",
              "495                     Great Quality print and shirt!   \n",
              "496                                 good for the price   \n",
              "497  My Favorite New T-Shirt, gets people all the t...   \n",
              "498                         High quality, great design   \n",
              "499  Nice! Good weight, soft without being flimsy o...   \n",
              "\n",
              "                                           review_body review_date  \n",
              "0    These Really Do Work Great, But You Do Need To...  2013-01-14  \n",
              "1    I love this dress. Absolute favorite for winte...  2014-03-04  \n",
              "2    Nice socks, great colors, just enough support ...  2015-07-12  \n",
              "3    I bought this for my husband and WOW, this is ...  2015-06-03  \n",
              "4    Perfect dress and the customer service was awe...  2015-06-12  \n",
              "..                                                 ...         ...  \n",
              "495  I have a 12 year old son who loves funny shirt...  2015-08-28  \n",
              "496  Soft comfy fruit of the loom shift with an iro...  2015-08-26  \n",
              "497  I received this product in exchange for a revi...  2015-08-25  \n",
              "498  I purchased this shirt for my son who is a col...  2015-08-24  \n",
              "499  I love the weight fo this shirt and the feel o...  2015-08-09  \n",
              "\n",
              "[500 rows x 15 columns]"
            ]
          },
          "execution_count": 5,
          "metadata": {},
          "output_type": "execute_result"
        }
      ],
      "source": [
        "df = pd.read_table('amazon_reviews_us_Apparel_v1_00.tsv.gz', delim_whitespace=False, error_bad_lines=False, nrows=500)\n",
        "df.info()\n",
        "df\n"
      ]
    },
    {
      "cell_type": "markdown",
      "metadata": {
        "id": "SRkCf5Pk9YCx"
      },
      "source": [
        "###Cleaning data and converting data types\n"
      ]
    },
    {
      "cell_type": "code",
      "execution_count": 6,
      "metadata": {
        "colab": {
          "base_uri": "https://localhost:8080/",
          "height": 815
        },
        "id": "wSPAMKIX2rdt",
        "outputId": "71a61345-4f48-4d1f-f1bf-7ad4309f60e8"
      },
      "outputs": [
        {
          "name": "stdout",
          "output_type": "stream",
          "text": [
            "<class 'pandas.core.frame.DataFrame'>\n",
            "RangeIndex: 500 entries, 0 to 499\n",
            "Data columns (total 12 columns):\n",
            " #   Column             Non-Null Count  Dtype         \n",
            "---  ------             --------------  -----         \n",
            " 0   customer_id        500 non-null    int64         \n",
            " 1   product_id         500 non-null    object        \n",
            " 2   product_parent     500 non-null    int64         \n",
            " 3   product_title      500 non-null    object        \n",
            " 4   star_rating        500 non-null    int64         \n",
            " 5   helpful_votes      500 non-null    int64         \n",
            " 6   total_votes        500 non-null    int64         \n",
            " 7   vine               500 non-null    int64         \n",
            " 8   verified_purchase  500 non-null    int64         \n",
            " 9   review_headline    500 non-null    object        \n",
            " 10  review_body        500 non-null    object        \n",
            " 11  review_date        500 non-null    datetime64[ns]\n",
            "dtypes: datetime64[ns](1), int64(7), object(4)\n",
            "memory usage: 47.0+ KB\n"
          ]
        },
        {
          "name": "stderr",
          "output_type": "stream",
          "text": [
            "  % Total    % Received % Xferd  Average Speed   Time    Time     Time  Current\n",
            "                                 Dload  Upload   Total   Spent    Left  Speed\n",
            "\n",
            "  0     0    0     0    0     0      0      0 --:--:-- --:--:-- --:--:--     0\n",
            "  0  618M    0     0    0     0      0      0 --:--:--  0:00:01 --:--:--     0\n",
            "  0  618M    0  287k    0     0   287k      0  0:36:42  0:00:01  0:36:41  147k\n",
            "  0  618M    0 1800k    0     0   900k      0  0:11:43  0:00:02  0:11:41  612k\n",
            "  1  618M    1 7187k    0     0  2395k      0  0:04:24  0:00:03  0:04:21 1862k\n",
            "  1  618M    1 11.1M    0     0  2848k      0  0:03:42  0:00:04  0:03:38 2344k\n",
            "  2  618M    2 15.4M    0     0  3165k      0  0:03:20  0:00:05  0:03:15 3288k\n",
            "  3  618M    3 19.8M    0     0  3392k      0  0:03:06  0:00:06  0:03:00 4089k\n",
            "  3  618M    3 24.6M    0     0  3602k      0  0:02:55  0:00:07  0:02:48 4758k\n",
            "  4  618M    4 29.3M    0     0  3752k      0  0:02:48  0:00:08  0:02:40 4566k\n",
            "  5  618M    5 34.0M    0     0  3872k      0  0:02:43  0:00:09  0:02:34 4691k\n",
            "  6  618M    6 38.1M    0     0  3909k      0  0:02:42  0:00:10  0:02:32 4652k\n",
            "  6  618M    6 42.3M    0     0  3937k      0  0:02:40  0:00:11  0:02:29 4592k\n",
            "  7  618M    7 46.4M    0     0  3962k      0  0:02:39  0:00:12  0:02:27 4467k\n",
            "  8  618M    8 50.5M    0     0  3984k      0  0:02:38  0:00:13  0:02:25 4355k\n",
            "  8  618M    8 54.7M    0     0  4001k      0  0:02:38  0:00:14  0:02:24 4233k\n",
            "  9  618M    9 58.8M    0     0  4017k      0  0:02:37  0:00:15  0:02:22 4233k\n",
            " 10  618M   10 62.9M    0     0  4030k      0  0:02:37  0:00:16  0:02:21 4233k\n",
            " 10  618M   10 67.1M    0     0  4042k      0  0:02:36  0:00:17  0:02:19 4233k\n",
            " 11  618M   11 70.3M    0     0  4004k      0  0:02:38  0:00:18  0:02:20 4057k\n",
            " 12  618M   12 75.3M    0     0  4060k      0  0:02:35  0:00:19  0:02:16 4227k\n",
            " 12  618M   12 79.5M    0     0  4071k      0  0:02:35  0:00:20  0:02:15 4233k\n",
            " 13  618M   13 83.6M    0     0  4077k      0  0:02:35  0:00:21  0:02:14 4227k\n",
            " 14  618M   14 87.7M    0     0  4085k      0  0:02:35  0:00:22  0:02:13 4233k\n",
            " 14  618M   14 91.9M    0     0  4092k      0  0:02:34  0:00:23  0:02:11 4409k\n",
            " 15  618M   15 95.7M    0     0  4086k      0  0:02:35  0:00:24  0:02:11 4182k\n",
            " 16  618M   16  100M    0     0  4096k      0  0:02:34  0:00:25  0:02:09 4198k\n",
            " 16  618M   16  104M    0     0  4108k      0  0:02:34  0:00:26  0:02:08 4240k\n",
            " 17  618M   17  108M    0     0  4113k      0  0:02:33  0:00:27  0:02:06 4236k\n",
            " 18  618M   18  112M    0     0  4116k      0  0:02:33  0:00:28  0:02:05 4227k\n",
            " 18  618M   18  116M    0     0  4122k      0  0:02:33  0:00:29  0:02:04 4294k\n",
            " 19  618M   19  120M    0     0  4125k      0  0:02:33  0:00:30  0:02:03 4272k\n",
            " 20  618M   20  124M    0     0  4128k      0  0:02:33  0:00:31  0:02:02 4230k\n",
            " 20  618M   20  129M    0     0  4130k      0  0:02:33  0:00:32  0:02:01 4220k\n",
            " 21  618M   21  133M    0     0  4131k      0  0:02:33  0:00:33  0:02:00 4211k\n",
            " 22  618M   22  137M    0     0  4131k      0  0:02:33  0:00:34  0:01:59 4185k\n",
            " 22  618M   22  141M    0     0  4134k      0  0:02:33  0:00:35  0:01:58 4185k\n",
            " 23  618M   23  145M    0     0  4136k      0  0:02:33  0:00:36  0:01:57 4185k\n",
            " 24  618M   24  149M    0     0  4137k      0  0:02:33  0:00:37  0:01:56 4182k\n",
            " 24  618M   24  153M    0     0  4136k      0  0:02:33  0:00:38  0:01:55 4176k\n",
            " 25  618M   25  157M    0     0  4133k      0  0:02:33  0:00:39  0:01:54 4147k\n",
            " 26  618M   26  161M    0     0  4134k      0  0:02:33  0:00:40  0:01:53 4137k\n",
            " 26  618M   26  165M    0     0  4137k      0  0:02:33  0:00:41  0:01:52 4144k\n",
            " 27  618M   27  169M    0     0  4138k      0  0:02:33  0:00:42  0:01:51 4147k\n",
            " 28  618M   28  173M    0     0  4141k      0  0:02:32  0:00:43  0:01:49 4176k\n",
            " 28  618M   28  178M    0     0  4144k      0  0:02:32  0:00:44  0:01:48 4227k\n",
            " 29  618M   29  182M    0     0  4145k      0  0:02:32  0:00:45  0:01:47 4233k\n",
            " 30  618M   30  186M    0     0  4147k      0  0:02:32  0:00:46  0:01:46 4233k\n",
            " 30  618M   30  190M    0     0  4148k      0  0:02:32  0:00:47  0:01:45 4233k\n",
            " 31  618M   31  194M    0     0  4150k      0  0:02:32  0:00:48  0:01:44 4227k\n",
            " 32  618M   32  198M    0     0  4153k      0  0:02:32  0:00:49  0:01:43 4240k\n",
            " 32  618M   32  202M    0     0  4154k      0  0:02:32  0:00:50  0:01:42 4236k\n",
            " 33  618M   33  206M    0     0  4145k      0  0:02:32  0:00:51  0:01:41 4058k\n",
            " 34  618M   34  211M    0     0  4156k      0  0:02:32  0:00:52  0:01:40 4224k\n",
            " 34  618M   34  215M    0     0  4159k      0  0:02:32  0:00:53  0:01:39 4246k\n",
            " 35  618M   35  219M    0     0  4159k      0  0:02:32  0:00:54  0:01:38 4217k\n",
            " 36  618M   36  223M    0     0  4160k      0  0:02:32  0:00:55  0:01:37 4211k\n",
            " 36  618M   36  227M    0     0  4161k      0  0:02:32  0:00:56  0:01:36 4398k\n",
            " 37  618M   37  231M    0     0  4161k      0  0:02:32  0:00:57  0:01:35 4220k\n",
            " 38  618M   38  235M    0     0  4162k      0  0:02:32  0:00:58  0:01:34 4198k\n",
            " 38  618M   38  239M    0     0  4158k      0  0:02:32  0:00:59  0:01:33 4140k\n",
            " 39  618M   39  243M    0     0  4158k      0  0:02:32  0:01:00  0:01:32 4137k\n",
            " 40  618M   40  247M    0     0  4157k      0  0:02:32  0:01:01  0:01:31 4112k\n",
            " 40  618M   40  251M    0     0  4155k      0  0:02:32  0:01:02  0:01:30 4089k\n",
            " 41  618M   41  255M    0     0  4154k      0  0:02:32  0:01:03  0:01:29 4064k\n",
            " 41  618M   41  259M    0     0  4153k      0  0:02:32  0:01:04  0:01:28 4096k\n",
            " 42  618M   42  263M    0     0  4150k      0  0:02:32  0:01:05  0:01:27 4054k\n",
            " 43  618M   43  267M    0     0  4150k      0  0:02:32  0:01:06  0:01:26 4064k\n",
            " 43  618M   43  271M    0     0  4151k      0  0:02:32  0:01:07  0:01:25 4102k\n",
            " 44  618M   44  275M    0     0  4153k      0  0:02:32  0:01:08  0:01:24 4134k\n",
            " 45  618M   45  279M    0     0  4153k      0  0:02:32  0:01:09  0:01:23 4150k\n",
            " 45  618M   45  283M    0     0  4153k      0  0:02:32  0:01:10  0:01:22 4192k\n",
            " 46  618M   46  287M    0     0  4153k      0  0:02:32  0:01:11  0:01:21 4188k\n",
            " 47  618M   47  292M    0     0  4152k      0  0:02:32  0:01:12  0:01:20 4166k\n",
            " 47  618M   47  295M    0     0  4150k      0  0:02:32  0:01:13  0:01:19 4112k\n",
            " 48  618M   48  300M    0     0  4153k      0  0:02:32  0:01:14  0:01:18 4156k\n",
            " 49  618M   49  304M    0     0  4154k      0  0:02:32  0:01:15  0:01:17 4179k\n",
            " 49  618M   49  308M    0     0  4155k      0  0:02:32  0:01:16  0:01:16 4188k\n",
            " 50  618M   50  312M    0     0  4157k      0  0:02:32  0:01:17  0:01:15 4224k\n",
            " 51  618M   51  316M    0     0  4157k      0  0:02:32  0:01:18  0:01:14 4265k\n",
            " 51  618M   51  320M    0     0  4159k      0  0:02:32  0:01:19  0:01:13 4243k\n",
            " 52  618M   52  324M    0     0  4159k      0  0:02:32  0:01:20  0:01:12 4220k\n",
            " 53  618M   53  329M    0     0  4161k      0  0:02:32  0:01:21  0:01:11 4249k\n",
            " 53  618M   53  333M    0     0  4162k      0  0:02:32  0:01:22  0:01:10 4233k\n",
            " 54  618M   54  337M    0     0  4163k      0  0:02:32  0:01:23  0:01:09 4249k\n",
            " 55  618M   55  341M    0     0  4164k      0  0:02:32  0:01:24  0:01:08 4243k\n",
            " 55  618M   55  345M    0     0  4164k      0  0:02:32  0:01:25  0:01:07 4252k\n",
            " 56  618M   56  349M    0     0  4165k      0  0:02:32  0:01:26  0:01:06 4240k\n",
            " 57  618M   57  353M    0     0  4165k      0  0:02:32  0:01:27  0:01:05 4220k\n",
            " 57  618M   57  358M    0     0  4166k      0  0:02:32  0:01:28  0:01:04 4220k\n",
            " 58  618M   58  362M    0     0  4167k      0  0:02:32  0:01:29  0:01:03 4217k\n",
            " 59  618M   59  366M    0     0  4166k      0  0:02:32  0:01:30  0:01:02 4204k\n",
            " 59  618M   59  370M    0     0  4168k      0  0:02:31  0:01:31  0:01:00 4211k\n",
            " 60  618M   60  374M    0     0  4168k      0  0:02:31  0:01:32  0:00:59 4220k\n",
            " 61  618M   61  378M    0     0  4169k      0  0:02:31  0:01:33  0:00:58 4214k\n",
            " 61  618M   61  382M    0     0  4162k      0  0:02:32  0:01:34  0:00:58 4089k\n",
            " 62  618M   62  384M    0     0  4145k      0  0:02:32  0:01:35  0:00:57 3760k\n",
            " 62  618M   62  386M    0     0  4124k      0  0:02:33  0:01:36  0:00:57 3321k\n",
            " 62  618M   62  389M    0     0  4107k      0  0:02:34  0:01:37  0:00:57 2992k\n",
            " 63  618M   63  391M    0     0  4089k      0  0:02:34  0:01:38  0:00:56 2608k\n",
            " 63  618M   63  394M    0     0  4076k      0  0:02:35  0:01:39  0:00:56 2448k\n",
            " 64  618M   64  396M    0     0  4059k      0  0:02:36  0:01:40  0:00:56 2422k\n",
            " 64  618M   64  399M    0     0  4046k      0  0:02:36  0:01:41  0:00:55 2563k\n",
            " 64  618M   64  401M    0     0  4030k      0  0:02:37  0:01:42  0:00:55 2531k\n",
            " 65  618M   65  404M    0     0  4017k      0  0:02:37  0:01:43  0:00:54 2601k\n",
            " 65  618M   65  406M    0     0  4003k      0  0:02:38  0:01:44  0:00:54 2553k\n",
            " 66  618M   66  409M    0     0  3989k      0  0:02:38  0:01:45  0:00:53 2598k\n",
            " 66  618M   66  412M    0     0  3980k      0  0:02:39  0:01:46  0:00:53 2636k\n",
            " 67  618M   67  414M    0     0  3970k      0  0:02:39  0:01:47  0:00:52 2745k\n",
            " 67  618M   67  418M    0     0  3963k      0  0:02:39  0:01:48  0:00:51 2854k\n",
            " 68  618M   68  421M    0     0  3963k      0  0:02:39  0:01:49  0:00:50 3145k\n",
            " 68  618M   68  425M    0     0  3964k      0  0:02:39  0:01:50  0:00:49 3433k\n",
            " 69  618M   69  430M    0     0  3972k      0  0:02:39  0:01:51  0:00:48 3814k\n",
            " 70  618M   70  436M    0     0  3989k      0  0:02:38  0:01:52  0:00:46 4387k\n",
            " 71  618M   71  441M    0     0  4004k      0  0:02:38  0:01:53  0:00:45 4896k\n",
            " 72  618M   72  446M    0     0  4011k      0  0:02:37  0:01:54  0:00:43 5062k\n",
            " 72  618M   72  450M    0     0  4013k      0  0:02:37  0:01:55  0:00:42 5104k\n",
            " 73  618M   73  454M    0     0  4014k      0  0:02:37  0:01:56  0:00:41 4940k\n",
            " 74  618M   74  459M    0     0  4017k      0  0:02:37  0:01:57  0:00:40 4649k\n",
            " 74  618M   74  463M    0     0  4019k      0  0:02:37  0:01:58  0:00:39 4345k\n",
            " 75  618M   75  467M    0     0  4021k      0  0:02:37  0:01:59  0:00:38 4233k\n",
            " 76  618M   76  471M    0     0  4023k      0  0:02:37  0:02:00  0:00:37 4243k\n",
            " 76  618M   76  475M    0     0  4024k      0  0:02:37  0:02:01  0:00:36 4259k\n",
            " 77  618M   77  479M    0     0  4026k      0  0:02:37  0:02:02  0:00:35 4233k\n",
            " 78  618M   78  483M    0     0  4027k      0  0:02:37  0:02:03  0:00:34 4217k\n",
            " 78  618M   78  487M    0     0  4028k      0  0:02:37  0:02:04  0:00:33 4195k\n",
            " 79  618M   79  491M    0     0  4029k      0  0:02:37  0:02:05  0:00:32 4169k\n",
            " 80  618M   80  495M    0     0  4030k      0  0:02:37  0:02:06  0:00:31 4172k\n",
            " 80  618M   80  500M    0     0  4032k      0  0:02:37  0:02:07  0:00:30 4188k\n",
            " 81  618M   81  504M    0     0  4033k      0  0:02:37  0:02:08  0:00:29 4192k\n",
            " 82  618M   82  508M    0     0  4035k      0  0:02:36  0:02:09  0:00:27 4214k\n",
            " 82  618M   82  512M    0     0  4037k      0  0:02:36  0:02:10  0:00:26 4230k\n",
            " 83  618M   83  516M    0     0  4038k      0  0:02:36  0:02:11  0:00:25 4240k\n",
            " 84  618M   84  520M    0     0  4040k      0  0:02:36  0:02:12  0:00:24 4230k\n",
            " 84  618M   84  524M    0     0  4040k      0  0:02:36  0:02:13  0:00:23 4224k\n",
            " 85  618M   85  528M    0     0  4042k      0  0:02:36  0:02:14  0:00:22 4214k\n",
            " 86  618M   86  533M    0     0  4043k      0  0:02:36  0:02:15  0:00:21 4211k\n",
            " 86  618M   86  537M    0     0  4044k      0  0:02:36  0:02:16  0:00:20 4201k\n",
            " 87  618M   87  541M    0     0  4045k      0  0:02:36  0:02:17  0:00:19 4185k\n",
            " 88  618M   88  545M    0     0  4045k      0  0:02:36  0:02:18  0:00:18 4179k\n",
            " 88  618M   88  549M    0     0  4047k      0  0:02:36  0:02:19  0:00:17 4195k\n",
            " 89  618M   89  553M    0     0  4048k      0  0:02:36  0:02:20  0:00:16 4188k\n",
            " 90  618M   90  557M    0     0  4049k      0  0:02:36  0:02:21  0:00:15 4195k\n",
            " 90  618M   90  561M    0     0  4051k      0  0:02:36  0:02:22  0:00:14 4217k\n",
            " 91  618M   91  565M    0     0  4052k      0  0:02:36  0:02:23  0:00:13 4233k\n",
            " 92  618M   92  570M    0     0  4054k      0  0:02:36  0:02:24  0:00:12 4233k\n",
            " 92  618M   92  574M    0     0  4055k      0  0:02:36  0:02:25  0:00:11 4243k\n",
            " 93  618M   93  578M    0     0  4056k      0  0:02:36  0:02:26  0:00:10 4246k\n",
            " 94  618M   94  582M    0     0  4057k      0  0:02:36  0:02:27  0:00:09 4230k\n",
            " 94  618M   94  586M    0     0  4058k      0  0:02:36  0:02:28  0:00:08 4224k\n",
            " 95  618M   95  590M    0     0  4059k      0  0:02:36  0:02:29  0:00:07 4214k\n",
            " 96  618M   96  594M    0     0  4060k      0  0:02:36  0:02:30  0:00:06 4201k\n",
            " 96  618M   96  598M    0     0  4061k      0  0:02:35  0:02:31  0:00:04 4192k\n",
            " 97  618M   97  603M    0     0  4062k      0  0:02:35  0:02:32  0:00:03 4208k\n",
            " 98  618M   98  607M    0     0  4036k      0  0:02:36  0:02:34  0:00:02 4016k\n",
            " 98  618M   98  610M    0     0  4060k      0  0:02:36  0:02:34  0:00:02 4076k\n",
            " 99  618M   99  614M    0     0  4058k      0  0:02:36  0:02:35  0:00:01 4000k\n",
            " 99  618M   99  618M    0     0  4059k      0  0:02:36  0:02:36 --:--:-- 4003k\n",
            "100  618M  100  618M    0     0  4060k      0  0:02:36  0:02:36 --:--:-- 3952k\n"
          ]
        }
      ],
      "source": [
        "pd.get_dummies(df)\n",
        "cat_list = ['marketplace','review_id','product_id','product_title','product_category','vine','verified_purchase','review_headline','review_body','review_date']\n",
        "df_num = df.drop(cat_list, inplace = False , axis = 1) \n",
        "df_num\n",
        "\n",
        "df_cat = df[cat_list]\n",
        "\n",
        "\n",
        "# Cleaning\n",
        "# (1) Drop: marketplace + product_category + review_id\n",
        "# (2) Map: vine + verified_purchase (y:1, n:0)\n",
        "# (3) Clean text: review_headline + review_body \n",
        "# (4) Datetime: review_date\n",
        "\n",
        "YN_to_bool = {\n",
        "    'Y': 1,\n",
        "    'N': 0\n",
        "    }\n",
        "\n",
        "df['vine'] = df['vine'].map( YN_to_bool )\n",
        "df['verified_purchase'] = df['verified_purchase'].map( YN_to_bool )\n",
        "df.drop(['marketplace','product_category','review_id'], axis=1, inplace=True)\n",
        "df['review_date'] = pd.to_datetime(df['review_date'])\n",
        "df.info()\n",
        "\n"
      ]
    },
    {
      "cell_type": "code",
      "execution_count": null,
      "metadata": {
        "colab": {
          "base_uri": "https://localhost:8080/",
          "height": 305
        },
        "id": "aIPsp-DyuIqH",
        "outputId": "19f6b267-5719-436f-caad-4d0de6973cb7"
      },
      "outputs": [
        {
          "ename": "AttributeError",
          "evalue": "ignored",
          "output_type": "error",
          "traceback": [
            "\u001b[0;31m---------------------------------------------------------------------------\u001b[0m",
            "\u001b[0;31mAttributeError\u001b[0m                            Traceback (most recent call last)",
            "\u001b[0;32m<ipython-input-91-386990f22cdc>\u001b[0m in \u001b[0;36m<module>\u001b[0;34m()\u001b[0m\n\u001b[1;32m      1\u001b[0m \u001b[0;31m# Checking if marketplace is only in the US\u001b[0m\u001b[0;34m\u001b[0m\u001b[0;34m\u001b[0m\u001b[0;34m\u001b[0m\u001b[0m\n\u001b[0;32m----> 2\u001b[0;31m \u001b[0mdf\u001b[0m\u001b[0;34m.\u001b[0m\u001b[0mmarketplace\u001b[0m\u001b[0;34m.\u001b[0m\u001b[0munique\u001b[0m\u001b[0;34m(\u001b[0m\u001b[0;34m)\u001b[0m\u001b[0;34m\u001b[0m\u001b[0;34m\u001b[0m\u001b[0m\n\u001b[0m",
            "\u001b[0;32m/usr/local/lib/python3.7/dist-packages/pandas/core/generic.py\u001b[0m in \u001b[0;36m__getattr__\u001b[0;34m(self, name)\u001b[0m\n\u001b[1;32m   5139\u001b[0m             \u001b[0;32mif\u001b[0m \u001b[0mself\u001b[0m\u001b[0;34m.\u001b[0m\u001b[0m_info_axis\u001b[0m\u001b[0;34m.\u001b[0m\u001b[0m_can_hold_identifiers_and_holds_name\u001b[0m\u001b[0;34m(\u001b[0m\u001b[0mname\u001b[0m\u001b[0;34m)\u001b[0m\u001b[0;34m:\u001b[0m\u001b[0;34m\u001b[0m\u001b[0;34m\u001b[0m\u001b[0m\n\u001b[1;32m   5140\u001b[0m                 \u001b[0;32mreturn\u001b[0m \u001b[0mself\u001b[0m\u001b[0;34m[\u001b[0m\u001b[0mname\u001b[0m\u001b[0;34m]\u001b[0m\u001b[0;34m\u001b[0m\u001b[0;34m\u001b[0m\u001b[0m\n\u001b[0;32m-> 5141\u001b[0;31m             \u001b[0;32mreturn\u001b[0m \u001b[0mobject\u001b[0m\u001b[0;34m.\u001b[0m\u001b[0m__getattribute__\u001b[0m\u001b[0;34m(\u001b[0m\u001b[0mself\u001b[0m\u001b[0;34m,\u001b[0m \u001b[0mname\u001b[0m\u001b[0;34m)\u001b[0m\u001b[0;34m\u001b[0m\u001b[0;34m\u001b[0m\u001b[0m\n\u001b[0m\u001b[1;32m   5142\u001b[0m \u001b[0;34m\u001b[0m\u001b[0m\n\u001b[1;32m   5143\u001b[0m     \u001b[0;32mdef\u001b[0m \u001b[0m__setattr__\u001b[0m\u001b[0;34m(\u001b[0m\u001b[0mself\u001b[0m\u001b[0;34m,\u001b[0m \u001b[0mname\u001b[0m\u001b[0;34m:\u001b[0m \u001b[0mstr\u001b[0m\u001b[0;34m,\u001b[0m \u001b[0mvalue\u001b[0m\u001b[0;34m)\u001b[0m \u001b[0;34m->\u001b[0m \u001b[0;32mNone\u001b[0m\u001b[0;34m:\u001b[0m\u001b[0;34m\u001b[0m\u001b[0;34m\u001b[0m\u001b[0m\n",
            "\u001b[0;31mAttributeError\u001b[0m: 'DataFrame' object has no attribute 'marketplace'"
          ]
        }
      ],
      "source": [
        "# Checking if marketplace is only in the US\n",
        "df.marketplace.unique()"
      ]
    },
    {
      "cell_type": "code",
      "execution_count": null,
      "metadata": {
        "id": "HhEgJ_k4C5LX"
      },
      "outputs": [],
      "source": [
        "# (4) Choose the label and features"
      ]
    },
    {
      "cell_type": "code",
      "execution_count": null,
      "metadata": {
        "id": "6bAuUZonC5LX"
      },
      "outputs": [],
      "source": [
        "# (5) Feature engineer for data that is\n",
        "# (a) relevant \n",
        "# (b) unique\n",
        "# (c) correct \n",
        "# (d) not missing\n",
        "\n",
        "# Drop data that is not a,b,c, or d\n",
        "# Use one-hot encoding for nominal\n",
        "# Reduce dimensions of your features"
      ]
    },
    {
      "cell_type": "code",
      "execution_count": null,
      "metadata": {
        "id": "Dq6UgamkC5LY"
      },
      "outputs": [],
      "source": [
        "# (6) Confirm data is ready with further exploratory analysis"
      ]
    },
    {
      "cell_type": "code",
      "execution_count": null,
      "metadata": {
        "id": "1hoZ8o-kC5LY"
      },
      "outputs": [],
      "source": [
        "# (7) Training, Testing (and/or Validation) data split \n",
        "\n",
        "# for example, 60/20/20"
      ]
    },
    {
      "cell_type": "code",
      "execution_count": null,
      "metadata": {
        "id": "Wh3Mpqv0C5LY"
      },
      "outputs": [],
      "source": [
        "# (7.b) If using Deep Learning, building the model\n",
        "\n",
        "# Add Input Layer\n",
        "# Add Hidden Layers\n",
        "# Add Output"
      ]
    },
    {
      "cell_type": "code",
      "execution_count": null,
      "metadata": {
        "id": "RvmY_kfYC5LZ"
      },
      "outputs": [],
      "source": [
        "# (8) Training the Machine Learning Model (i.e, Fitting the Model)"
      ]
    },
    {
      "cell_type": "code",
      "execution_count": null,
      "metadata": {
        "id": "EZ01SXbIC5LZ"
      },
      "outputs": [],
      "source": [
        "# (9) Evaluate the model metrics for Training (and/or Validation) data"
      ]
    },
    {
      "cell_type": "code",
      "execution_count": null,
      "metadata": {
        "id": "wTpOxodBC5LZ"
      },
      "outputs": [],
      "source": [
        "# (10) Evaluate the model metris for Testing data\n",
        "\n",
        "\n",
        "# If metrics are poor, optimize either (a) the data, (b) the hyperpamaters"
      ]
    },
    {
      "cell_type": "code",
      "execution_count": null,
      "metadata": {
        "id": "0kitVPuJC5LZ"
      },
      "outputs": [],
      "source": [
        "# (11) Use the model for prediction"
      ]
    },
    {
      "cell_type": "code",
      "execution_count": null,
      "metadata": {
        "id": "9WEaNzAVC5La"
      },
      "outputs": [],
      "source": [
        "# (12) Write final predicted data  (e.g, to CSV or JSON, etc.)"
      ]
    }
  ],
  "metadata": {
    "colab": {
      "collapsed_sections": [],
      "include_colab_link": true,
      "name": "datawhisperers_sentiment_analysis_amazon_apparel_reviews.ipynb",
      "provenance": []
    },
    "kernelspec": {
      "display_name": "Python 3.7.4 64-bit",
      "metadata": {
        "interpreter": {
          "hash": "aee8b7b246df8f9039afb4144a1f6fd8d2ca17a180786b69acc140d282b71a49"
        }
      },
      "name": "python3"
    },
    "language_info": {
      "codemirror_mode": {
        "name": "ipython",
        "version": 3
      },
      "file_extension": ".py",
      "mimetype": "text/x-python",
      "name": "python",
      "nbconvert_exporter": "python",
      "pygments_lexer": "ipython3",
      "version": "3.9.8"
    },
    "orig_nbformat": 2
  },
  "nbformat": 4,
  "nbformat_minor": 0
}
