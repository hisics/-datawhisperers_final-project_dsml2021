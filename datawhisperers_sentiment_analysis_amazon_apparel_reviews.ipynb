{
  "nbformat": 4,
  "nbformat_minor": 0,
  "metadata": {
    "colab": {
      "name": "datawhisperers_sentiment_analysis_amazon_apparel_reviews.ipynb",
      "provenance": [],
      "collapsed_sections": [],
      "include_colab_link": true
    },
    "kernelspec": {
      "display_name": "Python 3.7.4 64-bit",
      "metadata": {
        "interpreter": {
          "hash": "aee8b7b246df8f9039afb4144a1f6fd8d2ca17a180786b69acc140d282b71a49"
        }
      },
      "name": "python3"
    },
    "language_info": {
      "codemirror_mode": {
        "name": "ipython",
        "version": 3
      },
      "file_extension": ".py",
      "mimetype": "text/x-python",
      "name": "python",
      "nbconvert_exporter": "python",
      "pygments_lexer": "ipython3",
      "version": "3.7.4-final"
    },
    "orig_nbformat": 2
  },
  "cells": [
    {
      "cell_type": "markdown",
      "metadata": {
        "id": "view-in-github",
        "colab_type": "text"
      },
      "source": [
        "<a href=\"https://colab.research.google.com/github/hisics/-datawhisperers_final-project_dsml2021/blob/main/datawhisperers_sentiment_analysis_amazon_apparel_reviews.ipynb\" target=\"_parent\"><img src=\"https://colab.research.google.com/assets/colab-badge.svg\" alt=\"Open In Colab\"/></a>"
      ]
    },
    {
      "cell_type": "markdown",
      "metadata": {
        "id": "3WLtzXUTC5LN"
      },
      "source": [
        "### Option 8 - Sentiment Analysis for Ecommerce\n",
        "\n",
        "Look at this document for reference,<br/>\n",
        "https://colab.research.google.com/drive/1g6ZtYOOhGUj1WsiPpeaVPp5T7VFw234e?usp=sharing"
      ]
    },
    {
      "cell_type": "code",
      "metadata": {
        "id": "ny7TFp0sC5LV"
      },
      "source": [
        "# (1) Import libraries\n",
        "import pandas as pd"
      ],
      "execution_count": 1,
      "outputs": []
    },
    {
      "cell_type": "code",
      "metadata": {
        "colab": {
          "base_uri": "https://localhost:8080/"
        },
        "id": "TBaD7dvAC5LW",
        "outputId": "bf991359-0151-45af-faf1-ec140e5aed3f"
      },
      "source": [
        "# (2) Download product reviews from Amazon Datasets\n",
        "# You can use reviews from Amazon Datasets for a particular product.\n",
        "# Note that the data are quite large so do not run this cell unless you are willing to wait!\n",
        "# For reference, visit:\n",
        "# https://www.tensorflow.org/datasets/catalog/amazon_us_reviews\n",
        "# https://s3.amazonaws.com/amazon-reviews-pds/readme.html\n",
        "!curl -O https://s3.amazonaws.com/amazon-reviews-pds/tsv/amazon_reviews_us_Apparel_v1_00.tsv.gz"
      ],
      "execution_count": 2,
      "outputs": [
        {
          "output_type": "stream",
          "name": "stdout",
          "text": [
            "  % Total    % Received % Xferd  Average Speed   Time    Time     Time  Current\n",
            "                                 Dload  Upload   Total   Spent    Left  Speed\n",
            "100  618M  100  618M    0     0  83.0M      0  0:00:07  0:00:07 --:--:-- 84.6M\n"
          ]
        }
      ]
    },
    {
      "cell_type": "code",
      "metadata": {
        "colab": {
          "base_uri": "https://localhost:8080/"
        },
        "id": "EG7i-4E7DR6P",
        "outputId": "051ca0e9-71b9-41ec-fbb9-277bdaff3139"
      },
      "source": [
        "!echo \"y\" | gzip -d amazon_reviews_us_Wireless_v1_00.tsv.gz"
      ],
      "execution_count": 3,
      "outputs": [
        {
          "output_type": "stream",
          "name": "stdout",
          "text": [
            "gzip: amazon_reviews_us_Wireless_v1_00.tsv.gz: No such file or directory\n"
          ]
        }
      ]
    },
    {
      "cell_type": "code",
      "metadata": {
        "colab": {
          "base_uri": "https://localhost:8080/"
        },
        "id": "W7MGo9e-C5LX",
        "outputId": "c2e88e4e-0d4d-4e30-d5d5-504b7f714519"
      },
      "source": [
        "# (3.a) Read the contents of the folder \n",
        "!ls"
      ],
      "execution_count": 4,
      "outputs": [
        {
          "output_type": "stream",
          "name": "stdout",
          "text": [
            "amazon_reviews_us_Apparel_v1_00.tsv.gz\tsample_data\n"
          ]
        }
      ]
    },
    {
      "cell_type": "code",
      "metadata": {
        "id": "iPwqyKTuC5LX"
      },
      "source": [
        "# (3.b) Explore data (for example, see what is categorial and numerical)"
      ],
      "execution_count": 5,
      "outputs": []
    },
    {
      "cell_type": "code",
      "metadata": {
        "id": "lytjIOzXD2Zu",
        "colab": {
          "base_uri": "https://localhost:8080/",
          "height": 1000
        },
        "outputId": "c149d612-4eed-4670-9288-2f92f3f8cae6"
      },
      "source": [
        "df = pd.read_table('amazon_reviews_us_Apparel_v1_00.tsv.gz', delim_whitespace=False, error_bad_lines=False, nrows=500)\n",
        "df.info()\n",
        "df\n"
      ],
      "execution_count": 6,
      "outputs": [
        {
          "output_type": "stream",
          "name": "stdout",
          "text": [
            "<class 'pandas.core.frame.DataFrame'>\n",
            "RangeIndex: 500 entries, 0 to 499\n",
            "Data columns (total 15 columns):\n",
            " #   Column             Non-Null Count  Dtype \n",
            "---  ------             --------------  ----- \n",
            " 0   marketplace        500 non-null    object\n",
            " 1   customer_id        500 non-null    int64 \n",
            " 2   review_id          500 non-null    object\n",
            " 3   product_id         500 non-null    object\n",
            " 4   product_parent     500 non-null    int64 \n",
            " 5   product_title      500 non-null    object\n",
            " 6   product_category   500 non-null    object\n",
            " 7   star_rating        500 non-null    int64 \n",
            " 8   helpful_votes      500 non-null    int64 \n",
            " 9   total_votes        500 non-null    int64 \n",
            " 10  vine               500 non-null    object\n",
            " 11  verified_purchase  500 non-null    object\n",
            " 12  review_headline    500 non-null    object\n",
            " 13  review_body        500 non-null    object\n",
            " 14  review_date        500 non-null    object\n",
            "dtypes: int64(5), object(10)\n",
            "memory usage: 58.7+ KB\n"
          ]
        },
        {
          "output_type": "execute_result",
          "data": {
            "text/html": [
              "<div>\n",
              "<style scoped>\n",
              "    .dataframe tbody tr th:only-of-type {\n",
              "        vertical-align: middle;\n",
              "    }\n",
              "\n",
              "    .dataframe tbody tr th {\n",
              "        vertical-align: top;\n",
              "    }\n",
              "\n",
              "    .dataframe thead th {\n",
              "        text-align: right;\n",
              "    }\n",
              "</style>\n",
              "<table border=\"1\" class=\"dataframe\">\n",
              "  <thead>\n",
              "    <tr style=\"text-align: right;\">\n",
              "      <th></th>\n",
              "      <th>marketplace</th>\n",
              "      <th>customer_id</th>\n",
              "      <th>review_id</th>\n",
              "      <th>product_id</th>\n",
              "      <th>product_parent</th>\n",
              "      <th>product_title</th>\n",
              "      <th>product_category</th>\n",
              "      <th>star_rating</th>\n",
              "      <th>helpful_votes</th>\n",
              "      <th>total_votes</th>\n",
              "      <th>vine</th>\n",
              "      <th>verified_purchase</th>\n",
              "      <th>review_headline</th>\n",
              "      <th>review_body</th>\n",
              "      <th>review_date</th>\n",
              "    </tr>\n",
              "  </thead>\n",
              "  <tbody>\n",
              "    <tr>\n",
              "      <th>0</th>\n",
              "      <td>US</td>\n",
              "      <td>32158956</td>\n",
              "      <td>R1KKOXHNI8MSXU</td>\n",
              "      <td>B01KL6O72Y</td>\n",
              "      <td>24485154</td>\n",
              "      <td>Easy Tool Stainless Steel Fruit Pineapple Core...</td>\n",
              "      <td>Apparel</td>\n",
              "      <td>4</td>\n",
              "      <td>0</td>\n",
              "      <td>0</td>\n",
              "      <td>N</td>\n",
              "      <td>Y</td>\n",
              "      <td>★ THESE REALLY DO WORK GREAT WITH SOME TWEAKING ★</td>\n",
              "      <td>These Really Do Work Great, But You Do Need To...</td>\n",
              "      <td>2013-01-14</td>\n",
              "    </tr>\n",
              "    <tr>\n",
              "      <th>1</th>\n",
              "      <td>US</td>\n",
              "      <td>2714559</td>\n",
              "      <td>R26SP2OPDK4HT7</td>\n",
              "      <td>B01ID3ZS5W</td>\n",
              "      <td>363128556</td>\n",
              "      <td>V28 Women Cowl Neck Knit Stretchable Elasticit...</td>\n",
              "      <td>Apparel</td>\n",
              "      <td>5</td>\n",
              "      <td>1</td>\n",
              "      <td>2</td>\n",
              "      <td>N</td>\n",
              "      <td>Y</td>\n",
              "      <td>Favorite for winter. Very warm!</td>\n",
              "      <td>I love this dress. Absolute favorite for winte...</td>\n",
              "      <td>2014-03-04</td>\n",
              "    </tr>\n",
              "    <tr>\n",
              "      <th>2</th>\n",
              "      <td>US</td>\n",
              "      <td>12608825</td>\n",
              "      <td>RWQEDYAX373I1</td>\n",
              "      <td>B01I497BGY</td>\n",
              "      <td>811958549</td>\n",
              "      <td>James Fiallo Men's 12-Pairs Low Cut Athletic S...</td>\n",
              "      <td>Apparel</td>\n",
              "      <td>5</td>\n",
              "      <td>0</td>\n",
              "      <td>0</td>\n",
              "      <td>N</td>\n",
              "      <td>Y</td>\n",
              "      <td>Great Socks for the money.</td>\n",
              "      <td>Nice socks, great colors, just enough support ...</td>\n",
              "      <td>2015-07-12</td>\n",
              "    </tr>\n",
              "    <tr>\n",
              "      <th>3</th>\n",
              "      <td>US</td>\n",
              "      <td>25482800</td>\n",
              "      <td>R231YI7R4GPF6J</td>\n",
              "      <td>B01HDXFZK6</td>\n",
              "      <td>692205728</td>\n",
              "      <td>Belfry Gangster 100% Wool Stain-Resistant Crus...</td>\n",
              "      <td>Apparel</td>\n",
              "      <td>5</td>\n",
              "      <td>0</td>\n",
              "      <td>0</td>\n",
              "      <td>N</td>\n",
              "      <td>Y</td>\n",
              "      <td>Slick hat!</td>\n",
              "      <td>I bought this for my husband and WOW, this is ...</td>\n",
              "      <td>2015-06-03</td>\n",
              "    </tr>\n",
              "    <tr>\n",
              "      <th>4</th>\n",
              "      <td>US</td>\n",
              "      <td>9310286</td>\n",
              "      <td>R3KO3W45DD0L1K</td>\n",
              "      <td>B01G6MBEBY</td>\n",
              "      <td>431150422</td>\n",
              "      <td>JAEDEN Women's Beaded Spaghetti Straps Sexy Lo...</td>\n",
              "      <td>Apparel</td>\n",
              "      <td>5</td>\n",
              "      <td>0</td>\n",
              "      <td>0</td>\n",
              "      <td>N</td>\n",
              "      <td>Y</td>\n",
              "      <td>I would do it again!</td>\n",
              "      <td>Perfect dress and the customer service was awe...</td>\n",
              "      <td>2015-06-12</td>\n",
              "    </tr>\n",
              "    <tr>\n",
              "      <th>...</th>\n",
              "      <td>...</td>\n",
              "      <td>...</td>\n",
              "      <td>...</td>\n",
              "      <td>...</td>\n",
              "      <td>...</td>\n",
              "      <td>...</td>\n",
              "      <td>...</td>\n",
              "      <td>...</td>\n",
              "      <td>...</td>\n",
              "      <td>...</td>\n",
              "      <td>...</td>\n",
              "      <td>...</td>\n",
              "      <td>...</td>\n",
              "      <td>...</td>\n",
              "      <td>...</td>\n",
              "    </tr>\n",
              "    <tr>\n",
              "      <th>495</th>\n",
              "      <td>US</td>\n",
              "      <td>14284226</td>\n",
              "      <td>R28XD9X8YAJQU2</td>\n",
              "      <td>B013MK0GPI</td>\n",
              "      <td>11485117</td>\n",
              "      <td>Fresh Tees Black And White Tuxedo With Bowtie ...</td>\n",
              "      <td>Apparel</td>\n",
              "      <td>5</td>\n",
              "      <td>0</td>\n",
              "      <td>0</td>\n",
              "      <td>N</td>\n",
              "      <td>N</td>\n",
              "      <td>Great Quality print and shirt!</td>\n",
              "      <td>I have a 12 year old son who loves funny shirt...</td>\n",
              "      <td>2015-08-28</td>\n",
              "    </tr>\n",
              "    <tr>\n",
              "      <th>496</th>\n",
              "      <td>US</td>\n",
              "      <td>34547941</td>\n",
              "      <td>ROQS5PB3XQ2EH</td>\n",
              "      <td>B013MK0GPI</td>\n",
              "      <td>11485117</td>\n",
              "      <td>Fresh Tees Black And White Tuxedo With Bowtie ...</td>\n",
              "      <td>Apparel</td>\n",
              "      <td>5</td>\n",
              "      <td>0</td>\n",
              "      <td>0</td>\n",
              "      <td>N</td>\n",
              "      <td>N</td>\n",
              "      <td>good for the price</td>\n",
              "      <td>Soft comfy fruit of the loom shift with an iro...</td>\n",
              "      <td>2015-08-26</td>\n",
              "    </tr>\n",
              "    <tr>\n",
              "      <th>497</th>\n",
              "      <td>US</td>\n",
              "      <td>32845239</td>\n",
              "      <td>R3ATVQGNVCJC2C</td>\n",
              "      <td>B013MK0GPI</td>\n",
              "      <td>11485117</td>\n",
              "      <td>Fresh Tees Black And White Tuxedo With Bowtie ...</td>\n",
              "      <td>Apparel</td>\n",
              "      <td>5</td>\n",
              "      <td>3</td>\n",
              "      <td>3</td>\n",
              "      <td>N</td>\n",
              "      <td>N</td>\n",
              "      <td>My Favorite New T-Shirt, gets people all the t...</td>\n",
              "      <td>I received this product in exchange for a revi...</td>\n",
              "      <td>2015-08-25</td>\n",
              "    </tr>\n",
              "    <tr>\n",
              "      <th>498</th>\n",
              "      <td>US</td>\n",
              "      <td>43923212</td>\n",
              "      <td>R3HWK013CPJ2M4</td>\n",
              "      <td>B013MK0GPI</td>\n",
              "      <td>11485117</td>\n",
              "      <td>Fresh Tees Black And White Tuxedo With Bowtie ...</td>\n",
              "      <td>Apparel</td>\n",
              "      <td>5</td>\n",
              "      <td>1</td>\n",
              "      <td>2</td>\n",
              "      <td>N</td>\n",
              "      <td>N</td>\n",
              "      <td>High quality, great design</td>\n",
              "      <td>I purchased this shirt for my son who is a col...</td>\n",
              "      <td>2015-08-24</td>\n",
              "    </tr>\n",
              "    <tr>\n",
              "      <th>499</th>\n",
              "      <td>US</td>\n",
              "      <td>30240983</td>\n",
              "      <td>R2E93480WI5C7B</td>\n",
              "      <td>B013MGGX7C</td>\n",
              "      <td>477015279</td>\n",
              "      <td>Don't Label Us Graphic Tee for Women and Teens</td>\n",
              "      <td>Apparel</td>\n",
              "      <td>5</td>\n",
              "      <td>0</td>\n",
              "      <td>0</td>\n",
              "      <td>N</td>\n",
              "      <td>N</td>\n",
              "      <td>Nice! Good weight, soft without being flimsy o...</td>\n",
              "      <td>I love the weight fo this shirt and the feel o...</td>\n",
              "      <td>2015-08-09</td>\n",
              "    </tr>\n",
              "  </tbody>\n",
              "</table>\n",
              "<p>500 rows × 15 columns</p>\n",
              "</div>"
            ],
            "text/plain": [
              "    marketplace  ...  review_date\n",
              "0            US  ...   2013-01-14\n",
              "1            US  ...   2014-03-04\n",
              "2            US  ...   2015-07-12\n",
              "3            US  ...   2015-06-03\n",
              "4            US  ...   2015-06-12\n",
              "..          ...  ...          ...\n",
              "495          US  ...   2015-08-28\n",
              "496          US  ...   2015-08-26\n",
              "497          US  ...   2015-08-25\n",
              "498          US  ...   2015-08-24\n",
              "499          US  ...   2015-08-09\n",
              "\n",
              "[500 rows x 15 columns]"
            ]
          },
          "metadata": {},
          "execution_count": 6
        }
      ]
    },
    {
      "cell_type": "markdown",
      "metadata": {
        "id": "SRkCf5Pk9YCx"
      },
      "source": [
        "###Cleaning data and converting data types\n"
      ]
    },
    {
      "cell_type": "code",
      "metadata": {
        "colab": {
          "base_uri": "https://localhost:8080/",
          "height": 371
        },
        "id": "wSPAMKIX2rdt",
        "outputId": "7eeabcf7-7023-40ce-a532-d13b53c70725"
      },
      "source": [
        "pd.get_dummies(df)\n",
        "cat_list = ['marketplace','review_id','product_id','product_title','product_category','vine','verified_purchase','review_headline','review_body','review_date']\n",
        "df_num = df.drop(cat_list, inplace = False , axis = 1) \n",
        "df_num\n",
        "\n",
        "df_cat = df[cat_list]\n",
        "\n",
        "\n",
        "# Cleaning\n",
        "# (1) Drop: marketplace + product_category + review_id\n",
        "# (2) Map: vine + verified_purchase (y:1, n:0)\n",
        "# (3) Clean text: review_headline + review_body \n",
        "# (4) Datetime: review_date\n",
        "\n",
        "YN_to_bool = {\n",
        "    'Y': 1,\n",
        "    'N': 0\n",
        "    }\n",
        "\n",
        "df['vine'] = df['vine'].map( YN_to_bool )\n",
        "df['verified_purchase'] = df['verified_purchase'].map( YN_to_bool )\n",
        "df.drop(['marketplace','product_category','review_id'], axis=1, inplace=True)\n",
        "df.head()\n",
        "\n"
      ],
      "execution_count": 7,
      "outputs": [
        {
          "output_type": "execute_result",
          "data": {
            "text/html": [
              "<div>\n",
              "<style scoped>\n",
              "    .dataframe tbody tr th:only-of-type {\n",
              "        vertical-align: middle;\n",
              "    }\n",
              "\n",
              "    .dataframe tbody tr th {\n",
              "        vertical-align: top;\n",
              "    }\n",
              "\n",
              "    .dataframe thead th {\n",
              "        text-align: right;\n",
              "    }\n",
              "</style>\n",
              "<table border=\"1\" class=\"dataframe\">\n",
              "  <thead>\n",
              "    <tr style=\"text-align: right;\">\n",
              "      <th></th>\n",
              "      <th>customer_id</th>\n",
              "      <th>product_id</th>\n",
              "      <th>product_parent</th>\n",
              "      <th>product_title</th>\n",
              "      <th>star_rating</th>\n",
              "      <th>helpful_votes</th>\n",
              "      <th>total_votes</th>\n",
              "      <th>vine</th>\n",
              "      <th>verified_purchase</th>\n",
              "      <th>review_headline</th>\n",
              "      <th>review_body</th>\n",
              "      <th>review_date</th>\n",
              "    </tr>\n",
              "  </thead>\n",
              "  <tbody>\n",
              "    <tr>\n",
              "      <th>0</th>\n",
              "      <td>32158956</td>\n",
              "      <td>B01KL6O72Y</td>\n",
              "      <td>24485154</td>\n",
              "      <td>Easy Tool Stainless Steel Fruit Pineapple Core...</td>\n",
              "      <td>4</td>\n",
              "      <td>0</td>\n",
              "      <td>0</td>\n",
              "      <td>0</td>\n",
              "      <td>1</td>\n",
              "      <td>★ THESE REALLY DO WORK GREAT WITH SOME TWEAKING ★</td>\n",
              "      <td>These Really Do Work Great, But You Do Need To...</td>\n",
              "      <td>2013-01-14</td>\n",
              "    </tr>\n",
              "    <tr>\n",
              "      <th>1</th>\n",
              "      <td>2714559</td>\n",
              "      <td>B01ID3ZS5W</td>\n",
              "      <td>363128556</td>\n",
              "      <td>V28 Women Cowl Neck Knit Stretchable Elasticit...</td>\n",
              "      <td>5</td>\n",
              "      <td>1</td>\n",
              "      <td>2</td>\n",
              "      <td>0</td>\n",
              "      <td>1</td>\n",
              "      <td>Favorite for winter. Very warm!</td>\n",
              "      <td>I love this dress. Absolute favorite for winte...</td>\n",
              "      <td>2014-03-04</td>\n",
              "    </tr>\n",
              "    <tr>\n",
              "      <th>2</th>\n",
              "      <td>12608825</td>\n",
              "      <td>B01I497BGY</td>\n",
              "      <td>811958549</td>\n",
              "      <td>James Fiallo Men's 12-Pairs Low Cut Athletic S...</td>\n",
              "      <td>5</td>\n",
              "      <td>0</td>\n",
              "      <td>0</td>\n",
              "      <td>0</td>\n",
              "      <td>1</td>\n",
              "      <td>Great Socks for the money.</td>\n",
              "      <td>Nice socks, great colors, just enough support ...</td>\n",
              "      <td>2015-07-12</td>\n",
              "    </tr>\n",
              "    <tr>\n",
              "      <th>3</th>\n",
              "      <td>25482800</td>\n",
              "      <td>B01HDXFZK6</td>\n",
              "      <td>692205728</td>\n",
              "      <td>Belfry Gangster 100% Wool Stain-Resistant Crus...</td>\n",
              "      <td>5</td>\n",
              "      <td>0</td>\n",
              "      <td>0</td>\n",
              "      <td>0</td>\n",
              "      <td>1</td>\n",
              "      <td>Slick hat!</td>\n",
              "      <td>I bought this for my husband and WOW, this is ...</td>\n",
              "      <td>2015-06-03</td>\n",
              "    </tr>\n",
              "    <tr>\n",
              "      <th>4</th>\n",
              "      <td>9310286</td>\n",
              "      <td>B01G6MBEBY</td>\n",
              "      <td>431150422</td>\n",
              "      <td>JAEDEN Women's Beaded Spaghetti Straps Sexy Lo...</td>\n",
              "      <td>5</td>\n",
              "      <td>0</td>\n",
              "      <td>0</td>\n",
              "      <td>0</td>\n",
              "      <td>1</td>\n",
              "      <td>I would do it again!</td>\n",
              "      <td>Perfect dress and the customer service was awe...</td>\n",
              "      <td>2015-06-12</td>\n",
              "    </tr>\n",
              "  </tbody>\n",
              "</table>\n",
              "</div>"
            ],
            "text/plain": [
              "   customer_id  ... review_date\n",
              "0     32158956  ...  2013-01-14\n",
              "1      2714559  ...  2014-03-04\n",
              "2     12608825  ...  2015-07-12\n",
              "3     25482800  ...  2015-06-03\n",
              "4      9310286  ...  2015-06-12\n",
              "\n",
              "[5 rows x 12 columns]"
            ]
          },
          "metadata": {},
          "execution_count": 7
        }
      ]
    },
    {
      "cell_type": "markdown",
      "metadata": {
        "id": "JKVO9FRnB7nz"
      },
      "source": [
        "## Pre-processing the text fields"
      ]
    },
    {
      "cell_type": "markdown",
      "metadata": {
        "id": "zBpB3ziKB7QC"
      },
      "source": [
        ""
      ]
    },
    {
      "cell_type": "code",
      "metadata": {
        "id": "AddOnryNBpPk"
      },
      "source": [
        "# Removing the hashtags\n",
        "import re      # Import REGEX\n",
        "def remove_mentions(text):\n",
        "  text = re.sub(\"@[A-Za-z0-9_]+\",\"\", text)\n",
        "  text = re.sub(\"#[A-Za-z0-9_]+\",\"\", text)\n",
        "  return text\n",
        "\n",
        "\n",
        "df['review_headline'] = df.apply(lambda row: remove_mentions(row['review_headline']), axis=1)"
      ],
      "execution_count": 12,
      "outputs": []
    },
    {
      "cell_type": "code",
      "metadata": {
        "id": "goaMsuuiDNON",
        "outputId": "9de5c61f-ea2e-4d20-e38a-42562e81979f",
        "colab": {
          "base_uri": "https://localhost:8080/"
        }
      },
      "source": [
        "# Tokenizer. At one stage we will need to deal with our text as a words list to iterate between the words and apply certain functions on it\n",
        "\n",
        "import nltk         #Natural language processing tool-kit\n",
        "nltk.download('stopwords')\n",
        "nltk.download('wordnet')\n",
        "nltk.download('punkt')\n",
        "nltk.download('averaged_perceptron_tagger') \n",
        "\n",
        "from nltk.tokenize import word_tokenize, sent_tokenize  # Import Tokenizer.\n",
        "df['review_headline'] = df.apply(lambda row: nltk.word_tokenize(row['review_headline']), axis=1) # Tokenization of data"
      ],
      "execution_count": 19,
      "outputs": [
        {
          "output_type": "stream",
          "name": "stdout",
          "text": [
            "[nltk_data] Downloading package stopwords to /root/nltk_data...\n",
            "[nltk_data]   Unzipping corpora/stopwords.zip.\n",
            "[nltk_data] Downloading package wordnet to /root/nltk_data...\n",
            "[nltk_data]   Unzipping corpora/wordnet.zip.\n",
            "[nltk_data] Downloading package punkt to /root/nltk_data...\n",
            "[nltk_data]   Unzipping tokenizers/punkt.zip.\n",
            "[nltk_data] Downloading package averaged_perceptron_tagger to\n",
            "[nltk_data]     /root/nltk_data...\n",
            "[nltk_data]   Unzipping taggers/averaged_perceptron_tagger.zip.\n"
          ]
        }
      ]
    },
    {
      "cell_type": "code",
      "metadata": {
        "id": "aIPsp-DyuIqH"
      },
      "source": [
        "# # Checking if marketplace is only in the US\n",
        "# df.marketplace.unique()"
      ],
      "execution_count": 18,
      "outputs": []
    },
    {
      "cell_type": "code",
      "metadata": {
        "id": "HhEgJ_k4C5LX"
      },
      "source": [
        "# (4) Choose the label and features"
      ],
      "execution_count": null,
      "outputs": []
    },
    {
      "cell_type": "code",
      "metadata": {
        "id": "6bAuUZonC5LX"
      },
      "source": [
        "# (5) Feature engineer for data that is\n",
        "# (a) relevant \n",
        "# (b) unique\n",
        "# (c) correct \n",
        "# (d) not missing\n",
        "\n",
        "# Drop data that is not a,b,c, or d\n",
        "# Use one-hot encoding for nominal\n",
        "# Reduce dimensions of your features"
      ],
      "execution_count": null,
      "outputs": []
    },
    {
      "cell_type": "code",
      "metadata": {
        "id": "Dq6UgamkC5LY"
      },
      "source": [
        "# (6) Confirm data is ready with further exploratory analysis"
      ],
      "execution_count": null,
      "outputs": []
    },
    {
      "cell_type": "code",
      "metadata": {
        "id": "1hoZ8o-kC5LY"
      },
      "source": [
        "# (7) Training, Testing (and/or Validation) data split \n",
        "\n",
        "# for example, 60/20/20"
      ],
      "execution_count": null,
      "outputs": []
    },
    {
      "cell_type": "code",
      "metadata": {
        "id": "Wh3Mpqv0C5LY"
      },
      "source": [
        "# (7.b) If using Deep Learning, building the model\n",
        "\n",
        "# Add Input Layer\n",
        "# Add Hidden Layers\n",
        "# Add Output"
      ],
      "execution_count": null,
      "outputs": []
    },
    {
      "cell_type": "code",
      "metadata": {
        "id": "RvmY_kfYC5LZ"
      },
      "source": [
        "# (8) Training the Machine Learning Model (i.e, Fitting the Model)"
      ],
      "execution_count": null,
      "outputs": []
    },
    {
      "cell_type": "code",
      "metadata": {
        "id": "EZ01SXbIC5LZ"
      },
      "source": [
        "# (9) Evaluate the model metrics for Training (and/or Validation) data"
      ],
      "execution_count": null,
      "outputs": []
    },
    {
      "cell_type": "code",
      "metadata": {
        "id": "wTpOxodBC5LZ"
      },
      "source": [
        "# (10) Evaluate the model metris for Testing data\n",
        "\n",
        "\n",
        "# If metrics are poor, optimize either (a) the data, (b) the hyperpamaters"
      ],
      "execution_count": null,
      "outputs": []
    },
    {
      "cell_type": "code",
      "metadata": {
        "id": "0kitVPuJC5LZ"
      },
      "source": [
        "# (11) Use the model for prediction"
      ],
      "execution_count": null,
      "outputs": []
    },
    {
      "cell_type": "code",
      "metadata": {
        "id": "9WEaNzAVC5La"
      },
      "source": [
        "# (12) Write final predicted data  (e.g, to CSV or JSON, etc.)"
      ],
      "execution_count": null,
      "outputs": []
    }
  ]
}