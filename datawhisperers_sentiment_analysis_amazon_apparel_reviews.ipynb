{
  "nbformat": 4,
  "nbformat_minor": 0,
  "metadata": {
    "colab": {
      "name": " datawhisperers_sentiment_analysis_amazon_apparel_reviews.ipynb",
      "provenance": [],
      "collapsed_sections": [
        "3WLtzXUTC5LN"
      ],
      "include_colab_link": true
    },
    "kernelspec": {
      "display_name": "Python 3.7.4 64-bit",
      "name": "python3"
    },
    "language_info": {
      "codemirror_mode": {
        "name": "ipython",
        "version": 3
      },
      "file_extension": ".py",
      "mimetype": "text/x-python",
      "name": "python",
      "nbconvert_exporter": "python",
      "pygments_lexer": "ipython3",
      "version": "3.7.4-final"
    }
  },
  "cells": [
    {
      "cell_type": "markdown",
      "metadata": {
        "id": "view-in-github",
        "colab_type": "text"
      },
      "source": [
        "<a href=\"https://colab.research.google.com/github/hisics/-datawhisperers_final-project_dsml2021/blob/bhavya/datawhisperers_sentiment_analysis_amazon_apparel_reviews.ipynb\" target=\"_parent\"><img src=\"https://colab.research.google.com/assets/colab-badge.svg\" alt=\"Open In Colab\"/></a>"
      ]
    },
    {
      "cell_type": "markdown",
      "metadata": {
        "id": "Ub7F7w29_l0Z"
      },
      "source": [
        "# <b>Capstone Project - ML on Apparel Reviews at Amazon US\n",
        "The Data Whisperers Team ✨  Amba | Bhavya | Sushma | Heba"
      ]
    },
    {
      "cell_type": "markdown",
      "metadata": {
        "id": "3WLtzXUTC5LN"
      },
      "source": [
        "#### Chosen project : Option 8 - Sentiment Analysis for Ecommerce | Apparel\n",
        "---\n",
        "\n"
      ]
    },
    {
      "cell_type": "markdown",
      "metadata": {
        "id": "gCbIE2LUglbI"
      },
      "source": [
        "<b>Objectives</b>\n",
        "- Product owner's perspective: \n",
        "  - Quality improvement |\n",
        "  - Gap analysis | same product different maker?\n",
        "  - Reputation management\n",
        "- Investor's perspective: \n",
        "  - which product owners improve over time\n",
        "- Consumer perspective\n",
        "  - Influencial posts\n",
        "\n",
        "- ML Practice | Inferrential analysis for positive or negative feedback on products in social media product  \n",
        "\n",
        "\n",
        "---\n",
        "Notes: \n",
        "* #todo : means to check or come back to the code"
      ]
    },
    {
      "cell_type": "markdown",
      "metadata": {
        "id": "ZeWDiw-r98hn"
      },
      "source": [
        "<b>Understanding the Dataset</b>\n",
        "\n",
        "* marketplace       : 2 letter country code of the marketplace where the review was written.\n",
        "*customer_id       : Random identifier that can be used to aggregate *reviews written by a single author.\n",
        "*review_id         : The unique ID of the review.\n",
        "*product_id        : The unique Product ID the review pertains to. In the multilingual dataset the reviews for the same product in different countries can be grouped by the same product_id.\n",
        "*product_parent    : Random identifier (can be used to aggregatereviews for the same product).\n",
        "*product_title     : Title of the product.\n",
        "*product_category  : Broad product category.\n",
        "*star_rating       : The 1-5 star rating of the review.\n",
        "*helpful_votes     : Number of helpful votes.\n",
        "*total_votes       : Number of total votes the review received.\n",
        "*vine              : Review was written as part of the Vine program.\n",
        "*verified_purchase : The review is on a verified purchase.\n",
        "*review_headline   : The title of the review.\n",
        "*review_body       : The review text.\n",
        "*review_date       : The date the review was written.\n",
        "\n",
        "From Dany: Look at this document for reference,<br/>\n",
        "https://colab.research.google.com/drive/1g6ZtYOOhGUj1WsiPpeaVPp5T7VFw234e?usp=sharing\n",
        "\n",
        "https://www.tensorflow.org/datasets/catalog/amazon_us_reviews"
      ]
    },
    {
      "cell_type": "markdown",
      "metadata": {
        "id": "QgCQXJ3G_b9K"
      },
      "source": [
        "#### Importing libaries and Apparel dataset"
      ]
    },
    {
      "cell_type": "code",
      "metadata": {
        "id": "ny7TFp0sC5LV"
      },
      "source": [
        "# (1) Import libraries\n",
        "import pandas as pd\n",
        "import matplotlib.pyplot as plt\n",
        "import seaborn as sns\n",
        "from sklearn.naive_bayes import MultinomialNB\n",
        "from sklearn.linear_model import LogisticRegression\n",
        "from sklearn.ensemble import RandomForestClassifier\n",
        "from sklearn.svm import LinearSVC\n",
        "from sklearn.model_selection import train_test_split, cross_val_score,GridSearchCV, RandomizedSearchCV\n",
        "from sklearn.metrics import confusion_matrix, classification_report, roc_curve, roc_auc_score"
      ],
      "execution_count": 1,
      "outputs": []
    },
    {
      "cell_type": "code",
      "metadata": {
        "colab": {
          "base_uri": "https://localhost:8080/"
        },
        "id": "TBaD7dvAC5LW",
        "outputId": "d268f41f-adcc-4094-be23-303952aa02a6"
      },
      "source": [
        "# (2) Download product reviews from Amazon Datasets\n",
        "# You can use reviews from Amazon Datasets for a particular product.\n",
        "# Note that the data are quite large so do not run this cell unless you are willing to wait!\n",
        "# For reference, visit:\n",
        "# https://www.tensorflow.org/datasets/catalog/amazon_us_reviews\n",
        "# https://s3.amazonaws.com/amazon-reviews-pds/readme.html\n",
        "!curl -O https://s3.amazonaws.com/amazon-reviews-pds/tsv/amazon_reviews_us_Apparel_v1_00.tsv.gz"
      ],
      "execution_count": 2,
      "outputs": [
        {
          "output_type": "stream",
          "name": "stdout",
          "text": [
            "  % Total    % Received % Xferd  Average Speed   Time    Time     Time  Current\n",
            "                                 Dload  Upload   Total   Spent    Left  Speed\n",
            "100  618M  100  618M    0     0  31.0M      0  0:00:19  0:00:19 --:--:-- 32.8M\n"
          ]
        }
      ]
    },
    {
      "cell_type": "code",
      "metadata": {
        "id": "EG7i-4E7DR6P"
      },
      "source": [
        "!echo \"y\" | gzip -d amazon_reviews_us_Apparel_v1_00.tsv.gz"
      ],
      "execution_count": 3,
      "outputs": []
    },
    {
      "cell_type": "code",
      "metadata": {
        "colab": {
          "base_uri": "https://localhost:8080/"
        },
        "id": "W7MGo9e-C5LX",
        "outputId": "e369eebf-afec-42a1-c569-917930910fb3"
      },
      "source": [
        "# (3.a) Read the contents of the folder \n",
        "!ls"
      ],
      "execution_count": 4,
      "outputs": [
        {
          "output_type": "stream",
          "name": "stdout",
          "text": [
            "amazon_reviews_us_Apparel_v1_00.tsv  sample_data\n"
          ]
        }
      ]
    },
    {
      "cell_type": "code",
      "metadata": {
        "id": "iPwqyKTuC5LX"
      },
      "source": [
        "# (3.b) Explore data (see what is categorial and numerical)"
      ],
      "execution_count": 5,
      "outputs": []
    },
    {
      "cell_type": "code",
      "metadata": {
        "colab": {
          "base_uri": "https://localhost:8080/"
        },
        "id": "lytjIOzXD2Zu",
        "outputId": "c20e712b-1ae6-4e51-fbcd-e22d6880b1cd"
      },
      "source": [
        "df = pd.read_table('amazon_reviews_us_Apparel_v1_00.tsv', delim_whitespace=False, error_bad_lines=False, nrows=300000)\n",
        "df.info()"
      ],
      "execution_count": 6,
      "outputs": [
        {
          "output_type": "stream",
          "name": "stderr",
          "text": [
            "b'Skipping line 49396: expected 15 fields, saw 22\\nSkipping line 57008: expected 15 fields, saw 22\\n'\n",
            "b'Skipping line 82075: expected 15 fields, saw 22\\nSkipping line 104435: expected 15 fields, saw 22\\nSkipping line 109766: expected 15 fields, saw 22\\nSkipping line 124024: expected 15 fields, saw 22\\nSkipping line 129914: expected 15 fields, saw 22\\nSkipping line 130172: expected 15 fields, saw 22\\n'\n",
            "b'Skipping line 161515: expected 15 fields, saw 22\\n'\n",
            "b'Skipping line 230464: expected 15 fields, saw 22\\n'\n",
            "b'Skipping line 292640: expected 15 fields, saw 22\\nSkipping line 293681: expected 15 fields, saw 22\\n'\n"
          ]
        },
        {
          "output_type": "stream",
          "name": "stdout",
          "text": [
            "<class 'pandas.core.frame.DataFrame'>\n",
            "RangeIndex: 300000 entries, 0 to 299999\n",
            "Data columns (total 15 columns):\n",
            " #   Column             Non-Null Count   Dtype \n",
            "---  ------             --------------   ----- \n",
            " 0   marketplace        300000 non-null  object\n",
            " 1   customer_id        300000 non-null  int64 \n",
            " 2   review_id          300000 non-null  object\n",
            " 3   product_id         300000 non-null  object\n",
            " 4   product_parent     300000 non-null  int64 \n",
            " 5   product_title      300000 non-null  object\n",
            " 6   product_category   300000 non-null  object\n",
            " 7   star_rating        300000 non-null  int64 \n",
            " 8   helpful_votes      300000 non-null  int64 \n",
            " 9   total_votes        300000 non-null  int64 \n",
            " 10  vine               300000 non-null  object\n",
            " 11  verified_purchase  300000 non-null  object\n",
            " 12  review_headline    299999 non-null  object\n",
            " 13  review_body        299858 non-null  object\n",
            " 14  review_date        299997 non-null  object\n",
            "dtypes: int64(5), object(10)\n",
            "memory usage: 34.3+ MB\n"
          ]
        }
      ]
    },
    {
      "cell_type": "code",
      "metadata": {
        "colab": {
          "base_uri": "https://localhost:8080/",
          "height": 487
        },
        "id": "glfGT55PxCuu",
        "outputId": "4355edf5-0586-4279-d343-6339a89a6c5e"
      },
      "source": [
        "# To see how the data looks like and if any is boolean\n",
        "df.tail()"
      ],
      "execution_count": 7,
      "outputs": [
        {
          "output_type": "execute_result",
          "data": {
            "text/html": [
              "<div>\n",
              "<style scoped>\n",
              "    .dataframe tbody tr th:only-of-type {\n",
              "        vertical-align: middle;\n",
              "    }\n",
              "\n",
              "    .dataframe tbody tr th {\n",
              "        vertical-align: top;\n",
              "    }\n",
              "\n",
              "    .dataframe thead th {\n",
              "        text-align: right;\n",
              "    }\n",
              "</style>\n",
              "<table border=\"1\" class=\"dataframe\">\n",
              "  <thead>\n",
              "    <tr style=\"text-align: right;\">\n",
              "      <th></th>\n",
              "      <th>marketplace</th>\n",
              "      <th>customer_id</th>\n",
              "      <th>review_id</th>\n",
              "      <th>product_id</th>\n",
              "      <th>product_parent</th>\n",
              "      <th>product_title</th>\n",
              "      <th>product_category</th>\n",
              "      <th>star_rating</th>\n",
              "      <th>helpful_votes</th>\n",
              "      <th>total_votes</th>\n",
              "      <th>vine</th>\n",
              "      <th>verified_purchase</th>\n",
              "      <th>review_headline</th>\n",
              "      <th>review_body</th>\n",
              "      <th>review_date</th>\n",
              "    </tr>\n",
              "  </thead>\n",
              "  <tbody>\n",
              "    <tr>\n",
              "      <th>299995</th>\n",
              "      <td>US</td>\n",
              "      <td>11794308</td>\n",
              "      <td>RGL12VWDODBGF</td>\n",
              "      <td>B00RNT944O</td>\n",
              "      <td>885862037</td>\n",
              "      <td>Dagacci Medical Uniform Women's Scrub Set Stre...</td>\n",
              "      <td>Apparel</td>\n",
              "      <td>3</td>\n",
              "      <td>0</td>\n",
              "      <td>0</td>\n",
              "      <td>N</td>\n",
              "      <td>Y</td>\n",
              "      <td>They would be a decent pair of scrubs for the ...</td>\n",
              "      <td>They would be a decent pair of scrubs for the ...</td>\n",
              "      <td>2015-08-02</td>\n",
              "    </tr>\n",
              "    <tr>\n",
              "      <th>299996</th>\n",
              "      <td>US</td>\n",
              "      <td>10525470</td>\n",
              "      <td>R1D9YUDSAF43Z9</td>\n",
              "      <td>B00RNT944O</td>\n",
              "      <td>885862037</td>\n",
              "      <td>Dagacci Medical Uniform Women's Scrub Set Stre...</td>\n",
              "      <td>Apparel</td>\n",
              "      <td>3</td>\n",
              "      <td>2</td>\n",
              "      <td>2</td>\n",
              "      <td>N</td>\n",
              "      <td>Y</td>\n",
              "      <td>Fit?</td>\n",
              "      <td>I want to start by saying I love the style. Th...</td>\n",
              "      <td>2015-06-08</td>\n",
              "    </tr>\n",
              "    <tr>\n",
              "      <th>299997</th>\n",
              "      <td>US</td>\n",
              "      <td>11785074</td>\n",
              "      <td>R38HJNAO7LK722</td>\n",
              "      <td>B00RNT944O</td>\n",
              "      <td>885862037</td>\n",
              "      <td>Dagacci Medical Uniform Women's Scrub Set Stre...</td>\n",
              "      <td>Apparel</td>\n",
              "      <td>1</td>\n",
              "      <td>1</td>\n",
              "      <td>1</td>\n",
              "      <td>N</td>\n",
              "      <td>Y</td>\n",
              "      <td>One Star</td>\n",
              "      <td>They were too small, and it was difficult to r...</td>\n",
              "      <td>2015-05-12</td>\n",
              "    </tr>\n",
              "    <tr>\n",
              "      <th>299998</th>\n",
              "      <td>US</td>\n",
              "      <td>24098870</td>\n",
              "      <td>R3TT5VMKGA7MG6</td>\n",
              "      <td>B00RNT944O</td>\n",
              "      <td>885862037</td>\n",
              "      <td>Dagacci Medical Uniform Women's Scrub Set Stre...</td>\n",
              "      <td>Apparel</td>\n",
              "      <td>4</td>\n",
              "      <td>0</td>\n",
              "      <td>0</td>\n",
              "      <td>N</td>\n",
              "      <td>Y</td>\n",
              "      <td>For the price these scrubs are great! The top ...</td>\n",
              "      <td>For the price these scrubs are great! The top ...</td>\n",
              "      <td>2015-08-31</td>\n",
              "    </tr>\n",
              "    <tr>\n",
              "      <th>299999</th>\n",
              "      <td>US</td>\n",
              "      <td>19988435</td>\n",
              "      <td>R1V5G2V0O5QXDT</td>\n",
              "      <td>B00RNT940S</td>\n",
              "      <td>885862037</td>\n",
              "      <td>Dagacci Medical Uniform Women's Scrub Set Stre...</td>\n",
              "      <td>Apparel</td>\n",
              "      <td>3</td>\n",
              "      <td>0</td>\n",
              "      <td>0</td>\n",
              "      <td>N</td>\n",
              "      <td>Y</td>\n",
              "      <td>Three Stars</td>\n",
              "      <td>good quality but it's quite large for me</td>\n",
              "      <td>2015-08-26</td>\n",
              "    </tr>\n",
              "  </tbody>\n",
              "</table>\n",
              "</div>"
            ],
            "text/plain": [
              "       marketplace  ...  review_date\n",
              "299995          US  ...   2015-08-02\n",
              "299996          US  ...   2015-06-08\n",
              "299997          US  ...   2015-05-12\n",
              "299998          US  ...   2015-08-31\n",
              "299999          US  ...   2015-08-26\n",
              "\n",
              "[5 rows x 15 columns]"
            ]
          },
          "metadata": {},
          "execution_count": 7
        }
      ]
    },
    {
      "cell_type": "markdown",
      "metadata": {
        "id": "SRkCf5Pk9YCx"
      },
      "source": [
        "###Cleaning data and converting data types\n"
      ]
    },
    {
      "cell_type": "markdown",
      "metadata": {
        "id": "1IKKlScwO-yZ"
      },
      "source": [
        "#### Pre-processing the columns without review text"
      ]
    },
    {
      "cell_type": "code",
      "metadata": {
        "colab": {
          "base_uri": "https://localhost:8080/"
        },
        "id": "5-2JEGQ9ymK3",
        "outputId": "49d7f7dd-0f13-4240-f9c8-88380225c787"
      },
      "source": [
        "# Checking unique values of each row in all columns\n",
        "n = df.nunique(axis=0)\n",
        "print(\n",
        "    \"Total number of rows in this data set is:{}\\nNumber of unique values in each column for in this dataset is:\\n\"\n",
        "    .format(len(df)), n)\n",
        "# outcome --> drop marketplace-category-reviewID\n",
        "# outcome --> bool vine verified purchase"
      ],
      "execution_count": 8,
      "outputs": [
        {
          "output_type": "stream",
          "name": "stdout",
          "text": [
            "Total number of rows in this data set is:300000\n",
            "Number of unique values in each column for in this dataset is:\n",
            " marketplace               1\n",
            "customer_id          241149\n",
            "review_id            300000\n",
            "product_id           182913\n",
            "product_parent       103541\n",
            "product_title        100013\n",
            "product_category          1\n",
            "star_rating               5\n",
            "helpful_votes           277\n",
            "total_votes             293\n",
            "vine                      2\n",
            "verified_purchase         2\n",
            "review_headline      143469\n",
            "review_body          270057\n",
            "review_date             271\n",
            "dtype: int64\n"
          ]
        }
      ]
    },
    {
      "cell_type": "code",
      "metadata": {
        "colab": {
          "base_uri": "https://localhost:8080/",
          "height": 69
        },
        "id": "wSPAMKIX2rdt",
        "outputId": "111376f7-1de4-4bba-a921-a5cfc39dd21f"
      },
      "source": [
        "# Cleaning\n",
        "# (1) Drop irrelevant info: marketplace + product_category + review_id\n",
        "df.drop(['marketplace','product_category','review_id'], axis=1, inplace=True)\n",
        "\n",
        "# (2) Map: vine + verified_purchase (y:1, n:0)\n",
        "YN_to_bool = {'Y': 1,'N': 0}\n",
        "df['vine'] = df['vine'].map( YN_to_bool )\n",
        "df['verified_purchase'] = df['verified_purchase'].map( YN_to_bool)\n",
        "\n",
        "# (3) Datetime: review_date\n",
        "df['review_date'] = pd.to_datetime(df['review_date'])\n",
        " \n",
        "# (4) Combine the review headline and review date columns\n",
        "df['review_body'] = df['review_headline'] + ' ' + df['review_body']\n",
        "del df['review_headline']\n",
        "\n",
        "# (5) Drop the rows where there are no reviews and no review dates\n",
        "df.dropna(subset = ['review_body'], inplace = True)\n",
        "df.dropna(subset = ['review_date'], inplace = True)\n",
        "\n",
        "#  creating numerical df -> df_num for EDA\n",
        "#  creating categorical df -> df_cat\n",
        "cat_list = ['product_parent','product_id','customer_id','product_title','review_body']\n",
        "\n",
        "df_num = df.drop(cat_list, inplace = False , axis = 1) \n",
        "df_cat = df[cat_list]\n",
        "\n",
        "# Print to see the null rows if any\n",
        "null_columns=df.columns[df.isnull().any()]\n",
        "df[df[\"review_date\"].isnull()] #[null_columns] add to tail end to show null columns when that particular colum is null"
      ],
      "execution_count": 9,
      "outputs": [
        {
          "output_type": "execute_result",
          "data": {
            "text/html": [
              "<div>\n",
              "<style scoped>\n",
              "    .dataframe tbody tr th:only-of-type {\n",
              "        vertical-align: middle;\n",
              "    }\n",
              "\n",
              "    .dataframe tbody tr th {\n",
              "        vertical-align: top;\n",
              "    }\n",
              "\n",
              "    .dataframe thead th {\n",
              "        text-align: right;\n",
              "    }\n",
              "</style>\n",
              "<table border=\"1\" class=\"dataframe\">\n",
              "  <thead>\n",
              "    <tr style=\"text-align: right;\">\n",
              "      <th></th>\n",
              "      <th>customer_id</th>\n",
              "      <th>product_id</th>\n",
              "      <th>product_parent</th>\n",
              "      <th>product_title</th>\n",
              "      <th>star_rating</th>\n",
              "      <th>helpful_votes</th>\n",
              "      <th>total_votes</th>\n",
              "      <th>vine</th>\n",
              "      <th>verified_purchase</th>\n",
              "      <th>review_body</th>\n",
              "      <th>review_date</th>\n",
              "    </tr>\n",
              "  </thead>\n",
              "  <tbody>\n",
              "  </tbody>\n",
              "</table>\n",
              "</div>"
            ],
            "text/plain": [
              "Empty DataFrame\n",
              "Columns: [customer_id, product_id, product_parent, product_title, star_rating, helpful_votes, total_votes, vine, verified_purchase, review_body, review_date]\n",
              "Index: []"
            ]
          },
          "metadata": {},
          "execution_count": 9
        }
      ]
    },
    {
      "cell_type": "code",
      "metadata": {
        "colab": {
          "base_uri": "https://localhost:8080/"
        },
        "id": "jYh4zufBHCJR",
        "outputId": "c0b61132-43e9-4212-9568-76eec9449749"
      },
      "source": [
        "df.info()\n",
        "df_cat.info() \n",
        "df_num.info()"
      ],
      "execution_count": 10,
      "outputs": [
        {
          "output_type": "stream",
          "name": "stdout",
          "text": [
            "<class 'pandas.core.frame.DataFrame'>\n",
            "Int64Index: 299854 entries, 0 to 299999\n",
            "Data columns (total 11 columns):\n",
            " #   Column             Non-Null Count   Dtype         \n",
            "---  ------             --------------   -----         \n",
            " 0   customer_id        299854 non-null  int64         \n",
            " 1   product_id         299854 non-null  object        \n",
            " 2   product_parent     299854 non-null  int64         \n",
            " 3   product_title      299854 non-null  object        \n",
            " 4   star_rating        299854 non-null  int64         \n",
            " 5   helpful_votes      299854 non-null  int64         \n",
            " 6   total_votes        299854 non-null  int64         \n",
            " 7   vine               299854 non-null  int64         \n",
            " 8   verified_purchase  299854 non-null  int64         \n",
            " 9   review_body        299854 non-null  object        \n",
            " 10  review_date        299854 non-null  datetime64[ns]\n",
            "dtypes: datetime64[ns](1), int64(7), object(3)\n",
            "memory usage: 27.5+ MB\n",
            "<class 'pandas.core.frame.DataFrame'>\n",
            "Int64Index: 299854 entries, 0 to 299999\n",
            "Data columns (total 5 columns):\n",
            " #   Column          Non-Null Count   Dtype \n",
            "---  ------          --------------   ----- \n",
            " 0   product_parent  299854 non-null  int64 \n",
            " 1   product_id      299854 non-null  object\n",
            " 2   customer_id     299854 non-null  int64 \n",
            " 3   product_title   299854 non-null  object\n",
            " 4   review_body     299854 non-null  object\n",
            "dtypes: int64(2), object(3)\n",
            "memory usage: 13.7+ MB\n",
            "<class 'pandas.core.frame.DataFrame'>\n",
            "Int64Index: 299854 entries, 0 to 299999\n",
            "Data columns (total 6 columns):\n",
            " #   Column             Non-Null Count   Dtype         \n",
            "---  ------             --------------   -----         \n",
            " 0   star_rating        299854 non-null  int64         \n",
            " 1   helpful_votes      299854 non-null  int64         \n",
            " 2   total_votes        299854 non-null  int64         \n",
            " 3   vine               299854 non-null  int64         \n",
            " 4   verified_purchase  299854 non-null  int64         \n",
            " 5   review_date        299854 non-null  datetime64[ns]\n",
            "dtypes: datetime64[ns](1), int64(5)\n",
            "memory usage: 16.0 MB\n"
          ]
        }
      ]
    },
    {
      "cell_type": "markdown",
      "metadata": {
        "id": "JKVO9FRnB7nz"
      },
      "source": [
        "#### Pre-processing the text fields\n",
        "##### Useful resource for cleaning text\n",
        "https://medium.com/mlearning-ai/10-python-functions-you-need-to-apply-before-you-build-your-nlp-sentiment-analysis-model-874a37e0217e"
      ]
    },
    {
      "cell_type": "code",
      "metadata": {
        "colab": {
          "base_uri": "https://localhost:8080/"
        },
        "id": "kih3Xnvyl9FR",
        "outputId": "3138036b-16b6-433b-f9c2-68848fe78ff3"
      },
      "source": [
        "print(df['review_body'])"
      ],
      "execution_count": 11,
      "outputs": [
        {
          "output_type": "stream",
          "name": "stdout",
          "text": [
            "0         ★ THESE REALLY DO WORK GREAT WITH SOME TWEAKIN...\n",
            "1         Favorite for winter. Very warm! I love this dr...\n",
            "2         Great Socks for the money. Nice socks, great c...\n",
            "3         Slick hat! I bought this for my husband and WO...\n",
            "4         I would do it again! Perfect dress and the cus...\n",
            "                                ...                        \n",
            "299995    They would be a decent pair of scrubs for the ...\n",
            "299996    Fit? I want to start by saying I love the styl...\n",
            "299997    One Star They were too small, and it was diffi...\n",
            "299998    For the price these scrubs are great! The top ...\n",
            "299999    Three Stars good quality but it's quite large ...\n",
            "Name: review_body, Length: 299854, dtype: object\n"
          ]
        }
      ]
    },
    {
      "cell_type": "code",
      "metadata": {
        "id": "AddOnryNBpPk"
      },
      "source": [
        "# Removing the hashtags | Revise - not working #todo\n",
        "import re      # Import REGEX\n",
        "def remove_mentions(text):\n",
        "  text = re.sub(\"@[A-Za-z0-9_]+\",\"\", text)\n",
        "  text = re.sub(\"#[A-Za-z0-9_]+\",\"\", text)\n",
        "  return text\n",
        "\n",
        "df['review_body'] = df.apply(lambda row: remove_mentions(row['review_body']), axis=1)\n",
        "df['product_title'] = df.apply(lambda row: remove_mentions(row['product_title']), axis=1)"
      ],
      "execution_count": 12,
      "outputs": []
    },
    {
      "cell_type": "code",
      "metadata": {
        "id": "E2tNPNqL18Bh"
      },
      "source": [
        "# Removing the emojis |\n",
        "\n",
        "# # Reference code: https://gist.github.com/slowkow/7a7f61f495e3dbb7e3d767f97bd7304b\n",
        "# def remove_emoji(review_body):\n",
        "#     emoji_pattern = re.compile(\"[\"\n",
        "#                                u\"\\U0001F600-\\U0001F64F\"  # emoticons\n",
        "#                                u\"\\U0001F300-\\U0001F5FF\"  # symbols & pictographs\n",
        "#                                u\"\\U0001F680-\\U0001F6FF\"  # transport & map symbols\n",
        "#                                u\"\\U0001F1E0-\\U0001F1FF\"  # flags (iOS)\n",
        "#                                u\"\\U00002500-\\U00002BEF\"  # chinese char\n",
        "#                                u\"\\U00002702-\\U000027B0\"\n",
        "#                                u\"\\U00002702-\\U000027B0\"\n",
        "#                                u\"\\U000024C2-\\U0001F251\"\n",
        "#                                u\"\\U0001f926-\\U0001f937\"\n",
        "#                                u\"\\U00010000-\\U0010ffff\"\n",
        "#                                u\"\\u2640-\\u2642\"\n",
        "#                                u\"\\u2600-\\u2B55\"\n",
        "#                                u\"\\u200d\"\n",
        "#                                u\"\\u23cf\"\n",
        "#                                u\"\\u23e9\"\n",
        "#                                u\"\\u231a\"\n",
        "#                                u\"\\ufe0f\"  # dingbats\n",
        "#                                u\"\\u3030\"\n",
        "#                                \"]+\", flags=re.UNICODE)\n",
        "#     return emoji_pattern.sub(r'', string)"
      ],
      "execution_count": 13,
      "outputs": []
    },
    {
      "cell_type": "code",
      "metadata": {
        "colab": {
          "base_uri": "https://localhost:8080/"
        },
        "id": "goaMsuuiDNON",
        "outputId": "e4b446eb-560e-4f8d-e30e-dd941dae8ed1"
      },
      "source": [
        "# Importing text cleaning libraries \n",
        "# Tokenizer: Tokenization of data. At one stage we will need to deal with our text as a words list to iterate between the words and apply certain functions on it\n",
        "\n",
        "import nltk         #Natural language processing tool-kit\n",
        "nltk.download('stopwords')\n",
        "nltk.download('wordnet')\n",
        "nltk.download('punkt')\n",
        "nltk.download('averaged_perceptron_tagger') \n",
        "\n",
        "from nltk.tokenize import word_tokenize, sent_tokenize  # Import Tokenizer.\n",
        "\n"
      ],
      "execution_count": 14,
      "outputs": [
        {
          "output_type": "stream",
          "name": "stdout",
          "text": [
            "[nltk_data] Downloading package stopwords to /root/nltk_data...\n",
            "[nltk_data]   Unzipping corpora/stopwords.zip.\n",
            "[nltk_data] Downloading package wordnet to /root/nltk_data...\n",
            "[nltk_data]   Unzipping corpora/wordnet.zip.\n",
            "[nltk_data] Downloading package punkt to /root/nltk_data...\n",
            "[nltk_data]   Unzipping tokenizers/punkt.zip.\n",
            "[nltk_data] Downloading package averaged_perceptron_tagger to\n",
            "[nltk_data]     /root/nltk_data...\n",
            "[nltk_data]   Unzipping taggers/averaged_perceptron_tagger.zip.\n"
          ]
        }
      ]
    },
    {
      "cell_type": "code",
      "metadata": {
        "colab": {
          "base_uri": "https://localhost:8080/"
        },
        "id": "_R4u4Anv6Piu",
        "outputId": "1a530c64-edfa-4bb2-f0db-df9aac9a54b3"
      },
      "source": [
        "# lower all upper case and enumerate words into a list\n",
        "df['review_body'] = df['review_body'].str.lower()\n",
        "df['product_title'] = df['product_title'].str.lower()\n",
        "df['product_title']"
      ],
      "execution_count": 15,
      "outputs": [
        {
          "output_type": "execute_result",
          "data": {
            "text/plain": [
              "0         easy tool stainless steel fruit pineapple core...\n",
              "1         v28 women cowl neck knit stretchable elasticit...\n",
              "2         james fiallo men's 12-pairs low cut athletic s...\n",
              "3         belfry gangster 100% wool stain-resistant crus...\n",
              "4         jaeden women's beaded spaghetti straps sexy lo...\n",
              "                                ...                        \n",
              "299995    dagacci medical uniform women's scrub set stre...\n",
              "299996    dagacci medical uniform women's scrub set stre...\n",
              "299997    dagacci medical uniform women's scrub set stre...\n",
              "299998    dagacci medical uniform women's scrub set stre...\n",
              "299999    dagacci medical uniform women's scrub set stre...\n",
              "Name: product_title, Length: 299854, dtype: object"
            ]
          },
          "metadata": {},
          "execution_count": 15
        }
      ]
    },
    {
      "cell_type": "code",
      "metadata": {
        "id": "RTFDUv9zWgUf"
      },
      "source": [
        "# Removal of numbers and digits\n",
        "import re      # Import REGEX\n",
        "def remove_numbers(text):\n",
        "  text = re.sub(r'\\d+', '', str(text))\n",
        "  return text\n",
        "\n",
        "df['review_body'] = df.apply(lambda row: remove_numbers(row['review_body']), axis=1)\n",
        "df['product_title'] = df.apply(lambda row: remove_numbers(row['product_title']), axis=1)"
      ],
      "execution_count": 16,
      "outputs": []
    },
    {
      "cell_type": "code",
      "metadata": {
        "id": "57xUt-yzYALg"
      },
      "source": [
        "# Removal of special characters\n",
        "import re, string, unicodedata # Import Regex, string and unicodedata.\n",
        "def remove_non_ascii(words):\n",
        "    words = unicodedata.normalize('NFKD', words).encode('ascii', 'ignore').decode('utf-8', 'ignore')\n",
        "    return words\n",
        "\n",
        "df['review_body'] = df.apply(lambda row: remove_non_ascii(row['review_body']), axis=1)\n",
        "df['product_title'] = df.apply(lambda row: remove_non_ascii(row['product_title']), axis=1)"
      ],
      "execution_count": 17,
      "outputs": []
    },
    {
      "cell_type": "code",
      "metadata": {
        "id": "l2GwxbzuYIN_"
      },
      "source": [
        "# Removal of punctuation\n",
        "import re      # Import REGEX\n",
        "def remove_punctuation(text):\n",
        "  text = re.sub(r'[^\\w\\s]', '', str(text))\n",
        "  return text\n",
        "\n",
        "df['review_body'] = df.apply(lambda row: remove_punctuation(row['review_body']), axis=1)\n",
        "df['product_title'] = df.apply(lambda row: remove_punctuation(row['product_title']), axis=1)\n"
      ],
      "execution_count": 18,
      "outputs": []
    },
    {
      "cell_type": "markdown",
      "metadata": {
        "id": "UlcIQtgryy47"
      },
      "source": [
        "### EDA and Feature Engineering"
      ]
    },
    {
      "cell_type": "code",
      "metadata": {
        "colab": {
          "base_uri": "https://localhost:8080/",
          "height": 300
        },
        "id": "UyzhOFk8zR6v",
        "outputId": "db70099f-5421-4415-9fef-8c59e28ca4d6"
      },
      "source": [
        "# Quick check: Using discriptive statistics + measures of dispersion\n",
        "# Note: customer_id and product_parent are random numbers not for descriptive analysis\n",
        "df_discriptive = df.drop(['customer_id', 'product_parent'],axis = 1,inplace = False)\n",
        "df_discriptive.describe()\n",
        "\n",
        "df_num.describe()"
      ],
      "execution_count": 19,
      "outputs": [
        {
          "output_type": "execute_result",
          "data": {
            "text/html": [
              "<div>\n",
              "<style scoped>\n",
              "    .dataframe tbody tr th:only-of-type {\n",
              "        vertical-align: middle;\n",
              "    }\n",
              "\n",
              "    .dataframe tbody tr th {\n",
              "        vertical-align: top;\n",
              "    }\n",
              "\n",
              "    .dataframe thead th {\n",
              "        text-align: right;\n",
              "    }\n",
              "</style>\n",
              "<table border=\"1\" class=\"dataframe\">\n",
              "  <thead>\n",
              "    <tr style=\"text-align: right;\">\n",
              "      <th></th>\n",
              "      <th>star_rating</th>\n",
              "      <th>helpful_votes</th>\n",
              "      <th>total_votes</th>\n",
              "      <th>vine</th>\n",
              "      <th>verified_purchase</th>\n",
              "    </tr>\n",
              "  </thead>\n",
              "  <tbody>\n",
              "    <tr>\n",
              "      <th>count</th>\n",
              "      <td>299854.000000</td>\n",
              "      <td>299854.000000</td>\n",
              "      <td>299854.000000</td>\n",
              "      <td>299854.000000</td>\n",
              "      <td>299854.000000</td>\n",
              "    </tr>\n",
              "    <tr>\n",
              "      <th>mean</th>\n",
              "      <td>3.980694</td>\n",
              "      <td>1.289301</td>\n",
              "      <td>1.528801</td>\n",
              "      <td>0.002294</td>\n",
              "      <td>0.917520</td>\n",
              "    </tr>\n",
              "    <tr>\n",
              "      <th>std</th>\n",
              "      <td>1.361413</td>\n",
              "      <td>11.471966</td>\n",
              "      <td>11.939118</td>\n",
              "      <td>0.047846</td>\n",
              "      <td>0.275095</td>\n",
              "    </tr>\n",
              "    <tr>\n",
              "      <th>min</th>\n",
              "      <td>1.000000</td>\n",
              "      <td>0.000000</td>\n",
              "      <td>0.000000</td>\n",
              "      <td>0.000000</td>\n",
              "      <td>0.000000</td>\n",
              "    </tr>\n",
              "    <tr>\n",
              "      <th>25%</th>\n",
              "      <td>3.000000</td>\n",
              "      <td>0.000000</td>\n",
              "      <td>0.000000</td>\n",
              "      <td>0.000000</td>\n",
              "      <td>1.000000</td>\n",
              "    </tr>\n",
              "    <tr>\n",
              "      <th>50%</th>\n",
              "      <td>5.000000</td>\n",
              "      <td>0.000000</td>\n",
              "      <td>0.000000</td>\n",
              "      <td>0.000000</td>\n",
              "      <td>1.000000</td>\n",
              "    </tr>\n",
              "    <tr>\n",
              "      <th>75%</th>\n",
              "      <td>5.000000</td>\n",
              "      <td>1.000000</td>\n",
              "      <td>1.000000</td>\n",
              "      <td>0.000000</td>\n",
              "      <td>1.000000</td>\n",
              "    </tr>\n",
              "    <tr>\n",
              "      <th>max</th>\n",
              "      <td>5.000000</td>\n",
              "      <td>3675.000000</td>\n",
              "      <td>3714.000000</td>\n",
              "      <td>1.000000</td>\n",
              "      <td>1.000000</td>\n",
              "    </tr>\n",
              "  </tbody>\n",
              "</table>\n",
              "</div>"
            ],
            "text/plain": [
              "         star_rating  helpful_votes  ...           vine  verified_purchase\n",
              "count  299854.000000  299854.000000  ...  299854.000000      299854.000000\n",
              "mean        3.980694       1.289301  ...       0.002294           0.917520\n",
              "std         1.361413      11.471966  ...       0.047846           0.275095\n",
              "min         1.000000       0.000000  ...       0.000000           0.000000\n",
              "25%         3.000000       0.000000  ...       0.000000           1.000000\n",
              "50%         5.000000       0.000000  ...       0.000000           1.000000\n",
              "75%         5.000000       1.000000  ...       0.000000           1.000000\n",
              "max         5.000000    3675.000000  ...       1.000000           1.000000\n",
              "\n",
              "[8 rows x 5 columns]"
            ]
          },
          "metadata": {},
          "execution_count": 19
        }
      ]
    },
    {
      "cell_type": "code",
      "metadata": {
        "colab": {
          "base_uri": "https://localhost:8080/",
          "height": 554
        },
        "id": "69ZlPecRzaOc",
        "outputId": "5fc7b008-68d5-40e9-f0ff-5d84d7d14273"
      },
      "source": [
        "# Check the distribution of the star rating with the DataFrame | reference chart: https://www.datacamp.com/community/tutorials/histograms-matplotlib\n",
        "# plt.hist(df.star_rating, bins='auto', color = \"skyblue\", ec='grey')\n",
        "# plt.gca().set(title='Frequency Histogram | Review Stars |', ylabel='Frequency',xlabel = 'stars',alpha=0.7, rwidth=0.85);\n",
        "# plt.show()\n",
        "\n",
        "fig = plt.figure(figsize = (12,8))\n",
        "ax = fig.gca()\n",
        "df_discriptive.hist(ax=ax, color = \"skyblue\", ec='grey')\n",
        "plt.show()\n",
        "\n",
        "# Clustering per groups of product parent | votes per product parent\n",
        "# Sentimet (from -ve) most common words for improvement | from (+ve) most common words for gap analysis\n",
        "# we will need to scale our stars to min max\n",
        "# then our scaled stars are our sentiment label, and text is the features? \n"
      ],
      "execution_count": 20,
      "outputs": [
        {
          "output_type": "stream",
          "name": "stderr",
          "text": [
            "/usr/local/lib/python3.7/dist-packages/ipykernel_launcher.py:8: UserWarning: To output multiple subplots, the figure containing the passed axes is being cleared\n",
            "  \n"
          ]
        },
        {
          "output_type": "display_data",
          "data": {
            "image/png": "[encoded data removed]",
            "text/plain": [
              "<Figure size 864x576 with 6 Axes>"
            ]
          },
          "metadata": {
            "needs_background": "light"
          }
        }
      ]
    },
    {
      "cell_type": "code",
      "metadata": {
        "colab": {
          "base_uri": "https://localhost:8080/",
          "height": 339
        },
        "id": "qw-EMFLieWSI",
        "outputId": "38700fd1-b0b3-45da-95d8-eec32c564cef"
      },
      "source": [
        "# Looking at year and month for review | seems we can extra clean outliers outside 2015 #todo\n",
        "df.star_rating.groupby([df[\"review_date\"].dt.year, df[\"review_date\"].dt.month]).count().plot(kind=\"bar\")"
      ],
      "execution_count": 21,
      "outputs": [
        {
          "output_type": "execute_result",
          "data": {
            "text/plain": [
              "<matplotlib.axes._subplots.AxesSubplot at 0x7f7ba135c690>"
            ]
          },
          "metadata": {},
          "execution_count": 21
        },
        {
          "output_type": "display_data",
          "data": {
            "image/png": "[encoded data removed]",
            "text/plain": [
              "<Figure size 432x288 with 1 Axes>"
            ]
          },
          "metadata": {
            "needs_background": "light"
          }
        }
      ]
    },
    {
      "cell_type": "code",
      "metadata": {
        "colab": {
          "base_uri": "https://localhost:8080/"
        },
        "id": "Y-UGWdMjpBDD",
        "outputId": "592217a9-18f1-4e32-9ea8-da98f14ce44b"
      },
      "source": [
        "# Looking at product parent | \n",
        "df.product_id.groupby([df[\"product_parent\"],df['star_rating']]).count().plot(kind=\"bar\")"
      ],
      "execution_count": null,
      "outputs": [
        {
          "output_type": "execute_result",
          "data": {
            "text/plain": [
              "<matplotlib.axes._subplots.AxesSubplot at 0x7f7b9fc7ba50>"
            ]
          },
          "metadata": {},
          "execution_count": 22
        }
      ]
    },
    {
      "cell_type": "code",
      "metadata": {
        "id": "5YPGN_ky__01"
      },
      "source": [
        "# Distribution of Amazon Product Ratings\n",
        "ratings = df[\"star_rating\"].value_counts()\n",
        "numbers = ratings.index\n",
        "quantity = ratings.values\n",
        "\n",
        "custom_colors = [\"skyblue\", \"yellowgreen\", 'tomato', \"blue\", \"red\"]\n",
        "plt.figure(figsize=(10, 8))\n",
        "plt.pie(quantity, labels=numbers, colors=custom_colors)\n",
        "central_circle = plt.Circle((0, 0), 0.5, color='white')\n",
        "fig = plt.gcf()\n",
        "fig.gca().add_artist(central_circle)\n",
        "plt.rc('font', size=12)\n",
        "plt.title(\"Distribution of Amazon Product Ratings\", fontsize=20)\n",
        "plt.show()"
      ],
      "execution_count": null,
      "outputs": []
    },
    {
      "cell_type": "code",
      "metadata": {
        "id": "5R8fkGEGABvc"
      },
      "source": [
        "def sentiment(row):\n",
        "    \n",
        "    '''This function returns sentiment value based on the star_rating from the user'''\n",
        "    \n",
        "    if row['star_rating'] == 3.0:\n",
        "        val = 'Neutral'\n",
        "    elif row['star_rating'] == 1.0 or row['star_rating'] == 2.0:\n",
        "        val = 'Negative'\n",
        "    elif row['star_rating'] == 4.0 or row['star_rating'] == 5.0:\n",
        "        val = 'Positive'\n",
        "    else:\n",
        "        val = -1\n",
        "    return val"
      ],
      "execution_count": null,
      "outputs": []
    },
    {
      "cell_type": "code",
      "metadata": {
        "id": "OkGSlA4qAFKs"
      },
      "source": [
        "#Applying the function in our new column\n",
        "df['sentiment'] = df.apply(sentiment, axis=1)\n",
        "df.head()"
      ],
      "execution_count": null,
      "outputs": []
    },
    {
      "cell_type": "code",
      "metadata": {
        "id": "6bCk3bG_AI68"
      },
      "source": [
        "# (5) Feature engineer for data that is\n",
        "# (a) relevant \n",
        "# (b) unique\n",
        "# (c) correct \n",
        "# (d) not missing\n",
        "\n",
        "# Drop data that is not a,b,c, or d\n",
        "# Use one-hot encoding for nominal\n",
        "# Reduce dimensions of your features\n",
        "\n",
        "# Put features into dataframe\n",
        "# Distribution of sentiment class\n",
        "fig, axes = plt.subplots(1, figsize=(15,8))\n",
        "fig.suptitle(\"Comparing Ratio of Neutral Negative and Positive ratings\", fontsize = 25)\n",
        "plt.tight_layout(pad = 3.5)\n",
        "sns.countplot(x = \"sentiment\", data = df)\n",
        "axes.set_xlabel(\"Sentiment\", fontsize = 20)\n",
        "axes.set_ylabel(\"Count\", fontsize = 20)\n",
        "sns.despine()"
      ],
      "execution_count": null,
      "outputs": []
    },
    {
      "cell_type": "code",
      "metadata": {
        "id": "CCDPVgBwAL1m"
      },
      "source": [
        "# Group by product and Rating class\n",
        "df.groupby(\"product_title\")[\"review_body\"].unique()"
      ],
      "execution_count": null,
      "outputs": []
    },
    {
      "cell_type": "code",
      "metadata": {
        "id": "ZoBL1pgYAMYU"
      },
      "source": [
        "# Group by product and Rating class\n",
        "df.groupby(\"product_title\")[\"product_id\"].count()"
      ],
      "execution_count": null,
      "outputs": []
    },
    {
      "cell_type": "code",
      "metadata": {
        "id": "GEsotOp3Fgkn"
      },
      "source": [
        "# Group by product and Rating class\n",
        "df.groupby(\"product_title\")[\"sentiment\"].unique()"
      ],
      "execution_count": null,
      "outputs": []
    },
    {
      "cell_type": "code",
      "metadata": {
        "id": "HhEgJ_k4C5LX"
      },
      "source": [
        "# (4) Choose the label and features"
      ],
      "execution_count": null,
      "outputs": []
    },
    {
      "cell_type": "code",
      "metadata": {
        "id": "6bAuUZonC5LX"
      },
      "source": [
        "# (5) Feature engineer for data that is\n",
        "# (a) relevant \n",
        "# (b) unique\n",
        "# (c) correct \n",
        "# (d) not missing\n",
        "\n",
        "# Drop data that is not a,b,c, or d\n",
        "# Use one-hot encoding for nominal\n",
        "# Reduce dimensions of your features"
      ],
      "execution_count": null,
      "outputs": []
    },
    {
      "cell_type": "code",
      "metadata": {
        "id": "utzlM4pvAQwt"
      },
      "source": [
        "# Plot number of reviews for top 50 products\n",
        "products = df[\"product_id\"].value_counts()\n",
        "plt.figure(figsize=(12,8))\n",
        "products[:10].plot(kind='bar')\n",
        "plt.title(\"Number of Reviews for Top 50 Products\")"
      ],
      "execution_count": null,
      "outputs": []
    },
    {
      "cell_type": "code",
      "metadata": {
        "id": "Xgy6fvkZBx-V"
      },
      "source": [
        "# Plot number of reviews for top 50 products\n",
        "products = df[\"product_title\"].value_counts()\n",
        "plt.figure(figsize=(12,8))\n",
        "products[:10].plot(kind='bar')\n",
        "plt.title(\"Number of Reviews for Top 50 Products\")"
      ],
      "execution_count": null,
      "outputs": []
    },
    {
      "cell_type": "code",
      "metadata": {
        "id": "yO7Cao81BKFd"
      },
      "source": [
        "# Word Count per Review type\n",
        "from textblob import TextBlob\n",
        "df['text_word_count']= df.apply(lambda row: len(row['review_body']), axis=1)\n",
        "# df[\"text_word_count\"] = temp_df[\"Text\"].apply(lambda text: len(text.split()))\n"
      ],
      "execution_count": null,
      "outputs": []
    },
    {
      "cell_type": "code",
      "metadata": {
        "id": "xowxyipbBXwt"
      },
      "source": [
        "df[df.star_rating==5].text_word_count.median()"
      ],
      "execution_count": null,
      "outputs": []
    },
    {
      "cell_type": "code",
      "metadata": {
        "id": "K1fJ-or2BPh9"
      },
      "source": [
        "sns.boxplot(x='star_rating',y='text_word_count', data=df, palette='RdBu', showfliers=False)\n",
        "plt.show()"
      ],
      "execution_count": null,
      "outputs": []
    },
    {
      "cell_type": "code",
      "metadata": {
        "id": "C_pVB7QSBfVF"
      },
      "source": [
        "sns.boxplot(x='sentiment',y='text_word_count', data=df, palette='RdBu', showfliers=False)\n",
        "plt.show()"
      ],
      "execution_count": null,
      "outputs": []
    },
    {
      "cell_type": "code",
      "metadata": {
        "id": "Dq6UgamkC5LY"
      },
      "source": [
        "# (6) Confirm data is ready with further exploratory analysis\n"
      ],
      "execution_count": null,
      "outputs": []
    },
    {
      "cell_type": "markdown",
      "metadata": {
        "id": "2B69HsoGAn80"
      },
      "source": [
        "\n",
        "\n",
        "*   Maximum reviews are positive\n",
        "*   Product with Max reviews is Tummy slimming belt\n",
        "*   This shows people mainly target losing weight :)\n",
        "*   Postive reviews has lesser words compared to Neutral and negative. Neutral commets are ones with most words. Which can be critic comment or unsatisfied customers.\n",
        "\n",
        "\n",
        "\n"
      ]
    },
    {
      "cell_type": "markdown",
      "metadata": {
        "id": "v5kE58WwCac1"
      },
      "source": [
        "### Popular words in Review"
      ]
    },
    {
      "cell_type": "code",
      "metadata": {
        "id": "gmiHZQYK5zJn"
      },
      "source": [
        "pos = df_discriptive.loc[df['classes'] == 'positive']\n",
        "pos = pos[0:25000]\n",
        "\n",
        "neg = df.loc[df['classes'] == 'negative']\n",
        "neg = neg[0:25000]"
      ],
      "execution_count": null,
      "outputs": []
    },
    {
      "cell_type": "code",
      "metadata": {
        "id": "hNyd6sVfSgFU"
      },
      "source": [
        "!pip install nltk"
      ],
      "execution_count": null,
      "outputs": []
    },
    {
      "cell_type": "code",
      "metadata": {
        "id": "7V-pjZG34Hs8"
      },
      "source": [
        "import nltk\n",
        "from nltk.corpus import stopwords\n",
        "from wordcloud import WordCloud\n",
        "import string\n",
        "import matplotlib.pyplot as plt\n",
        "nltk.download('punkt')\n",
        "nltk.download('stopwords')\n",
        "\n",
        "def create_Word_Corpus(temp):\n",
        "    words_corpus = ''\n",
        "    for val in temp[\"review_body\"]:\n",
        "        text = str(val).lower()\n",
        "        #text = text.translate(trantab)\n",
        "        tokens = nltk.word_tokenize(text)\n",
        "        tokens = [word for word in tokens if word not in stopwords.words('english')]\n",
        "        for words in tokens:\n",
        "            words_corpus = words_corpus + words + ' '\n",
        "    return words_corpus\n",
        "        \n"
      ],
      "execution_count": null,
      "outputs": []
    },
    {
      "cell_type": "code",
      "metadata": {
        "id": "uRPuC5_dSApX"
      },
      "source": [
        "# Generate a word cloud image\n",
        "pos_wordcloud = WordCloud(width=900, height=500).generate(create_Word_Corpus(pos))\n",
        "neg_wordcloud = WordCloud(width=900, height=500).generate(create_Word_Corpus(neg))"
      ],
      "execution_count": null,
      "outputs": []
    },
    {
      "cell_type": "code",
      "metadata": {
        "id": "5lUbrMRm648h"
      },
      "source": [
        "# Plot cloud\n",
        "def plot_Cloud(wordCloud):\n",
        "    plt.figure( figsize=(20,10), facecolor='w')\n",
        "    plt.imshow(wordCloud)\n",
        "    plt.axis(\"off\")\n",
        "    plt.tight_layout(pad=0)\n",
        "    plt.show()"
      ],
      "execution_count": null,
      "outputs": []
    },
    {
      "cell_type": "code",
      "metadata": {
        "id": "pXZ0tNWF662X"
      },
      "source": [
        "#Visuallizing popular positive words\n",
        "plot_Cloud(pos_wordcloud)"
      ],
      "execution_count": null,
      "outputs": []
    },
    {
      "cell_type": "code",
      "metadata": {
        "id": "2sdBwXSa94kY"
      },
      "source": [
        "#Visuallizing popular negative words\n",
        "plot_Cloud(neg_wordcloud)"
      ],
      "execution_count": null,
      "outputs": []
    },
    {
      "cell_type": "markdown",
      "metadata": {
        "id": "Ly43-MUhb39q"
      },
      "source": [
        "### Data Split, Machine Learning"
      ]
    },
    {
      "cell_type": "code",
      "metadata": {
        "id": "1hoZ8o-kC5LY"
      },
      "source": [
        "# (7) Training, Testing (and/or Validation) data split \n",
        "\n",
        "# for example, 60/20/20"
      ],
      "execution_count": null,
      "outputs": []
    },
    {
      "cell_type": "code",
      "metadata": {
        "id": "Wh3Mpqv0C5LY"
      },
      "source": [
        "# (7.b) If using Deep Learning, building the model\n",
        "\n",
        "# Add Input Layer\n",
        "# Add Hidden Layers\n",
        "# Add Output"
      ],
      "execution_count": null,
      "outputs": []
    },
    {
      "cell_type": "code",
      "metadata": {
        "id": "RvmY_kfYC5LZ"
      },
      "source": [
        "# (8) Training the Machine Learning Model (i.e, Fitting the Model)"
      ],
      "execution_count": null,
      "outputs": []
    },
    {
      "cell_type": "code",
      "metadata": {
        "id": "EZ01SXbIC5LZ"
      },
      "source": [
        "# (9) Evaluate the model metrics for Training (and/or Validation) data"
      ],
      "execution_count": null,
      "outputs": []
    },
    {
      "cell_type": "code",
      "metadata": {
        "id": "wTpOxodBC5LZ"
      },
      "source": [
        "# (10) Evaluate the model metris for Testing data\n",
        "\n",
        "\n",
        "# If metrics are poor, optimize either (a) the data, (b) the hyperpamaters"
      ],
      "execution_count": null,
      "outputs": []
    },
    {
      "cell_type": "code",
      "metadata": {
        "id": "0kitVPuJC5LZ"
      },
      "source": [
        "# (11) Use the model for prediction"
      ],
      "execution_count": null,
      "outputs": []
    },
    {
      "cell_type": "code",
      "metadata": {
        "id": "9WEaNzAVC5La"
      },
      "source": [
        "# (12) Write final predicted data  (e.g, to CSV or JSON, etc.)"
      ],
      "execution_count": null,
      "outputs": []
    },
    {
      "cell_type": "code",
      "metadata": {
        "id": "yREGkIWPCyi8"
      },
      "source": [
        "df_cleaned = df.head(100000)\n",
        "df_cleaned['star_rating'].count()\n",
        "df_cleaned['star_rating'].unique()\n",
        "df_cleaned['star_rating'].value_counts()\n",
        "# indexNames = df_cleaned[ df_cleaned['star_rating'] == 'star_rating' ].index\n",
        "# df_cleaned.drop(indexNames,inplace=True)\n",
        "# df_cleaned.dropna(inplace=True)"
      ],
      "execution_count": null,
      "outputs": []
    },
    {
      "cell_type": "code",
      "metadata": {
        "id": "AG7XsVDyI6QJ"
      },
      "source": [
        "from nltk.corpus import stopwords\n",
        "wpt = nltk.WordPunctTokenizer()\n",
        "stop_words = nltk.corpus.stopwords.words('english')"
      ],
      "execution_count": null,
      "outputs": []
    },
    {
      "cell_type": "code",
      "metadata": {
        "id": "8_QIF7WMC0b5"
      },
      "source": [
        "df_cleaned.head()"
      ],
      "execution_count": null,
      "outputs": []
    },
    {
      "cell_type": "code",
      "metadata": {
        "id": "Nehj4_GuC6MV"
      },
      "source": [
        "X_train, X_test, y_train, y_test = train_test_split( df_cleaned['review_body'], df_cleaned['star_rating'], test_size=0.33, random_state=42)"
      ],
      "execution_count": null,
      "outputs": []
    },
    {
      "cell_type": "code",
      "metadata": {
        "id": "hqU9kCgmC8a9"
      },
      "source": [
        "clf = Pipeline([\n",
        "    ('vect', CountVectorizer(analyzer='word', ngram_range=(1, 2))),\n",
        "    ('clf', LogisticRegression(max_iter=500,C=0.1,random_state=40,solver='newton-cg')),\n",
        "])\n",
        "clf = clf.fit(X_train, y_train)\n",
        "accuracy_train=accuracy_score(y_train, clf.predict(X_train))\n",
        "accuracy_test=accuracy_score(y_test, clf.predict(X_test))\n",
        "print('Accuracy on train %f' %accuracy_train)\n",
        "print('Accuracy on test %f' %accuracy_test)"
      ],
      "execution_count": null,
      "outputs": []
    },
    {
      "cell_type": "code",
      "metadata": {
        "id": "PnvPy_XCC-QO"
      },
      "source": [
        "clf = Pipeline([\n",
        "    ('vect',TfidfVectorizer()),\n",
        "    ('clf', LogisticRegression(max_iter=500,C=0.1,random_state=40,solver='newton-cg')),\n",
        "])\n",
        "clf = clf.fit(X_train, y_train)\n",
        "accuracy_train=accuracy_score(y_train, clf.predict(X_train))\n",
        "accuracy_test=accuracy_score(y_test, clf.predict(X_test))\n",
        "print('Accuracy on train %f' %accuracy_train)\n",
        "print('Accuracy on test %f' %accuracy_test)"
      ],
      "execution_count": null,
      "outputs": []
    },
    {
      "cell_type": "code",
      "metadata": {
        "id": "ic__5jgGDAp9"
      },
      "source": [
        "from sklearn.tree import DecisionTreeClassifier\n",
        "clf = Pipeline([\n",
        "    ('vect', CountVectorizer(analyzer='word', ngram_range=(1, 2))),\n",
        "    ('clf', DecisionTreeClassifier()),\n",
        "])\n",
        "clf = clf.fit(X_train, y_train)\n",
        "accuracy_train=accuracy_score(y_train, clf.predict(X_train))\n",
        "accuracy_test=accuracy_score(y_test, clf.predict(X_test))\n",
        "print('Accuracy on train %f' %accuracy_train)\n",
        "print('Accuracy on test %f' %accuracy_test)"
      ],
      "execution_count": null,
      "outputs": []
    },
    {
      "cell_type": "code",
      "metadata": {
        "id": "uEZ8tiYJDCkE"
      },
      "source": [
        "clf = Pipeline([\n",
        "    ('vect',TfidfVectorizer()),\n",
        "    ('clf', DecisionTreeClassifier()),\n",
        "])\n",
        "clf = clf.fit(X_train, y_train)\n",
        "accuracy_train=accuracy_score(y_train, clf.predict(X_train))\n",
        "accuracy_test=accuracy_score(y_test, clf.predict(X_test))\n",
        "print('Accuracy on train %f' %accuracy_train)\n",
        "print('Accuracy on test %f' %accuracy_test)"
      ],
      "execution_count": null,
      "outputs": []
    },
    {
      "cell_type": "code",
      "metadata": {
        "id": "K45qUiWMDEnf"
      },
      "source": [
        "from sklearn.svm import LinearSVC\n",
        "clf = Pipeline([\n",
        "    ('vect',TfidfVectorizer()),\n",
        "    ('clf',LinearSVC()),\n",
        "])\n",
        "clf = clf.fit(X_train, y_train)\n",
        "accuracy_train=accuracy_score(y_train, clf.predict(X_train))\n",
        "accuracy_test=accuracy_score(y_test, clf.predict(X_test))\n",
        "print('Accuracy on train %f' %accuracy_train)\n",
        "print('Accuracy on test %f' %accuracy_test)"
      ],
      "execution_count": null,
      "outputs": []
    },
    {
      "cell_type": "markdown",
      "metadata": {
        "id": "L5cNQkxJDMlG"
      },
      "source": [
        "#### Using KNN"
      ]
    },
    {
      "cell_type": "code",
      "metadata": {
        "id": "6VwNL-kOAgpY"
      },
      "source": [
        "def partition(x):\n",
        "    if x<3:\n",
        "        return 'Negative'\n",
        "    elif x>3:\n",
        "        return 'Positive'\n",
        "    return 'Neutral'\n",
        "\n",
        "actualScore = df['star_rating']\n",
        "positiveNegative = actualScore.map(partition)\n",
        "df['Score'] = positiveNegative"
      ],
      "execution_count": null,
      "outputs": []
    },
    {
      "cell_type": "code",
      "metadata": {
        "id": "GF-Kbsq1Dd-O"
      },
      "source": [
        "df['Time'] = df['review_date']\n",
        "sortedData = df.sort_values('product_id',axis=0,kind=\"quicksort\", ascending=True)\n",
        "final = sortedData.drop_duplicates(subset={\"customer_id\",\"Time\",\"review_body\"},keep=\"first\",inplace=False)\n",
        "\n",
        "final = final[final.helpful_votes >= final.total_votes-final.helpful_votes]\n",
        "\n",
        "#As data is huge, due to computation limitation we will randomly select data. we will try to pick data in a way so that it doesn't make data imbalance problem\n",
        "finalp = final[final.Score == 'Positive']\n",
        "finalp = finalp.sample(frac=0.008,random_state=2) #0.055\n",
        "\n",
        "finaln = final[final.Score == 'Negative']\n",
        "finaln = finaln.sample(frac=0.1,random_state=1) #0.25\n",
        "\n",
        "finalne = final[final.Score == 'Neutral']\n",
        "finalne = finalne.sample(frac=0.02,random_state=4) #0.25\n",
        "\n",
        "final = pd.concat([finalp,finaln, finalne],axis=0)\n",
        "\n",
        "#sording data by timestamp so that it can be devided in train and test dataset for time based slicing.\n",
        "final = final.sort_values('Time',axis=0,kind=\"quicksort\", ascending=True).reset_index(drop=True)"
      ],
      "execution_count": null,
      "outputs": []
    },
    {
      "cell_type": "code",
      "metadata": {
        "id": "ys06wKoVt8or"
      },
      "source": [
        "import re\n",
        "import string\n",
        "import nltk\n",
        "#nltk.download('stopwords')\n",
        "from nltk.corpus import stopwords\n",
        "from nltk.stem import PorterStemmer\n",
        "from nltk.stem.wordnet import WordNetLemmatizer\n",
        "\n",
        "stop = set(stopwords.words('english')) #set of stopwords\n",
        "sno = nltk.stem.SnowballStemmer('english') #initialising the snowball stemmer\n",
        "\n",
        "def cleanhtml(sentence): #function to clean the word of any html-tags\n",
        "    cleanr = re.compile('<.*?>')\n",
        "    cleantext = re.sub(cleanr, ' ', sentence)\n",
        "    return cleantext\n",
        "def cleanpunc(sentence): #function to clean the word of any punctuation or special characters\n",
        "    cleaned = re.sub(r'[?|!|\\'|\"|#]',r'',sentence)\n",
        "    cleaned = re.sub(r'[.|,|)|(|\\|/]',r' ',cleaned)\n",
        "    return  cleaned\n",
        "\n",
        "i=0\n",
        "str1=' '\n",
        "final_string=[]\n",
        "all_positive_words=[] # store words from +ve reviews here\n",
        "all_negative_words=[] # store words from -ve reviews here.\n",
        "all_neutral_words=[]\n",
        "s=''\n",
        "\n",
        "for sent in final['review_body'].values:\n",
        "    filtered_sentence=[]\n",
        "    #print(sent);\n",
        "    sent=cleanhtml(sent) # remove HTMl tags\n",
        "    for w in sent.split():\n",
        "        for cleaned_words in cleanpunc(w).split():\n",
        "            if((cleaned_words.isalpha()) & (len(cleaned_words)>2)):    \n",
        "                if(cleaned_words.lower() not in stop):\n",
        "                    s=(sno.stem(cleaned_words.lower())).encode('utf8')\n",
        "                    filtered_sentence.append(s)\n",
        "                    if (final['Score'].values)[i] == 'Positive': \n",
        "                        all_positive_words.append(s) #list of all words used to describe positive reviews\n",
        "                    if(final['Score'].values)[i] == 'Negative':\n",
        "                        all_negative_words.append(s) #list of all words used to describe negative reviews reviews\n",
        "                    if(final['Score'].values)[i] == 'Neutral':\n",
        "                        all_neutral_words.append(s) #list of all words used to describe negative reviews reviews\n",
        "                else:\n",
        "                    continue\n",
        "            else:\n",
        "                continue \n",
        "    str1 = b\" \".join(filtered_sentence) #final string of cleaned words    \n",
        "    final_string.append(str1)\n",
        "    i+=1"
      ],
      "execution_count": null,
      "outputs": []
    },
    {
      "cell_type": "code",
      "metadata": {
        "id": "WZSXSUnquFiL"
      },
      "source": [
        "from sklearn.model_selection import cross_val_score\n",
        "\n",
        "def find_optimal_k(X_train,y_train, myList):\n",
        "   \n",
        "    #creating odd list of K for KNN\n",
        "    #myList = list(range(0,40))\n",
        "    neighbors = list(filter(lambda x: x % 2 != 0, myList))\n",
        "\n",
        "    # empty list that will hold cv scores\n",
        "    cv_scores = []\n",
        "\n",
        "    # perform 10-fold cross validation\n",
        "    for k in neighbors:\n",
        "        knn = KNeighborsClassifier(n_neighbors=k,n_jobs=8)\n",
        "        scores = cross_val_score(knn, X_train, y_train, cv=10, scoring='accuracy')\n",
        "        cv_scores.append(scores.mean())\n",
        "\n",
        "    # changing to misclassification error\n",
        "    MSE = [1 - x for x in cv_scores]\n",
        "\n",
        "    # determining best k\n",
        "    optimal_k = neighbors[MSE.index(min(MSE))]\n",
        "    print('\\nThe optimal number of neighbors is %d.' % optimal_k)\n",
        "\n",
        "\n",
        "    plt.figure(figsize=(10,6))\n",
        "    plt.plot(list(filter(lambda x: x % 2 != 0, myList)),MSE,color='blue', linestyle='dashed', marker='o',\n",
        "             markerfacecolor='red', markersize=10)\n",
        "    plt.title('Error Rate vs. K Value')\n",
        "    plt.xlabel('K')\n",
        "    plt.ylabel('Error Rate')\n",
        "\n",
        "    print(\"the misclassification error for each k value is : \", np.round(MSE,3))\n",
        "    \n",
        "    return optimal_k"
      ],
      "execution_count": null,
      "outputs": []
    },
    {
      "cell_type": "code",
      "metadata": {
        "id": "kGhyYqdWuIoX"
      },
      "source": [
        "from sklearn.feature_extraction.text import CountVectorizer\n",
        " \n",
        "count_vect = CountVectorizer() \n",
        "final_bow_count = count_vect.fit_transform(final_string)#final['Text'].values)"
      ],
      "execution_count": null,
      "outputs": []
    },
    {
      "cell_type": "code",
      "metadata": {
        "id": "V126kTzUuLey"
      },
      "source": [
        "from sklearn.preprocessing import StandardScaler\n",
        "\n",
        "final_bow_np = StandardScaler(with_mean=False).fit_transform(final_bow_count )"
      ],
      "execution_count": null,
      "outputs": []
    },
    {
      "cell_type": "code",
      "metadata": {
        "id": "D3KjQljauPAg"
      },
      "source": [
        "#We already have sorted data by timestamp so we will use first 70% of data as Train with cross validation and next 30% for test\n",
        "import math\n",
        "from sklearn import datasets\n",
        "from sklearn.neighbors import KNeighborsClassifier\n",
        "from sklearn.model_selection import train_test_split\n",
        "\n",
        "X = final_bow_np\n",
        "y = final['Score']\n",
        "\n",
        "X_train =  final_bow_np[:math.ceil(len(final)*.7)] \n",
        "X_test = final_bow_np[math.ceil(len(final)*.7):]\n",
        "y_train = y[:math.ceil(len(final)*.7)]\n",
        "y_test =  y[math.ceil(len(final)*.7):]\n",
        "\n",
        "\"\"\"\n",
        "df_test = pd.read_csv('test.csv')\n",
        "\n",
        "df_test = df_test.dropna()\n",
        "\n",
        "X_test = df_test['review_body']\n",
        "y_test = df_test['ratings']\n",
        "\n",
        "count_vect_test = CountVectorizer() \n",
        "final_bow_count_test = count_vect.fit_transform(X_test)\n",
        "final_bow_np_test = StandardScaler(with_mean=False).fit_transform(final_bow_count_test)\n",
        "\n",
        "X_test = final_bow_np_test\n",
        "\"\"\""
      ],
      "execution_count": null,
      "outputs": []
    },
    {
      "cell_type": "code",
      "metadata": {
        "id": "hBlzZmcZt2fl"
      },
      "source": [
        ""
      ],
      "execution_count": null,
      "outputs": []
    },
    {
      "cell_type": "code",
      "metadata": {
        "id": "AkDl34ZBLpoP"
      },
      "source": [
        "import numpy as np"
      ],
      "execution_count": null,
      "outputs": []
    },
    {
      "cell_type": "code",
      "metadata": {
        "id": "2HRwmtOFuTSS"
      },
      "source": [
        "myList = list(range(0,15))\n",
        "\n",
        "optimal_k = find_optimal_k(X_train ,y_train,myList)"
      ],
      "execution_count": null,
      "outputs": []
    },
    {
      "cell_type": "code",
      "metadata": {
        "id": "nVLHURiPubUK"
      },
      "source": [
        "knn = KNeighborsClassifier(n_neighbors=optimal_k, n_jobs=8)\n",
        "knn.fit(X_train, y_train)\n",
        "pred = knn.predict(X_test)"
      ],
      "execution_count": null,
      "outputs": []
    },
    {
      "cell_type": "code",
      "metadata": {
        "id": "_C3Uw-s2udtC"
      },
      "source": [
        "print(\"Accuracy for KNN model with Bag of words is \",round(accuracy_score(y_test ,pred),3))"
      ],
      "execution_count": null,
      "outputs": []
    },
    {
      "cell_type": "markdown",
      "metadata": {
        "id": "MmFMVG1xt3_L"
      },
      "source": [
        "### Table metrics with different modules"
      ]
    },
    {
      "cell_type": "code",
      "metadata": {
        "id": "fMSIgpEIt7Nn"
      },
      "source": [
        "def pred(proba,thresh, fpr ,tpr):\n",
        "    \"\"\"This function calculations and return the prediction with highest tpr and lowest tpr\"\"\"\n",
        "    t=thresh[np.argmax(tpr*(1-fpr))] #t creates a numpy array with the max fpr and lowest tpr\n",
        "    print(\"the maximum tpr*(1-fpr)\",max(tpr*(1-fpr)),\"for threshold\",np.round(t,3))\n",
        "    predictions=[]\n",
        "    for i in proba:\n",
        "        if i>=t:\n",
        "            predictions.append(1)\n",
        "        else:\n",
        "            predictions.append(0)\n",
        "    return predictions"
      ],
      "execution_count": null,
      "outputs": []
    },
    {
      "cell_type": "code",
      "metadata": {
        "id": "S8rnk2jzt3oz"
      },
      "source": [
        "from sklearn.metrics import confusion_matrix\n",
        "\n",
        "print(\"Train confusion matrix\")\n",
        "cm=confusion_matrix(y, pred(y_train_predict, train_thresholds,train_fpr,train_tpr))\n",
        "print(cm)"
      ],
      "execution_count": null,
      "outputs": []
    },
    {
      "cell_type": "code",
      "metadata": {
        "id": "9M41iQkSuTMn"
      },
      "source": [
        "#https://stackoverflow.com/questions/35572000/how-can-i-plot-a-confusion-matrix\n",
        "\n",
        "import seaborn as sn\n",
        "df_cm=pd.DataFrame(cm,index=[0,1],columns=[0,1])\n",
        "plt.figure(figsize = (5,5))\n",
        "plt.title(\"Train Confusion matrix\")\n",
        "ax=sn.heatmap(df_cm, annot=True,fmt='g')\n",
        "ax.set_ylabel(\"Actual\")\n",
        "ax.set_xlabel(\"Predicted\")"
      ],
      "execution_count": null,
      "outputs": []
    },
    {
      "cell_type": "markdown",
      "metadata": {
        "id": "hUmSHUnnO64e"
      },
      "source": [
        "#### EDA by Spacy"
      ]
    },
    {
      "cell_type": "code",
      "metadata": {
        "id": "ItSXNr5iwJDX"
      },
      "source": [
        "import spacy\n",
        "from spacy.lang.en.stop_words import STOP_WORDS\n",
        "import en_core_web_sm\n",
        "nlp = en_core_web_sm.load()"
      ],
      "execution_count": null,
      "outputs": []
    },
    {
      "cell_type": "code",
      "metadata": {
        "id": "hddVQXnpwQZZ"
      },
      "source": [
        "stopwords = list(STOP_WORDS)"
      ],
      "execution_count": null,
      "outputs": []
    },
    {
      "cell_type": "code",
      "metadata": {
        "id": "jbJbjXlAwWBR"
      },
      "source": [
        "import string\n",
        "punctuations = string.punctuation\n",
        "from spacy.lang.en import English\n",
        "parser = English()\n",
        "def spacy_tokenizer(sentence):\n",
        "    mytokens = parser(sentence)\n",
        "    mytokens = [word.lemma_.lower() if word.lemma_ != \"-PRON-\" else word.lower_ for word in mytokens]\n",
        "    mytokens = [word for word in mytokens if word not in stopwords and word not in punctuations]\n",
        "    return mytokens\n",
        "from sklearn.feature_extraction.text import CountVectorizer, TfidfVectorizer\n",
        "from sklearn.metrics import accuracy_score\n",
        "from sklearn.base import TransformerMixin\n",
        "from sklearn.pipeline import Pipeline\n",
        "#Custom Transformer using spaCy\n",
        "class predictors(TransformerMixin):\n",
        "    \n",
        "    def transform(self, X, **transform_params):\n",
        "        return [clean_text(text) for text in X]\n",
        "    def fit(self, X, y=None, **fit_params):\n",
        "        return self\n",
        "    def get_params(self,deep=True):\n",
        "        return{}\n",
        "    \n",
        "# Basic function to clean the text\n",
        "def clean_text(text):\n",
        "    return text.strip().lower()\n",
        "tfdifVect = TfidfVectorizer(tokenizer = spacy_tokenizer)"
      ],
      "execution_count": null,
      "outputs": []
    },
    {
      "cell_type": "code",
      "metadata": {
        "id": "uULAPP4vwhW0"
      },
      "source": [
        "from spacy import displacy"
      ],
      "execution_count": null,
      "outputs": []
    },
    {
      "cell_type": "code",
      "metadata": {
        "id": "CVH9uOS6wj7D"
      },
      "source": [
        "# Breaking down a review into dependencies\n",
        "doc = nlp(df['review_body'][8]) \n",
        "displacy.render(doc,style='dep',jupyter=True)"
      ],
      "execution_count": null,
      "outputs": []
    },
    {
      "cell_type": "code",
      "metadata": {
        "id": "PqdB8uTrw5oD"
      },
      "source": [
        "#X = data.drop('star_rating',axis=1)\n",
        "X = df['review_body']\n",
        "y = df['sentiment']"
      ],
      "execution_count": null,
      "outputs": []
    },
    {
      "cell_type": "code",
      "metadata": {
        "id": "SYLWogGfxCMH"
      },
      "source": [
        "from sklearn.model_selection import train_test_split"
      ],
      "execution_count": null,
      "outputs": []
    },
    {
      "cell_type": "code",
      "metadata": {
        "id": "lzMLKjdsPQw4"
      },
      "source": [
        "X_train, X_test, y_train, y_test = train_test_split(X, y,test_size=0.2, random_state=42)"
      ],
      "execution_count": null,
      "outputs": []
    },
    {
      "cell_type": "markdown",
      "metadata": {
        "id": "jn3Ey6KwD12W"
      },
      "source": [
        "#### Support Vector Machines"
      ]
    },
    {
      "cell_type": "code",
      "metadata": {
        "id": "RuPbvXkZyAqw"
      },
      "source": [
        "from sklearn.svm import LinearSVC\n",
        "classifier = LinearSVC()"
      ],
      "execution_count": null,
      "outputs": []
    },
    {
      "cell_type": "code",
      "metadata": {
        "id": "w1nlBk7ryG6v"
      },
      "source": [
        "pipe = Pipeline([('cleaner', predictors()),\n",
        "                 ('tfidfVect', tfdifVect),\n",
        "                ('classifier',classifier),])"
      ],
      "execution_count": null,
      "outputs": []
    },
    {
      "cell_type": "code",
      "metadata": {
        "id": "EAuTpL5dNFnY"
      },
      "source": [
        "y_train"
      ],
      "execution_count": null,
      "outputs": []
    },
    {
      "cell_type": "code",
      "metadata": {
        "id": "GAy0Ld7JOQ51"
      },
      "source": [
        "from sklearn.svm import LinearSVC\n",
        "classifier = LinearSVC()"
      ],
      "execution_count": null,
      "outputs": []
    },
    {
      "cell_type": "code",
      "metadata": {
        "id": "nuTOc-vROQ51"
      },
      "source": [
        "pipe = Pipeline([('cleaner', predictors()),\n",
        "                 ('tfidfVect', tfdifVect),\n",
        "                ('classifier',classifier),])"
      ],
      "execution_count": null,
      "outputs": []
    },
    {
      "cell_type": "code",
      "metadata": {
        "id": "r6w0AXgfyJEZ"
      },
      "source": [
        "pipe.fit(X_train, y_train)"
      ],
      "execution_count": null,
      "outputs": []
    },
    {
      "cell_type": "code",
      "metadata": {
        "id": "IUZoWoUtyLxB"
      },
      "source": [
        "sample_prediction = pipe.predict(X_test)"
      ],
      "execution_count": null,
      "outputs": []
    },
    {
      "cell_type": "code",
      "metadata": {
        "id": "xDPwwMbAyPu5"
      },
      "source": [
        "count = 1\n",
        "for (sample,pred) in zip(X_test[0:10],sample_prediction[0:10]):\n",
        "    print('\\n',count,')')\n",
        "    print(sample,\"'PREDICTION':\", pred)\n",
        "    count += 1"
      ],
      "execution_count": null,
      "outputs": []
    },
    {
      "cell_type": "code",
      "metadata": {
        "id": "nhSKoe-ryZ1-"
      },
      "source": [
        "#Test Accuracy\n",
        "print(\"Accuracy:\", pipe.score(X_test,y_test))"
      ],
      "execution_count": null,
      "outputs": []
    },
    {
      "cell_type": "code",
      "metadata": {
        "id": "6anoVgH3yc3-"
      },
      "source": [
        "pipe.predict([\"but fitting small and bad also costly and overpriced\"])"
      ],
      "execution_count": null,
      "outputs": []
    },
    {
      "cell_type": "code",
      "metadata": {
        "id": "3dlN5jMGyyFy"
      },
      "source": [
        "pipe.predict([\"Not great\"])"
      ],
      "execution_count": null,
      "outputs": []
    },
    {
      "cell_type": "markdown",
      "metadata": {
        "id": "aqUBeDUzy9hT"
      },
      "source": [
        "#### Logistic Regression\n"
      ]
    },
    {
      "cell_type": "code",
      "metadata": {
        "id": "UOaWWGGpy-eV"
      },
      "source": [
        "from sklearn.linear_model import LogisticRegression"
      ],
      "execution_count": null,
      "outputs": []
    },
    {
      "cell_type": "code",
      "metadata": {
        "id": "NGh2urwgzDhj"
      },
      "source": [
        "classifier =  LogisticRegression()"
      ],
      "execution_count": null,
      "outputs": []
    },
    {
      "cell_type": "code",
      "metadata": {
        "id": "WmbyyN5rzFj5"
      },
      "source": [
        "pipe = Pipeline([('cleaner', predictors()),\n",
        "                ('tfidfVect', tfdifVect),\n",
        "                ('classifier',classifier)])"
      ],
      "execution_count": null,
      "outputs": []
    },
    {
      "cell_type": "code",
      "metadata": {
        "id": "28x-9tbTzHYK"
      },
      "source": [
        "pipe.fit(X_train,y_train)"
      ],
      "execution_count": null,
      "outputs": []
    },
    {
      "cell_type": "code",
      "metadata": {
        "id": "sJGmbg9KzKI4"
      },
      "source": [
        "sample_prediction = pipe.predict(X_test)"
      ],
      "execution_count": null,
      "outputs": []
    },
    {
      "cell_type": "code",
      "metadata": {
        "id": "w3NOutKbzMVR"
      },
      "source": [
        "#Test Accuracy\n",
        "print(\"Accuracy:\", pipe.score(X_test,y_test))"
      ],
      "execution_count": null,
      "outputs": []
    },
    {
      "cell_type": "code",
      "metadata": {
        "id": "crxpUMVEzRJX"
      },
      "source": [
        "pipe.predict([\"but fitting small and bad also costly and overpriced\"])"
      ],
      "execution_count": null,
      "outputs": []
    },
    {
      "cell_type": "code",
      "metadata": {
        "id": "qA8da6STzShe"
      },
      "source": [
        "pipe.predict([\"Not great\"])"
      ],
      "execution_count": null,
      "outputs": []
    },
    {
      "cell_type": "markdown",
      "metadata": {
        "id": "SHZq2JU1zfdx"
      },
      "source": [
        "#### Decision Trees\n"
      ]
    },
    {
      "cell_type": "code",
      "metadata": {
        "id": "9nxAysjOzggg"
      },
      "source": [
        "from sklearn.tree import DecisionTreeClassifier"
      ],
      "execution_count": null,
      "outputs": []
    },
    {
      "cell_type": "code",
      "metadata": {
        "id": "QtoX1SiOzjwG"
      },
      "source": [
        "classifier = DecisionTreeClassifier()"
      ],
      "execution_count": null,
      "outputs": []
    },
    {
      "cell_type": "code",
      "metadata": {
        "id": "jLGuWk-pzl_a"
      },
      "source": [
        "pipe = Pipeline([('cleaner', predictors()),\n",
        "                ('tfidfVect', tfdifVect),\n",
        "                ('classifier',classifier)])"
      ],
      "execution_count": null,
      "outputs": []
    },
    {
      "cell_type": "code",
      "metadata": {
        "id": "7mLeIvKjzop_"
      },
      "source": [
        "pipe.fit(X_train,y_train)"
      ],
      "execution_count": null,
      "outputs": []
    },
    {
      "cell_type": "code",
      "metadata": {
        "id": "_-4IvFWLzrJK"
      },
      "source": [
        "sample_prediction = pipe.predict(X_test)"
      ],
      "execution_count": null,
      "outputs": []
    },
    {
      "cell_type": "code",
      "metadata": {
        "id": "eIMCCd95ztEA"
      },
      "source": [
        "print(\"Accuracy:\", pipe.score(X_test,y_test))"
      ],
      "execution_count": null,
      "outputs": []
    },
    {
      "cell_type": "code",
      "metadata": {
        "id": "DSdeDY6lzxdj"
      },
      "source": [
        "pipe.predict([\"but fitting small and bad also costly and overpriced\"])"
      ],
      "execution_count": null,
      "outputs": []
    },
    {
      "cell_type": "code",
      "metadata": {
        "id": "4e_yuI4TzyL4"
      },
      "source": [
        "pipe.predict([\"Not great\"])"
      ],
      "execution_count": null,
      "outputs": []
    },
    {
      "cell_type": "markdown",
      "metadata": {
        "id": "-y8twuG_z6is"
      },
      "source": [
        "#### Random Forest"
      ]
    },
    {
      "cell_type": "code",
      "metadata": {
        "id": "SilfcpmOz7vh"
      },
      "source": [
        "from sklearn.ensemble import RandomForestClassifier"
      ],
      "execution_count": null,
      "outputs": []
    },
    {
      "cell_type": "code",
      "metadata": {
        "id": "ze_v6YMzz_cr"
      },
      "source": [
        "classifier = RandomForestClassifier(n_estimators = 100, random_state = 42)"
      ],
      "execution_count": null,
      "outputs": []
    },
    {
      "cell_type": "code",
      "metadata": {
        "id": "CtlRp1xx0CAf"
      },
      "source": [
        "pipe = Pipeline([('cleaner', predictors()),\n",
        "                ('tfidfVect', tfdifVect),\n",
        "                ('classifier',classifier)])"
      ],
      "execution_count": null,
      "outputs": []
    },
    {
      "cell_type": "code",
      "metadata": {
        "id": "x7hklnb60Duf"
      },
      "source": [
        "pipe.fit(X_train,y_train)"
      ],
      "execution_count": null,
      "outputs": []
    },
    {
      "cell_type": "code",
      "metadata": {
        "id": "9zmQVHMH0FVF"
      },
      "source": [
        "sample_prediction = pipe.predict(X_test)"
      ],
      "execution_count": null,
      "outputs": []
    },
    {
      "cell_type": "code",
      "metadata": {
        "id": "XPGZosCh0HL-"
      },
      "source": [
        "print(\"Accuracy:\", pipe.score(X_test,y_test))"
      ],
      "execution_count": null,
      "outputs": []
    },
    {
      "cell_type": "code",
      "metadata": {
        "id": "5wiWeg_80I8Q"
      },
      "source": [
        "pipe.predict([\"but fitting small and bad also costly and overpriced\"])"
      ],
      "execution_count": null,
      "outputs": []
    },
    {
      "cell_type": "code",
      "metadata": {
        "id": "PNc2610I0KZl"
      },
      "source": [
        "pipe.predict([\"Not good\"])"
      ],
      "execution_count": null,
      "outputs": []
    },
    {
      "cell_type": "code",
      "metadata": {
        "id": "nLa841mRTONA"
      },
      "source": [
        "pipe.predict([\"Nice dress, good fitting\"])"
      ],
      "execution_count": null,
      "outputs": []
    },
    {
      "cell_type": "code",
      "metadata": {
        "id": "UPDhju6oTS0B"
      },
      "source": [
        "pipe.predict([\"perfect size, good material\"])"
      ],
      "execution_count": null,
      "outputs": []
    },
    {
      "cell_type": "markdown",
      "metadata": {
        "id": "dCQkZgQerOeq"
      },
      "source": [
        "# precision data\n",
        "\n",
        "\n",
        "\n",
        "\n",
        "\n",
        "```\n",
        "\n",
        "```\n",
        "\n"
      ]
    },
    {
      "cell_type": "code",
      "metadata": {
        "id": "h-BYCbts0BiW"
      },
      "source": [
        "URL = \"/content/cleaned_apparel_dataset.csv\"\n"
      ],
      "execution_count": null,
      "outputs": []
    },
    {
      "cell_type": "code",
      "metadata": {
        "id": "08kwMA-rrNoj"
      },
      "source": [
        "# importing necessary libraries\n",
        "import pandas as pd\n",
        "import numpy as np"
      ],
      "execution_count": null,
      "outputs": []
    },
    {
      "cell_type": "code",
      "metadata": {
        "id": "nklsUo_3zpKN"
      },
      "source": [
        "# Installing the transformers package for BERT\n",
        "!pip install transformers"
      ],
      "execution_count": null,
      "outputs": []
    },
    {
      "cell_type": "code",
      "metadata": {
        "id": "RWykUC9azun_"
      },
      "source": [
        "import torch\n",
        "# Progress bar library\n",
        "from tqdm.notebook import tqdm\n",
        "# Tokenizer for bert\n",
        "from transformers import BertTokenizer\n",
        "# The dataset off which the model will be trained\n",
        "from torch.utils.data import TensorDataset\n",
        "# Model\n",
        "from transformers import BertForSequenceClassification\n",
        "\n",
        "# Loading the dataframe into memory\n",
        "df = pd.read_csv(URL)"
      ],
      "execution_count": null,
      "outputs": []
    },
    {
      "cell_type": "code",
      "metadata": {
        "id": "ZUK8puyB0ToK"
      },
      "source": [
        "# Checking the amount of Null values\n",
        "df['review_body'].isna().sum()"
      ],
      "execution_count": null,
      "outputs": []
    },
    {
      "cell_type": "code",
      "metadata": {
        "id": "jxoJaV0i1dV-"
      },
      "source": [
        "df.shape"
      ],
      "execution_count": null,
      "outputs": []
    },
    {
      "cell_type": "code",
      "metadata": {
        "id": "AfepMDn_1h_7"
      },
      "source": [
        "df"
      ],
      "execution_count": null,
      "outputs": []
    },
    {
      "cell_type": "code",
      "metadata": {
        "id": "dHC-A-A01Ypm"
      },
      "source": [
        "#Function that converts overall (5 classes) to y (3 classes) \n",
        "def classify(x):\n",
        "    if x == 5.0 or x==4.0:\n",
        "        return 2\n",
        "    if x==3.0:\n",
        "        return 1\n",
        "    return 0"
      ],
      "execution_count": null,
      "outputs": []
    },
    {
      "cell_type": "code",
      "metadata": {
        "id": "ZcI77F601qJG"
      },
      "source": [
        "# Building column y with the classify function\n",
        "df['y'] = df['star_rating'].apply(classify)"
      ],
      "execution_count": null,
      "outputs": []
    },
    {
      "cell_type": "code",
      "metadata": {
        "id": "dhZ8No4r2Cn7"
      },
      "source": [
        "df"
      ],
      "execution_count": null,
      "outputs": []
    },
    {
      "cell_type": "code",
      "metadata": {
        "id": "GaMBCZQs2LmL"
      },
      "source": [
        "# Checking distribution of data\n",
        "df['y'].value_counts()"
      ],
      "execution_count": null,
      "outputs": []
    },
    {
      "cell_type": "code",
      "metadata": {
        "id": "KdPJUFMX2R-N"
      },
      "source": [
        "# Creating a dictionary which contains all unique attributes in y, here these are the classes\n",
        "possible_labels = df.y.unique()\n",
        "label_dict = {}\n",
        "for index, possible_label in enumerate(possible_labels):\n",
        "    label_dict[possible_label] = int(possible_label)\n",
        "label_dict\n"
      ],
      "execution_count": null,
      "outputs": []
    },
    {
      "cell_type": "code",
      "metadata": {
        "id": "vc-NLme12XEP"
      },
      "source": [
        "# Changing column name from y to label for clarity\n",
        "df['label'] = [label_dict[str_label] for str_label in df['y']]"
      ],
      "execution_count": null,
      "outputs": []
    },
    {
      "cell_type": "code",
      "metadata": {
        "id": "5von-M6U2buT"
      },
      "source": [
        "# Splitting the dataset into a 85-15 train-test split\n",
        "from sklearn.model_selection import train_test_split\n",
        "X_train, X_val, y_train, y_val = train_test_split(df.index.values, \n",
        "                                                  df.label.values, \n",
        "                                                  test_size=0.15, \n",
        "                                                  random_state=42, \n",
        "                                                  stratify=df.label.values)\n",
        "\n",
        "# creating a column data_type to denote whether each record is for test or train\n",
        "df['data_type'] = ['not_set']*df.shape[0]\n",
        "df.loc[X_train, 'data_type'] = 'train'\n",
        "df.loc[X_val, 'data_type'] = 'val'\n",
        "df.groupby(['y', 'label', 'data_type']).count()"
      ],
      "execution_count": null,
      "outputs": []
    },
    {
      "cell_type": "code",
      "metadata": {
        "id": "jgDVkpU92pE5"
      },
      "source": [
        "# Initializing tokenizer\n",
        "tokenizer = BertTokenizer.from_pretrained('bert-base-uncased', \n",
        "                                          do_lower_case=True)              \n",
        "# Encoding training batch                           \n",
        "encoded_data_train = tokenizer.batch_encode_plus(\n",
        "    df[df.data_type=='train'].review_body.values, \n",
        "    add_special_tokens=True, \n",
        "    return_attention_mask=True, \n",
        "    pad_to_max_length=True, \n",
        "    max_length=256, \n",
        "    return_tensors='pt'\n",
        ")\n",
        "# Encoding validation batch                           \n",
        "encoded_data_val = tokenizer.batch_encode_plus(\n",
        "    df[df.data_type=='val'].review_body.values, \n",
        "    add_special_tokens=True, \n",
        "    return_attention_mask=True, \n",
        "    pad_to_max_length=True, \n",
        "    max_length=256, \n",
        "    return_tensors='pt'\n",
        ")\n",
        "\n",
        "# Extracting variables from encoded objects for ease of use\n",
        "input_ids_train = encoded_data_train['input_ids']\n",
        "attention_masks_train = encoded_data_train['attention_mask']\n",
        "labels_train = torch.tensor(df[df.data_type=='train'].label.values)\n",
        "\n",
        "input_ids_val = encoded_data_val['input_ids']\n",
        "attention_masks_val = encoded_data_val['attention_mask']\n",
        "\n",
        "# creating tensors\n",
        "labels_val = torch.tensor(df[df.data_type=='val'].label.values)\n",
        "dataset_train = TensorDataset(input_ids_train, attention_masks_train, labels_train)\n",
        "dataset_val = TensorDataset(input_ids_val, attention_masks_val, labels_val)"
      ],
      "execution_count": null,
      "outputs": []
    },
    {
      "cell_type": "code",
      "metadata": {
        "id": "JNeBCIJG3QUE"
      },
      "source": [
        "# Initializing the model\n",
        "model = BertForSequenceClassification.from_pretrained(\"bert-base-uncased\",\n",
        "                                                      num_labels=len(label_dict),\n",
        "                                                      output_attentions=False,\n",
        "                                                      output_hidden_states=False)"
      ],
      "execution_count": null,
      "outputs": []
    },
    {
      "cell_type": "code",
      "metadata": {
        "id": "B_ji9Zq83aeP"
      },
      "source": [
        "# Import and initialization of dataloaders and batch size hyperparameter\n",
        "from torch.utils.data import DataLoader, RandomSampler, SequentialSampler\n",
        "\n",
        "batch_size = 3\n",
        "\n",
        "dataloader_train = DataLoader(dataset_train, \n",
        "                              sampler=RandomSampler(dataset_train), \n",
        "                              batch_size=batch_size)\n",
        "\n",
        "dataloader_validation = DataLoader(dataset_val, \n",
        "                                   sampler=SequentialSampler(dataset_val), \n",
        "                                   batch_size=batch_size)"
      ],
      "execution_count": null,
      "outputs": []
    },
    {
      "cell_type": "code",
      "metadata": {
        "id": "U5FKeeyS3iaS"
      },
      "source": [
        "# Importing the adam optimizer and a scheduler to manage learning rate in an optimal fashion\n",
        "from transformers import AdamW, get_linear_schedule_with_warmup\n",
        "\n",
        "# Initializing the optimizer (uses the adam algorithm - an extension to stochastic gradient descent)\n",
        "optimizer = AdamW(model.parameters(),\n",
        "                  lr=1e-5, \n",
        "                  eps=1e-8)\n",
        "                  \n",
        "# Setting epoch hyperparameter\n",
        "epochs = 3\n",
        "\n",
        "# Scheduler to increase learning rate for a certain number of steps then linearly deacrese the same\n",
        "scheduler = get_linear_schedule_with_warmup(optimizer, \n",
        "                                            num_warmup_steps=0,\n",
        "                                            num_training_steps=len(dataloader_train)*epochs)"
      ],
      "execution_count": null,
      "outputs": []
    },
    {
      "cell_type": "code",
      "metadata": {
        "id": "_BgT_FWF3oSo"
      },
      "source": [
        "# Defining functions for f1 score and accuracy\n",
        "from sklearn.metrics import f1_score\n",
        "\n",
        "def f1_score_func(preds, labels):\n",
        "    preds_flat = np.argmax(preds, axis=1).flatten()\n",
        "    labels_flat = labels.flatten()\n",
        "    return f1_score(labels_flat, preds_flat, average='weighted')\n",
        "\n",
        "def accuracy_per_class(preds, labels):\n",
        "    label_dict_inverse = {v: k for k, v in label_dict.items()}\n",
        "    \n",
        "    preds_flat = np.argmax(preds, axis=1).flatten()\n",
        "    labels_flat = labels.flatten()\n",
        "    correct=0\n",
        "    total=0\n",
        "    for label in np.unique(labels_flat):\n",
        "        y_preds = preds_flat[labels_flat==label]\n",
        "        y_true = labels_flat[labels_flat==label]\n",
        "        print(f'Class: {label_dict_inverse[label]}')\n",
        "        print(f'Accuracy: {len(y_preds[y_preds==label])}/{len(y_true)}\\n')\n",
        "        correct+=len(y_preds[y_preds==label])\n",
        "        total+=len(y_true)\n",
        "    print(f'Bert Model Accuracy Overall :',correct/total)"
      ],
      "execution_count": null,
      "outputs": []
    },
    {
      "cell_type": "code",
      "metadata": {
        "id": "H-ZMveQ_37JQ"
      },
      "source": [
        "#to check GPU vs CPU - based on whether the local/hosted runtime has an nvidia GPU available or not\n",
        "device = torch.device('cuda' if torch.cuda.is_available() else 'cpu')\n",
        "model.to(device)\n",
        "\n",
        "print(device)"
      ],
      "execution_count": null,
      "outputs": []
    },
    {
      "cell_type": "code",
      "metadata": {
        "id": "KbYvsz-N4Hcc"
      },
      "source": [
        "import random\n",
        "\n",
        "# Sets torchs seed to randomize to enable usage of torch.random()\n",
        "seed_val = 17\n",
        "random.seed(seed_val)\n",
        "np.random.seed(seed_val)\n",
        "torch.manual_seed(seed_val)\n",
        "torch.cuda.manual_seed_all(seed_val)\n",
        "\n",
        "# Evaluate function to be used along with tqdm to display the live progress of the model training, calculates average loss, predictions and true values.\n",
        "def evaluate(dataloader_val):\n",
        "\n",
        "    # used to turn off layers that dont perform as expected\n",
        "    model.eval()\n",
        "    \n",
        "    loss_val_total = 0\n",
        "    predictions, true_vals = [], []\n",
        "    \n",
        "    for batch in dataloader_val:\n",
        "        \n",
        "        batch = tuple(b.to(device) for b in batch)\n",
        "        \n",
        "        inputs = {'input_ids':      batch[0],\n",
        "                  'attention_mask': batch[1],\n",
        "                  'labels':         batch[2],\n",
        "                 }\n",
        "\n",
        "        with torch.no_grad():        \n",
        "            outputs = model(**inputs)\n",
        "            \n",
        "        loss = outputs[0]\n",
        "        logits = outputs[1]\n",
        "        loss_val_total += loss.item()\n",
        "\n",
        "        logits = logits.detach().cpu().numpy()\n",
        "        label_ids = inputs['labels'].cpu().numpy()\n",
        "        predictions.append(logits)\n",
        "        true_vals.append(label_ids)\n",
        "    \n",
        "    loss_val_avg = loss_val_total/len(dataloader_val) \n",
        "    \n",
        "    predictions = np.concatenate(predictions, axis=0)\n",
        "    true_vals = np.concatenate(true_vals, axis=0)\n",
        "            \n",
        "    return loss_val_avg, predictions, true_vals\n",
        "  \n",
        "# Train the model\n",
        "for epoch in tqdm(range(1, epochs+1)):\n",
        "    \n",
        "    model.train()\n",
        "    \n",
        "    loss_train_total = 0\n",
        "\n",
        "    progress_bar = tqdm(dataloader_train, desc='Epoch {:1d}'.format(epoch), leave=False, disable=False)\n",
        "    for batch in progress_bar:\n",
        "\n",
        "        model.zero_grad()\n",
        "        \n",
        "        batch = tuple(b.to(device) for b in batch)\n",
        "        \n",
        "        inputs = {'input_ids':      batch[0],\n",
        "                  'attention_mask': batch[1],\n",
        "                  'labels':         batch[2],\n",
        "                 }       \n",
        "        outputs = model(**inputs)\n",
        "        \n",
        "        loss = outputs[0]\n",
        "        loss_train_total += loss.item()\n",
        "        loss.backward()\n",
        "\n",
        "        torch.nn.utils.clip_grad_norm_(model.parameters(), 1.0)\n",
        "\n",
        "        optimizer.step()\n",
        "        scheduler.step()\n",
        "        \n",
        "        progress_bar.set_postfix({'training_loss': '{:.3f}'.format(loss.item()/len(batch))})\n",
        "         \n",
        "        \n",
        "      \n",
        "    # Write results  \n",
        "    tqdm.write(f'\\nEpoch {epoch}')\n",
        "    loss_train_avg = loss_train_total/len(dataloader_train)            \n",
        "    tqdm.write(f'Training loss: {loss_train_avg}')\n",
        "\n",
        "    #Save the finetuned model per epoch\n",
        "    torch.save(model.state_dict(), f'/content/drive/MyDrive/bertmodel{epoch}.model')\n",
        "    \n",
        "    val_loss, predictions, true_vals = evaluate(dataloader_validation)\n",
        "    val_f1 = f1_score_func(predictions, true_vals)\n",
        "    tqdm.write(f'Validation loss: {val_loss}')\n",
        "    tqdm.write(f'F1 Score (Weighted): {val_f1}')"
      ],
      "execution_count": null,
      "outputs": []
    },
    {
      "cell_type": "code",
      "metadata": {
        "id": "aqrocAec7ABE"
      },
      "source": [
        "# Display final accuracy per class\n",
        "accuracy_per_class(predictions, true_vals)"
      ],
      "execution_count": null,
      "outputs": []
    }
  ]
}