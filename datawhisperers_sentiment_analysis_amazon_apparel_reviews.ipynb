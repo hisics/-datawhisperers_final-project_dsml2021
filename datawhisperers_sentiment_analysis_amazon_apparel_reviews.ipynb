{
  "nbformat": 4,
  "nbformat_minor": 0,
  "metadata": {
    "colab": {
      "name": "Copy of datawhisperers_sentiment_analysis_amazon_apparel_reviews.ipynb",
      "provenance": [],
      "collapsed_sections": [
        "3WLtzXUTC5LN",
        "QgCQXJ3G_b9K",
        "SRkCf5Pk9YCx",
        "1IKKlScwO-yZ",
        "bBgb9-e1ydji"
      ],
      "include_colab_link": true
    },
    "kernelspec": {
      "display_name": "Python 3.7.4 64-bit",
      "metadata": {
        "interpreter": {
          "hash": "aee8b7b246df8f9039afb4144a1f6fd8d2ca17a180786b69acc140d282b71a49"
        }
      },
      "name": "python3"
    },
    "language_info": {
      "codemirror_mode": {
        "name": "ipython",
        "version": 3
      },
      "file_extension": ".py",
      "mimetype": "text/x-python",
      "name": "python",
      "nbconvert_exporter": "python",
      "pygments_lexer": "ipython3",
      "version": "3.7.4-final"
    },
    "orig_nbformat": 2
  },
  "cells": [
    {
      "cell_type": "markdown",
      "metadata": {
        "id": "view-in-github",
        "colab_type": "text"
      },
      "source": [
        "<a href=\"https://colab.research.google.com/github/hisics/-datawhisperers_final-project_dsml2021/blob/heba/datawhisperers_sentiment_analysis_amazon_apparel_reviews.ipynb\" target=\"_parent\"><img src=\"https://colab.research.google.com/assets/colab-badge.svg\" alt=\"Open In Colab\"/></a>"
      ]
    },
    {
      "cell_type": "markdown",
      "metadata": {
        "id": "Ub7F7w29_l0Z"
      },
      "source": [
        "# <b>Capstone Project - ML on Apparel Reviews at Amazon US\n",
        "The Data Whisperers Team ✨  Amba | Bhavya | Sushma | Heba"
      ]
    },
    {
      "cell_type": "markdown",
      "metadata": {
        "id": "3WLtzXUTC5LN"
      },
      "source": [
        "#### Chosen project : Option 8 - Sentiment Analysis for Ecommerce | Apparel\n",
        "---\n",
        "\n"
      ]
    },
    {
      "cell_type": "markdown",
      "metadata": {
        "id": "gCbIE2LUglbI"
      },
      "source": [
        "<b>Objectives</b>\n",
        "- Product owner's perspective: \n",
        "  - Quality improvement |\n",
        "  - Gap analysis | same product different maker?\n",
        "  - Reputation management\n",
        "- Investor's perspective: \n",
        "  - which product owners improve over time\n",
        "- Consumer perspective\n",
        "  - Influencial posts\n",
        "\n",
        "- ML Practice | Inferrential analysis for positive or negative feedback on products in social media product  \n",
        "\n",
        "\n",
        "---\n",
        "Notes: \n",
        "* #todo : means to check or come back to the code\n",
        "* #NOTE : is a reminder or notice "
      ]
    },
    {
      "cell_type": "markdown",
      "metadata": {
        "id": "ZeWDiw-r98hn"
      },
      "source": [
        "<b>Understanding the Dataset</b>\n",
        "\n",
        "* marketplace       : 2 letter country code of the marketplace where the review was written.\n",
        "*customer_id       : Random identifier that can be used to aggregate *reviews written by a single author.\n",
        "*review_id         : The unique ID of the review.\n",
        "*product_id        : The unique Product ID the review pertains to. In the multilingual dataset the reviews for the same product in different countries can be grouped by the same product_id.\n",
        "*product_parent    : Random identifier (can be used to aggregatereviews for the same product).\n",
        "*product_title     : Title of the product.\n",
        "*product_category  : Broad product category.\n",
        "*star_rating       : The 1-5 star rating of the review.\n",
        "*helpful_votes     : Number of helpful votes.\n",
        "*total_votes       : Number of total votes the review received.\n",
        "*vine              : Review was written as part of the Vine program.\n",
        "*verified_purchase : The review is on a verified purchase.\n",
        "*review_headline   : The title of the review.\n",
        "*review_body       : The review text.\n",
        "*review_date       : The date the review was written.\n",
        "\n",
        "From Dany: Look at this document for reference,<br/>\n",
        "https://colab.research.google.com/drive/1g6ZtYOOhGUj1WsiPpeaVPp5T7VFw234e?usp=sharing\n",
        "\n",
        "https://www.tensorflow.org/datasets/catalog/amazon_us_reviews"
      ]
    },
    {
      "cell_type": "markdown",
      "metadata": {
        "id": "QgCQXJ3G_b9K"
      },
      "source": [
        "#### Importing libaries and Apparel dataset"
      ]
    },
    {
      "cell_type": "code",
      "metadata": {
        "id": "ny7TFp0sC5LV",
        "colab": {
          "base_uri": "https://localhost:8080/"
        },
        "outputId": "f0808ef6-e3b7-4bd0-9e2a-6043971fe254"
      },
      "source": [
        "# (1) Import libraries\n",
        "import pandas as pd\n",
        "import numpy as np\n",
        "from distutils.util import strtobool\n",
        "\n",
        "\n",
        "from sklearn.naive_bayes import MultinomialNB\n",
        "from sklearn.linear_model import LogisticRegression\n",
        "from sklearn.ensemble import RandomForestClassifier\n",
        "from sklearn.svm import LinearSVC\n",
        "from sklearn.model_selection import train_test_split, cross_val_score,GridSearchCV, RandomizedSearchCV\n",
        "from sklearn.metrics import confusion_matrix, classification_report, roc_curve, roc_auc_score\n",
        "\n",
        "# for basic visualizations\n",
        "import matplotlib.pyplot as plt\n",
        "plt.style.use('fivethirtyeight')\n",
        "import seaborn as sns\n",
        "\n",
        "# for advanced visualizations\n",
        "import plotly.offline as py\n",
        "from plotly.offline import init_notebook_mode, iplot\n",
        "import plotly.graph_objs as go\n",
        "from plotly import tools\n",
        "init_notebook_mode(connected = True)\n",
        "import plotly.figure_factory as ff\n",
        "\n",
        "import datetime"
      ],
      "execution_count": null,
      "outputs": [
        {
          "output_type": "display_data",
          "data": {
            "text/html": [
              "        <script type=\"text/javascript\">\n",
              "        window.PlotlyConfig = {MathJaxConfig: 'local'};\n",
              "        if (window.MathJax) {MathJax.Hub.Config({SVG: {font: \"STIX-Web\"}});}\n",
              "        if (typeof require !== 'undefined') {\n",
              "        require.undef(\"plotly\");\n",
              "        requirejs.config({\n",
              "            paths: {\n",
              "                'plotly': ['https://cdn.plot.ly/plotly-latest.min']\n",
              "            }\n",
              "        });\n",
              "        require(['plotly'], function(Plotly) {\n",
              "            window._Plotly = Plotly;\n",
              "        });\n",
              "        }\n",
              "        </script>\n",
              "        "
            ]
          },
          "metadata": {}
        }
      ]
    },
    {
      "cell_type": "code",
      "metadata": {
        "colab": {
          "base_uri": "https://localhost:8080/"
        },
        "id": "TBaD7dvAC5LW",
        "outputId": "85c53eb0-b74d-40d5-e6f0-9627b9a9778c"
      },
      "source": [
        "# (2) Download product reviews from Amazon Datasets\n",
        "# You can use reviews from Amazon Datasets for a particular product.\n",
        "# Note that the data are quite large so do not run this cell unless you are willing to wait!\n",
        "# For reference, visit:\n",
        "# https://www.tensorflow.org/datasets/catalog/amazon_us_reviews\n",
        "# https://s3.amazonaws.com/amazon-reviews-pds/readme.html\n",
        "!curl -O https://s3.amazonaws.com/amazon-reviews-pds/tsv/amazon_reviews_us_Apparel_v1_00.tsv.gz"
      ],
      "execution_count": null,
      "outputs": [
        {
          "output_type": "stream",
          "name": "stdout",
          "text": [
            "  % Total    % Received % Xferd  Average Speed   Time    Time     Time  Current\n",
            "                                 Dload  Upload   Total   Spent    Left  Speed\n",
            "100  618M  100  618M    0     0  14.0M      0  0:00:44  0:00:44 --:--:-- 15.1M\n"
          ]
        }
      ]
    },
    {
      "cell_type": "code",
      "metadata": {
        "id": "EG7i-4E7DR6P",
        "colab": {
          "base_uri": "https://localhost:8080/"
        },
        "outputId": "fad265ce-0433-4a87-8d70-14025e24685d"
      },
      "source": [
        "!echo \"y\" | gzip -d amazon_reviews_us_Apparel_v1_00.tsv.gz"
      ],
      "execution_count": null,
      "outputs": [
        {
          "output_type": "stream",
          "name": "stdout",
          "text": [
            "gzip: amazon_reviews_us_Apparel_v1_00.tsv already exists;\tnot overwritten\n"
          ]
        }
      ]
    },
    {
      "cell_type": "code",
      "metadata": {
        "colab": {
          "base_uri": "https://localhost:8080/"
        },
        "id": "W7MGo9e-C5LX",
        "outputId": "8abc5645-42b8-4580-9d07-f9a1c21e0adf"
      },
      "source": [
        "# (3.a) Read the contents of the folder \n",
        "!ls"
      ],
      "execution_count": null,
      "outputs": [
        {
          "output_type": "stream",
          "name": "stdout",
          "text": [
            "amazon_reviews_us_Apparel_v1_00.tsv\tEmoticon_Dict.p\n",
            "amazon_reviews_us_Apparel_v1_00.tsv.gz\tsample_data\n",
            "cleaned_text_apparel_dataset.csv\n"
          ]
        }
      ]
    },
    {
      "cell_type": "code",
      "metadata": {
        "id": "iPwqyKTuC5LX"
      },
      "source": [
        "# (3.b) Explore data (see what is categorial and numerical)"
      ],
      "execution_count": null,
      "outputs": []
    },
    {
      "cell_type": "code",
      "metadata": {
        "colab": {
          "base_uri": "https://localhost:8080/"
        },
        "id": "lytjIOzXD2Zu",
        "outputId": "3160c849-8a6f-4358-c3d2-9790baa4f848"
      },
      "source": [
        "df = pd.read_table('amazon_reviews_us_Apparel_v1_00.tsv', delim_whitespace=False, error_bad_lines=False, nrows=100000)\n",
        "df.info()"
      ],
      "execution_count": null,
      "outputs": [
        {
          "output_type": "stream",
          "name": "stderr",
          "text": [
            "b'Skipping line 49396: expected 15 fields, saw 22\\nSkipping line 57008: expected 15 fields, saw 22\\n'\n",
            "b'Skipping line 82075: expected 15 fields, saw 22\\n'\n"
          ]
        },
        {
          "output_type": "stream",
          "name": "stdout",
          "text": [
            "<class 'pandas.core.frame.DataFrame'>\n",
            "RangeIndex: 100000 entries, 0 to 99999\n",
            "Data columns (total 15 columns):\n",
            " #   Column             Non-Null Count   Dtype \n",
            "---  ------             --------------   ----- \n",
            " 0   marketplace        100000 non-null  object\n",
            " 1   customer_id        100000 non-null  int64 \n",
            " 2   review_id          100000 non-null  object\n",
            " 3   product_id         100000 non-null  object\n",
            " 4   product_parent     100000 non-null  int64 \n",
            " 5   product_title      100000 non-null  object\n",
            " 6   product_category   100000 non-null  object\n",
            " 7   star_rating        100000 non-null  int64 \n",
            " 8   helpful_votes      100000 non-null  int64 \n",
            " 9   total_votes        100000 non-null  int64 \n",
            " 10  vine               100000 non-null  object\n",
            " 11  verified_purchase  100000 non-null  object\n",
            " 12  review_headline    100000 non-null  object\n",
            " 13  review_body        99947 non-null   object\n",
            " 14  review_date        99997 non-null   object\n",
            "dtypes: int64(5), object(10)\n",
            "memory usage: 11.4+ MB\n"
          ]
        }
      ]
    },
    {
      "cell_type": "code",
      "metadata": {
        "colab": {
          "base_uri": "https://localhost:8080/",
          "height": 504
        },
        "id": "glfGT55PxCuu",
        "outputId": "7c630acb-67a3-4856-d7e1-70b01c0f2035"
      },
      "source": [
        "# To see how the data looks like and if any is boolean\n",
        "df.tail()"
      ],
      "execution_count": null,
      "outputs": [
        {
          "output_type": "execute_result",
          "data": {
            "text/html": [
              "<div>\n",
              "<style scoped>\n",
              "    .dataframe tbody tr th:only-of-type {\n",
              "        vertical-align: middle;\n",
              "    }\n",
              "\n",
              "    .dataframe tbody tr th {\n",
              "        vertical-align: top;\n",
              "    }\n",
              "\n",
              "    .dataframe thead th {\n",
              "        text-align: right;\n",
              "    }\n",
              "</style>\n",
              "<table border=\"1\" class=\"dataframe\">\n",
              "  <thead>\n",
              "    <tr style=\"text-align: right;\">\n",
              "      <th></th>\n",
              "      <th>marketplace</th>\n",
              "      <th>customer_id</th>\n",
              "      <th>review_id</th>\n",
              "      <th>product_id</th>\n",
              "      <th>product_parent</th>\n",
              "      <th>product_title</th>\n",
              "      <th>product_category</th>\n",
              "      <th>star_rating</th>\n",
              "      <th>helpful_votes</th>\n",
              "      <th>total_votes</th>\n",
              "      <th>vine</th>\n",
              "      <th>verified_purchase</th>\n",
              "      <th>review_headline</th>\n",
              "      <th>review_body</th>\n",
              "      <th>review_date</th>\n",
              "    </tr>\n",
              "  </thead>\n",
              "  <tbody>\n",
              "    <tr>\n",
              "      <th>99995</th>\n",
              "      <td>US</td>\n",
              "      <td>43330569</td>\n",
              "      <td>R209JPXL8VMOVJ</td>\n",
              "      <td>B00VW37AMU</td>\n",
              "      <td>354148485</td>\n",
              "      <td>Cybertela Women's Nice Fish You Caught, Can.. ...</td>\n",
              "      <td>Apparel</td>\n",
              "      <td>5</td>\n",
              "      <td>0</td>\n",
              "      <td>0</td>\n",
              "      <td>N</td>\n",
              "      <td>Y</td>\n",
              "      <td>Five Stars</td>\n",
              "      <td>My girlfriend loved it.</td>\n",
              "      <td>2015-05-05</td>\n",
              "    </tr>\n",
              "    <tr>\n",
              "      <th>99996</th>\n",
              "      <td>US</td>\n",
              "      <td>25578439</td>\n",
              "      <td>R2ISQWVCXLRNXQ</td>\n",
              "      <td>B00VW367FG</td>\n",
              "      <td>90102146</td>\n",
              "      <td>Cybertela Women's If You Don’t Fish I See.. Fu...</td>\n",
              "      <td>Apparel</td>\n",
              "      <td>4</td>\n",
              "      <td>0</td>\n",
              "      <td>0</td>\n",
              "      <td>N</td>\n",
              "      <td>Y</td>\n",
              "      <td>Four Stars</td>\n",
              "      <td>Great shirt</td>\n",
              "      <td>2015-05-18</td>\n",
              "    </tr>\n",
              "    <tr>\n",
              "      <th>99997</th>\n",
              "      <td>US</td>\n",
              "      <td>4282714</td>\n",
              "      <td>RB6XI6R464ZQL</td>\n",
              "      <td>B00VW366V6</td>\n",
              "      <td>789256548</td>\n",
              "      <td>Asgard Blacksmith's Alliance Thor Men's T-Shirt</td>\n",
              "      <td>Apparel</td>\n",
              "      <td>5</td>\n",
              "      <td>0</td>\n",
              "      <td>0</td>\n",
              "      <td>N</td>\n",
              "      <td>Y</td>\n",
              "      <td>Five Stars</td>\n",
              "      <td>Sweet shirt</td>\n",
              "      <td>2015-06-29</td>\n",
              "    </tr>\n",
              "    <tr>\n",
              "      <th>99998</th>\n",
              "      <td>US</td>\n",
              "      <td>41294636</td>\n",
              "      <td>R2RW7ZCM8J5YGV</td>\n",
              "      <td>B00VW2UKTG</td>\n",
              "      <td>233863271</td>\n",
              "      <td>Naturana Women's Mastectomy Bra</td>\n",
              "      <td>Apparel</td>\n",
              "      <td>5</td>\n",
              "      <td>0</td>\n",
              "      <td>1</td>\n",
              "      <td>N</td>\n",
              "      <td>Y</td>\n",
              "      <td>Five Stars</td>\n",
              "      <td>very well made</td>\n",
              "      <td>2015-08-06</td>\n",
              "    </tr>\n",
              "    <tr>\n",
              "      <th>99999</th>\n",
              "      <td>US</td>\n",
              "      <td>10624669</td>\n",
              "      <td>RN6BUHLG6XC8U</td>\n",
              "      <td>B00VW2TT0W</td>\n",
              "      <td>255023016</td>\n",
              "      <td>Ah Pardon Me My Good Sir I Believe I May Have ...</td>\n",
              "      <td>Apparel</td>\n",
              "      <td>4</td>\n",
              "      <td>0</td>\n",
              "      <td>0</td>\n",
              "      <td>N</td>\n",
              "      <td>Y</td>\n",
              "      <td>So Great!</td>\n",
              "      <td>This was a hit at the baby shower!</td>\n",
              "      <td>2015-07-07</td>\n",
              "    </tr>\n",
              "  </tbody>\n",
              "</table>\n",
              "</div>"
            ],
            "text/plain": [
              "      marketplace  customer_id  ...                         review_body review_date\n",
              "99995          US     43330569  ...             My girlfriend loved it.  2015-05-05\n",
              "99996          US     25578439  ...                         Great shirt  2015-05-18\n",
              "99997          US      4282714  ...                         Sweet shirt  2015-06-29\n",
              "99998          US     41294636  ...                      very well made  2015-08-06\n",
              "99999          US     10624669  ...  This was a hit at the baby shower!  2015-07-07\n",
              "\n",
              "[5 rows x 15 columns]"
            ]
          },
          "metadata": {},
          "execution_count": 40
        }
      ]
    },
    {
      "cell_type": "markdown",
      "metadata": {
        "id": "SRkCf5Pk9YCx"
      },
      "source": [
        "###Cleaning data and converting data types\n"
      ]
    },
    {
      "cell_type": "markdown",
      "metadata": {
        "id": "1IKKlScwO-yZ"
      },
      "source": [
        "#### Pre-processing the columns without review text"
      ]
    },
    {
      "cell_type": "code",
      "metadata": {
        "colab": {
          "base_uri": "https://localhost:8080/"
        },
        "id": "K0WSG1giuX4v",
        "outputId": "a582d1fb-b94b-40a7-c27e-9af5db27db84"
      },
      "source": [
        "# Checking if marketplace is only in the US\n",
        "df.marketplace.unique()"
      ],
      "execution_count": null,
      "outputs": [
        {
          "output_type": "execute_result",
          "data": {
            "text/plain": [
              "array(['US'], dtype=object)"
            ]
          },
          "metadata": {},
          "execution_count": 41
        }
      ]
    },
    {
      "cell_type": "code",
      "metadata": {
        "colab": {
          "base_uri": "https://localhost:8080/"
        },
        "id": "5-2JEGQ9ymK3",
        "outputId": "09d8cc3a-4b7f-4b58-dc8c-8a1b95b47cc6"
      },
      "source": [
        "# Checking unique values of each row in all columns\n",
        "n = df.nunique(axis=0)\n",
        "print(\n",
        "    \"Total number of rows in this data set is:{}\\nNumber of unique values in each column for in this dataset is:\\n\"\n",
        "    .format(len(df)), n)\n",
        "# outcome --> drop marketplace-category-reviewID\n",
        "# outcome --> bool vine verified purchase"
      ],
      "execution_count": null,
      "outputs": [
        {
          "output_type": "stream",
          "name": "stdout",
          "text": [
            "Total number of rows in this data set is:100000\n",
            "Number of unique values in each column for in this dataset is:\n",
            " marketplace               1\n",
            "customer_id           85149\n",
            "review_id            100000\n",
            "product_id            66229\n",
            "product_parent        41084\n",
            "product_title         39656\n",
            "product_category          1\n",
            "star_rating               5\n",
            "helpful_votes           206\n",
            "total_votes             215\n",
            "vine                      2\n",
            "verified_purchase         2\n",
            "review_headline       53335\n",
            "review_body           92599\n",
            "review_date             173\n",
            "dtype: int64\n"
          ]
        }
      ]
    },
    {
      "cell_type": "code",
      "metadata": {
        "colab": {
          "base_uri": "https://localhost:8080/"
        },
        "id": "wSPAMKIX2rdt",
        "outputId": "578d8a50-71df-4fa2-929d-9b2a3fec1521"
      },
      "source": [
        "# Cleaning\n",
        "# (1) Drop irrelevant info: marketplace + product_category + review_id\n",
        "df.drop(['marketplace','product_category','review_id'], axis=1, inplace=True)\n",
        "\n",
        "# (2) Map: vine + verified_purchase (y:1, n:0)\n",
        "YN_to_bool = {'Y': 1,'N': 0}\n",
        "df['vine'] = df['vine'].map( YN_to_bool )\n",
        "df['verified_purchase'] = df['verified_purchase'].map( YN_to_bool)\n",
        "\n",
        "# (3) Datetime: review_date\n",
        "df['review_date'] = pd.to_datetime(df['review_date'])\n",
        " \n",
        "# (4) Create a year column for EDA\n",
        "df['Year'] = df.review_date.dt.year\n",
        "\n",
        "# (5) Drop the rows where there are no reviews and no review dates\n",
        "df.dropna(subset = ['review_body'], inplace = True)\n",
        "df.dropna(subset = ['review_date'], inplace = True)\n",
        "\n",
        "# (6) Combine the review headline and review date columns\n",
        "df['review_body'] = df['review_headline'] + ' ' + df['review_body']\n",
        "del df['review_headline']\n",
        "\n",
        "# (7) Changing review_body to string & adding a length column for analyzing the length of the reviews\n",
        "df['review_body']= df['review_body'].apply(str)\n",
        "df['length'] = df['review_body'].map(str).apply(len)\n",
        "\n",
        "# (9) Print to see the null rows if any\n",
        "null_columns=df.columns[df.isnull().any()]\n",
        "df[df[\"review_date\"].isnull()] #[null_columns] add to tail end to show null columns when that particular colum is null\n",
        "\n",
        "df.head(1)"
      ],
      "execution_count": null,
      "outputs": [
        {
          "output_type": "execute_result",
          "data": {
            "text/html": [
              "<div>\n",
              "<style scoped>\n",
              "    .dataframe tbody tr th:only-of-type {\n",
              "        vertical-align: middle;\n",
              "    }\n",
              "\n",
              "    .dataframe tbody tr th {\n",
              "        vertical-align: top;\n",
              "    }\n",
              "\n",
              "    .dataframe thead th {\n",
              "        text-align: right;\n",
              "    }\n",
              "</style>\n",
              "<table border=\"1\" class=\"dataframe\">\n",
              "  <thead>\n",
              "    <tr style=\"text-align: right;\">\n",
              "      <th></th>\n",
              "      <th>customer_id</th>\n",
              "      <th>product_id</th>\n",
              "      <th>product_parent</th>\n",
              "      <th>product_title</th>\n",
              "      <th>star_rating</th>\n",
              "      <th>helpful_votes</th>\n",
              "      <th>total_votes</th>\n",
              "      <th>vine</th>\n",
              "      <th>verified_purchase</th>\n",
              "      <th>review_body</th>\n",
              "      <th>review_date</th>\n",
              "      <th>Year</th>\n",
              "      <th>length</th>\n",
              "    </tr>\n",
              "  </thead>\n",
              "  <tbody>\n",
              "    <tr>\n",
              "      <th>0</th>\n",
              "      <td>32158956</td>\n",
              "      <td>B01KL6O72Y</td>\n",
              "      <td>24485154</td>\n",
              "      <td>Easy Tool Stainless Steel Fruit Pineapple Core...</td>\n",
              "      <td>4</td>\n",
              "      <td>0</td>\n",
              "      <td>0</td>\n",
              "      <td>0</td>\n",
              "      <td>1</td>\n",
              "      <td>★ THESE REALLY DO WORK GREAT WITH SOME TWEAKIN...</td>\n",
              "      <td>2013-01-14</td>\n",
              "      <td>2013.0</td>\n",
              "      <td>2961</td>\n",
              "    </tr>\n",
              "  </tbody>\n",
              "</table>\n",
              "</div>"
            ],
            "text/plain": [
              "   customer_id  product_id  product_parent  ... review_date    Year  length\n",
              "0     32158956  B01KL6O72Y        24485154  ...  2013-01-14  2013.0    2961\n",
              "\n",
              "[1 rows x 13 columns]"
            ]
          },
          "metadata": {},
          "execution_count": 43
        }
      ]
    },
    {
      "cell_type": "code",
      "metadata": {
        "id": "jYh4zufBHCJR",
        "colab": {
          "base_uri": "https://localhost:8080/"
        },
        "outputId": "296a8f36-8411-45d6-fbdf-1120073df20f"
      },
      "source": [
        "df.info()"
      ],
      "execution_count": null,
      "outputs": [
        {
          "output_type": "stream",
          "name": "stdout",
          "text": [
            "<class 'pandas.core.frame.DataFrame'>\n",
            "Int64Index: 99944 entries, 0 to 99999\n",
            "Data columns (total 13 columns):\n",
            " #   Column             Non-Null Count  Dtype         \n",
            "---  ------             --------------  -----         \n",
            " 0   customer_id        99944 non-null  int64         \n",
            " 1   product_id         99944 non-null  object        \n",
            " 2   product_parent     99944 non-null  int64         \n",
            " 3   product_title      99944 non-null  object        \n",
            " 4   star_rating        99944 non-null  int64         \n",
            " 5   helpful_votes      99944 non-null  int64         \n",
            " 6   total_votes        99944 non-null  int64         \n",
            " 7   vine               99944 non-null  int64         \n",
            " 8   verified_purchase  99944 non-null  int64         \n",
            " 9   review_body        99944 non-null  object        \n",
            " 10  review_date        99944 non-null  datetime64[ns]\n",
            " 11  Year               99944 non-null  float64       \n",
            " 12  length             99944 non-null  int64         \n",
            "dtypes: datetime64[ns](1), float64(1), int64(8), object(3)\n",
            "memory usage: 10.7+ MB\n"
          ]
        }
      ]
    },
    {
      "cell_type": "code",
      "metadata": {
        "id": "0j8emZ7dCSws"
      },
      "source": [
        "df = df.reset_index()"
      ],
      "execution_count": null,
      "outputs": []
    },
    {
      "cell_type": "markdown",
      "metadata": {
        "id": "JKVO9FRnB7nz"
      },
      "source": [
        "#### Pre-processing the text fields\n",
        "##### Useful resource for cleaning text\n",
        "https://medium.com/mlearning-ai/10-python-functions-you-need-to-apply-before-you-build-your-nlp-sentiment-analysis-model-874a37e0217e\n",
        "\n"
      ]
    },
    {
      "cell_type": "code",
      "metadata": {
        "id": "rAHA5TmXCF3Q"
      },
      "source": [
        "# to show full text\n",
        "# pd.options.display.max_rows\n",
        "# pd.set_option('display.max_colwidth', None)"
      ],
      "execution_count": null,
      "outputs": []
    },
    {
      "cell_type": "code",
      "metadata": {
        "colab": {
          "base_uri": "https://localhost:8080/"
        },
        "id": "lqvDW0RCGarS",
        "outputId": "e2ecf51d-1973-4d11-f9cd-de36b87c1e72"
      },
      "source": [
        "# show then count text with emojis\n",
        "sad_emoji = df.review_body[df['review_body'].str.contains(\"😠|😔\")].count()\n",
        "happy_loved_emoji = df.review_body[df['review_body'].str.contains(\"😊|❤️\")].count()\n",
        "thumbs_up_down_emoji = df.review_body[df['review_body'].str.contains(\"👍|👎\")].count()\n",
        "happy_emoticon = df.review_body[df['review_body'].str.contains(\":\\)|:D\")].count()\n",
        "sad_emoticon = df.review_body[df['review_body'].str.contains(\":\\(\")].count()\n",
        "\n",
        "print(\"Count of dissapointed or angry emoji's 😠 or 😔: \\n{}\".format(sad_emoji))\n",
        "print(\"Count of happy or heart emoji's 😊 or ❤️: \\n{}\".format(happy_loved_emoji))\n",
        "print(\"Count of thumbs up or down emoji's 👍 or 👎: \\n{}\".format(thumbs_up_down_emoji))\n",
        "print(\"Count of happy emoticon :) or :D : \\n{}\".format(happy_emoticon))\n",
        "print(\"Count of sad emoticon :( : \\n{}\".format(sad_emoticon))"
      ],
      "execution_count": null,
      "outputs": [
        {
          "output_type": "stream",
          "name": "stdout",
          "text": [
            "Count of dissapointed or angry emoji's 😠 or 😔: \n",
            "28\n",
            "Count of happy or heart emoji's 😊 or ❤️: \n",
            "188\n",
            "Count of thumbs up or down emoji's 👍 or 👎: \n",
            "190\n",
            "Count of happy emoticon :) or :D : \n",
            "1436\n",
            "Count of sad emoticon :( : \n",
            "480\n"
          ]
        }
      ]
    },
    {
      "cell_type": "code",
      "metadata": {
        "colab": {
          "base_uri": "https://localhost:8080/"
        },
        "id": "S5BkYEdIEYfZ",
        "outputId": "d8037e82-e6f8-42fb-d023-9083e8cb078a"
      },
      "source": [
        "# clean <br /> from text ; the html break line \n",
        "print(df.review_body[df['review_body'].str.contains(\"<br />\")].count())"
      ],
      "execution_count": null,
      "outputs": [
        {
          "output_type": "stream",
          "name": "stdout",
          "text": [
            "6655\n"
          ]
        }
      ]
    },
    {
      "cell_type": "code",
      "metadata": {
        "colab": {
          "base_uri": "https://localhost:8080/"
        },
        "id": "mRBAhmQIP9xo",
        "outputId": "8edb5707-3ab6-4096-8a01-1edba9b08977"
      },
      "source": [
        "# clean <br /> from text\n",
        "import re\n",
        "def remove_HtmlBreak(text):\n",
        "  text = re.sub(\"<br />\",\"\", text)\n",
        "  return text\n",
        "\n",
        "df['review_body'] = df.apply(lambda row: remove_HtmlBreak(row['review_body']), axis=1)\n",
        "print(df.review_body[df['review_body'].str.contains(\"<br />\")].count())"
      ],
      "execution_count": null,
      "outputs": [
        {
          "output_type": "stream",
          "name": "stdout",
          "text": [
            "0\n"
          ]
        }
      ]
    },
    {
      "cell_type": "code",
      "metadata": {
        "colab": {
          "base_uri": "https://localhost:8080/"
        },
        "id": "Vau5SC-j-BrS",
        "outputId": "966edd73-2251-4108-81d9-d4c7ef79cbc2"
      },
      "source": [
        "# Function to convert emojis to word\n",
        "!pip install emot\n",
        "from emot.emo_unicode import UNICODE_EMOJI\n",
        "\n",
        "def convert_emojis(text):\n",
        "    for emot in UNICODE_EMOJI:\n",
        "        text = text.replace(emot, \"_\".join(UNICODE_EMOJI[emot].replace(\",\",\"\").replace(\":\",\"\").split()))\n",
        "    return text\n",
        "\n",
        "##################################################################\n",
        "# Function to convert emoticons to word \n",
        "#Note remember to upload emoticon dict \n",
        "import re\n",
        "try:\n",
        "    import cPickle as pickle\n",
        "except ImportError:\n",
        "    import pickle  \n",
        "\n",
        "with open('Emoticon_Dict.p', 'rb') as fp:\n",
        "    Emoticon_Dict = pickle.load(fp)\n",
        "\n",
        "def convert_emoticons(text):\n",
        "   for emot in Emoticon_Dict:\n",
        "        text = re.sub(u'('+emot+')', \"_\".join(Emoticon_Dict[emot].replace(\",\",\"\").split()), text)\n",
        "   return text"
      ],
      "execution_count": null,
      "outputs": [
        {
          "output_type": "stream",
          "name": "stdout",
          "text": [
            "Requirement already satisfied: emot in /usr/local/lib/python3.7/dist-packages (3.1)\n"
          ]
        }
      ]
    },
    {
      "cell_type": "code",
      "metadata": {
        "id": "i_de9kBv-Wt4"
      },
      "source": [
        "# Apply the convert emoji and emoticons functions to review body\n",
        "#NOTE converting emojis to word function takes a whole lot of time ~ 1hour 35 mins mins for 100K reviews | changed code slightly to take under 5 mins\n",
        "df['review_body'] = df['review_body'].apply(convert_emojis)"
      ],
      "execution_count": null,
      "outputs": []
    },
    {
      "cell_type": "code",
      "metadata": {
        "id": "yctT1FoDr0VA"
      },
      "source": [
        "# df['review_body'] = df['review_body'].apply(lambda row: convert_emoticons(row['review_body']), axis=1)\n",
        "df['review_body'] = df['review_body'].apply(convert_emoticons)"
      ],
      "execution_count": null,
      "outputs": []
    },
    {
      "cell_type": "code",
      "metadata": {
        "colab": {
          "base_uri": "https://localhost:8080/"
        },
        "id": "ltheP0LESNkb",
        "outputId": "23603145-086f-463f-a227-65bab2e2687a"
      },
      "source": [
        "# checking if emojis and emoticons removed\n",
        "# df.review_body[df['review_body'].str.contains(\":\\)|:D\")].count()\n",
        "\n",
        "sad_emoji = df.review_body[df['review_body'].str.contains(\"😠|😔\")].count()\n",
        "happy_loved_emoji = df.review_body[df['review_body'].str.contains(\"😊|❤️\")].count()\n",
        "thumbs_up_down_emoji = df.review_body[df['review_body'].str.contains(\"👍|👎\")].count()\n",
        "happy_emoticon = df.review_body[df['review_body'].str.contains(\":\\)|:D\")].count()\n",
        "sad_emoticon = df.review_body[df['review_body'].str.contains(\":\\(\")].count()\n",
        "\n",
        "print(\"Count of dissapointed or angry emoji's 😠 or 😔: \\n{}\".format(sad_emoji))\n",
        "print(\"Count of happy or heart emoji's 😊 or ❤️: \\n{}\".format(happy_loved_emoji))\n",
        "print(\"Count of thumbs up or down emoji's 👍 or 👎: \\n{}\".format(thumbs_up_down_emoji))\n",
        "print(\"Count of happy emoticon :) or :D : \\n{}\".format(happy_emoticon))\n",
        "print(\"Count of sad emoticon :( : \\n{}\".format(sad_emoticon))\n",
        "\n",
        "# For some reason, 1 emitocon was not replaced, applied code below to make sure it's updated\n",
        "# df.review_body[df['review_body'].str.contains(\":\\(\")] = df.review_body[df['review_body'].str.contains(\":\\(\")].apply(convert_emoticons)\n"
      ],
      "execution_count": null,
      "outputs": [
        {
          "output_type": "stream",
          "name": "stdout",
          "text": [
            "Count of dissapointed or angry emoji's 😠 or 😔: \n",
            "0\n",
            "Count of happy or heart emoji's 😊 or ❤️: \n",
            "0\n",
            "Count of thumbs up or down emoji's 👍 or 👎: \n",
            "0\n",
            "Count of happy emoticon :) or :D : \n",
            "0\n",
            "Count of sad emoticon :( : \n",
            "0\n"
          ]
        }
      ]
    },
    {
      "cell_type": "code",
      "metadata": {
        "id": "AddOnryNBpPk"
      },
      "source": [
        "# Removing the hashtags\n",
        "import re      # Import REGEX\n",
        "def remove_mentions(text):\n",
        "  text = re.sub(\"@[A-Za-z0-9_]+\",\"\", text)\n",
        "  text = re.sub(\"#[A-Za-z0-9_]+\",\"\", text)\n",
        "  return text\n",
        "\n",
        "df['review_body'] = df.apply(lambda row: remove_mentions(row['review_body']), axis=1)"
      ],
      "execution_count": null,
      "outputs": []
    },
    {
      "cell_type": "code",
      "metadata": {
        "id": "goaMsuuiDNON",
        "colab": {
          "base_uri": "https://localhost:8080/"
        },
        "outputId": "f3f88dd8-5fb6-452f-a940-96bbdbe49c5e"
      },
      "source": [
        "# Importing text cleaning libraries \n",
        "# Tokenizer: Tokenization of data. At one stage we will need to deal with our text as a words list to iterate between the words and apply certain functions on it\n",
        "\n",
        "import nltk         #Natural language processing tool-kit\n",
        "nltk.download('stopwords')\n",
        "nltk.download('wordnet')\n",
        "nltk.download('punkt')\n",
        "nltk.download('averaged_perceptron_tagger') \n",
        "\n",
        "from nltk.tokenize import word_tokenize, sent_tokenize  # Import Tokenizer."
      ],
      "execution_count": null,
      "outputs": [
        {
          "output_type": "stream",
          "name": "stdout",
          "text": [
            "[nltk_data] Downloading package stopwords to /root/nltk_data...\n",
            "[nltk_data]   Package stopwords is already up-to-date!\n",
            "[nltk_data] Downloading package wordnet to /root/nltk_data...\n",
            "[nltk_data]   Package wordnet is already up-to-date!\n",
            "[nltk_data] Downloading package punkt to /root/nltk_data...\n",
            "[nltk_data]   Package punkt is already up-to-date!\n",
            "[nltk_data] Downloading package averaged_perceptron_tagger to\n",
            "[nltk_data]     /root/nltk_data...\n",
            "[nltk_data]   Package averaged_perceptron_tagger is already up-to-\n",
            "[nltk_data]       date!\n"
          ]
        }
      ]
    },
    {
      "cell_type": "code",
      "metadata": {
        "id": "_R4u4Anv6Piu",
        "colab": {
          "base_uri": "https://localhost:8080/"
        },
        "outputId": "98214de1-994c-4d5a-b5ce-6323518104ef"
      },
      "source": [
        "# lower all upper case and enumerate words into a list\n",
        "df['review_body'] = df['review_body'].str.lower()\n",
        "df['product_title'] = df['product_title'].str.lower()\n",
        "df['product_title']"
      ],
      "execution_count": null,
      "outputs": [
        {
          "output_type": "execute_result",
          "data": {
            "text/plain": [
              "0        easy tool stainless steel fruit pineapple core...\n",
              "1        v28 women cowl neck knit stretchable elasticit...\n",
              "2        james fiallo men's 12-pairs low cut athletic s...\n",
              "3        belfry gangster 100% wool stain-resistant crus...\n",
              "4        jaeden women's beaded spaghetti straps sexy lo...\n",
              "                               ...                        \n",
              "99939    cybertela women's nice fish you caught, can.. ...\n",
              "99940    cybertela women's if you don’t fish i see.. fu...\n",
              "99941      asgard blacksmith's alliance thor men's t-shirt\n",
              "99942                      naturana women's mastectomy bra\n",
              "99943    ah pardon me my good sir i believe i may have ...\n",
              "Name: product_title, Length: 99944, dtype: object"
            ]
          },
          "metadata": {},
          "execution_count": 57
        }
      ]
    },
    {
      "cell_type": "code",
      "metadata": {
        "id": "RTFDUv9zWgUf"
      },
      "source": [
        "# Removal of numbers and digits\n",
        "import re      # Import REGEX\n",
        "def remove_numbers(text):\n",
        "  text = re.sub(r'\\d+', '', str(text))\n",
        "  return text\n",
        "\n",
        "df['review_body'] = df['review_body'].apply(remove_numbers)\n",
        "df['product_title'] = df['product_title'].apply(remove_numbers)"
      ],
      "execution_count": null,
      "outputs": []
    },
    {
      "cell_type": "code",
      "metadata": {
        "id": "57xUt-yzYALg"
      },
      "source": [
        "# Removal of special characters\n",
        "import re, string, unicodedata # Import Regex, string and unicodedata.\n",
        "def remove_non_ascii(words):\n",
        "    words = unicodedata.normalize('NFKD', words).encode('ascii', 'ignore').decode('utf-8', 'ignore')\n",
        "    return words\n",
        "\n",
        "df['review_body'] = df['review_body'].apply(remove_non_ascii)\n",
        "df['product_title'] = df['product_title'].apply(remove_non_ascii)"
      ],
      "execution_count": null,
      "outputs": []
    },
    {
      "cell_type": "code",
      "metadata": {
        "id": "4BhMo0CS16CS"
      },
      "source": [
        "# Removing punctuations in string\n",
        "import re      # Import REGEX\n",
        "def remov_punc(text):\n",
        "  text = re.sub(r'[^\\w\\s]', '', str(text))\n",
        "  return text\n",
        "df['review_body'] = df['review_body'].apply(remov_punc)"
      ],
      "execution_count": null,
      "outputs": []
    },
    {
      "cell_type": "code",
      "metadata": {
        "colab": {
          "base_uri": "https://localhost:8080/"
        },
        "id": "kqir79CN2lyw",
        "outputId": "58d70a71-4aa7-49c6-ecb9-21fd16b58b09"
      },
      "source": [
        "df.drop(['index','Year','length'],axis = 1,inplace = True)\n",
        "df.info()"
      ],
      "execution_count": null,
      "outputs": [
        {
          "output_type": "stream",
          "name": "stdout",
          "text": [
            "<class 'pandas.core.frame.DataFrame'>\n",
            "RangeIndex: 99944 entries, 0 to 99943\n",
            "Data columns (total 11 columns):\n",
            " #   Column             Non-Null Count  Dtype         \n",
            "---  ------             --------------  -----         \n",
            " 0   customer_id        99944 non-null  int64         \n",
            " 1   product_id         99944 non-null  object        \n",
            " 2   product_parent     99944 non-null  int64         \n",
            " 3   product_title      99944 non-null  object        \n",
            " 4   star_rating        99944 non-null  int64         \n",
            " 5   helpful_votes      99944 non-null  int64         \n",
            " 6   total_votes        99944 non-null  int64         \n",
            " 7   vine               99944 non-null  int64         \n",
            " 8   verified_purchase  99944 non-null  int64         \n",
            " 9   review_body        99944 non-null  object        \n",
            " 10  review_date        99944 non-null  datetime64[ns]\n",
            "dtypes: datetime64[ns](1), int64(7), object(3)\n",
            "memory usage: 8.4+ MB\n"
          ]
        }
      ]
    },
    {
      "cell_type": "code",
      "metadata": {
        "id": "4lJFMLcW4wtS"
      },
      "source": [
        "# Export cleaned to CSV for faster operation?\n",
        "# df.to_csv('./cleaned_text_apparel_dataset.csv')"
      ],
      "execution_count": null,
      "outputs": []
    },
    {
      "cell_type": "markdown",
      "metadata": {
        "id": "UlcIQtgryy47"
      },
      "source": [
        "### EDA and Feature Engineering"
      ]
    },
    {
      "cell_type": "code",
      "metadata": {
        "id": "Ru_phiRarTxl"
      },
      "source": [
        "## If reading from cleaned csv \n",
        "import pandas as pd\n",
        "df = pd.read_csv('./cleaned_text_apparel_dataset.csv',index_col=0)"
      ],
      "execution_count": 464,
      "outputs": []
    },
    {
      "cell_type": "code",
      "metadata": {
        "colab": {
          "base_uri": "https://localhost:8080/"
        },
        "id": "TpFVrH18NyB1",
        "outputId": "abfa89ff-e774-431c-cc13-0be77b95d220"
      },
      "source": [
        "df['review_date'] = pd.to_datetime(df['review_date'])\n",
        "df.info()"
      ],
      "execution_count": 465,
      "outputs": [
        {
          "output_type": "stream",
          "name": "stdout",
          "text": [
            "<class 'pandas.core.frame.DataFrame'>\n",
            "Int64Index: 99944 entries, 0 to 99943\n",
            "Data columns (total 11 columns):\n",
            " #   Column             Non-Null Count  Dtype         \n",
            "---  ------             --------------  -----         \n",
            " 0   customer_id        99944 non-null  int64         \n",
            " 1   product_id         99944 non-null  object        \n",
            " 2   product_parent     99944 non-null  int64         \n",
            " 3   product_title      99944 non-null  object        \n",
            " 4   star_rating        99944 non-null  int64         \n",
            " 5   helpful_votes      99944 non-null  int64         \n",
            " 6   total_votes        99944 non-null  int64         \n",
            " 7   vine               99944 non-null  int64         \n",
            " 8   verified_purchase  99944 non-null  int64         \n",
            " 9   review_body        99944 non-null  object        \n",
            " 10  review_date        99944 non-null  datetime64[ns]\n",
            "dtypes: datetime64[ns](1), int64(7), object(3)\n",
            "memory usage: 9.2+ MB\n"
          ]
        }
      ]
    },
    {
      "cell_type": "code",
      "metadata": {
        "id": "UyzhOFk8zR6v",
        "colab": {
          "base_uri": "https://localhost:8080/"
        },
        "outputId": "0c4bfe9c-e0df-486e-ac1a-2b5a90fc1d6a"
      },
      "source": [
        "# Quick check: Using discriptive statistics + measures of dispersion\n",
        "# Note: customer_id and product_parent are random numbers not for descriptive analysis\n",
        "df_discriptive = df.drop(['customer_id', 'product_parent'],axis = 1,inplace = False)\n",
        "df_discriptive.describe()\n",
        "\n",
        "# Creating numerical df -> df_num for EDA\n",
        "# Creating categorical df -> df_cat\n",
        "cat_list = ['product_parent','product_id','customer_id','product_title','review_body']\n",
        "\n",
        "df_num = df.drop(cat_list, inplace = False , axis = 1) \n",
        "df_cat = df[cat_list]\n",
        "\n",
        "# df.drop(['level_0','index','year'],inplace=True).info()\n",
        "df_num.info()\n",
        "df_cat.info()\n",
        "df_discriptive.info()"
      ],
      "execution_count": 468,
      "outputs": [
        {
          "output_type": "stream",
          "name": "stdout",
          "text": [
            "<class 'pandas.core.frame.DataFrame'>\n",
            "Int64Index: 99944 entries, 0 to 99943\n",
            "Data columns (total 6 columns):\n",
            " #   Column             Non-Null Count  Dtype         \n",
            "---  ------             --------------  -----         \n",
            " 0   star_rating        99944 non-null  int64         \n",
            " 1   helpful_votes      99944 non-null  int64         \n",
            " 2   total_votes        99944 non-null  int64         \n",
            " 3   vine               99944 non-null  int64         \n",
            " 4   verified_purchase  99944 non-null  int64         \n",
            " 5   review_date        99944 non-null  datetime64[ns]\n",
            "dtypes: datetime64[ns](1), int64(5)\n",
            "memory usage: 5.3 MB\n",
            "<class 'pandas.core.frame.DataFrame'>\n",
            "Int64Index: 99944 entries, 0 to 99943\n",
            "Data columns (total 5 columns):\n",
            " #   Column          Non-Null Count  Dtype \n",
            "---  ------          --------------  ----- \n",
            " 0   product_parent  99944 non-null  int64 \n",
            " 1   product_id      99944 non-null  object\n",
            " 2   customer_id     99944 non-null  int64 \n",
            " 3   product_title   99944 non-null  object\n",
            " 4   review_body     99944 non-null  object\n",
            "dtypes: int64(2), object(3)\n",
            "memory usage: 4.6+ MB\n",
            "<class 'pandas.core.frame.DataFrame'>\n",
            "Int64Index: 99944 entries, 0 to 99943\n",
            "Data columns (total 9 columns):\n",
            " #   Column             Non-Null Count  Dtype         \n",
            "---  ------             --------------  -----         \n",
            " 0   product_id         99944 non-null  object        \n",
            " 1   product_title      99944 non-null  object        \n",
            " 2   star_rating        99944 non-null  int64         \n",
            " 3   helpful_votes      99944 non-null  int64         \n",
            " 4   total_votes        99944 non-null  int64         \n",
            " 5   vine               99944 non-null  int64         \n",
            " 6   verified_purchase  99944 non-null  int64         \n",
            " 7   review_body        99944 non-null  object        \n",
            " 8   review_date        99944 non-null  datetime64[ns]\n",
            "dtypes: datetime64[ns](1), int64(5), object(3)\n",
            "memory usage: 7.6+ MB\n"
          ]
        }
      ]
    },
    {
      "cell_type": "code",
      "metadata": {
        "id": "5PdFgBq2tYsM"
      },
      "source": [
        "# Discriptive statistics + measures of dispersion by length #ToAskTeam\n",
        "# df.groupby('length').describe().sample(10)"
      ],
      "execution_count": 469,
      "outputs": []
    },
    {
      "cell_type": "code",
      "metadata": {
        "id": "q0cMG8G4wMGH",
        "colab": {
          "base_uri": "https://localhost:8080/",
          "height": 269
        },
        "outputId": "9b871e22-8035-4154-e03e-3aa1b8c1cbec"
      },
      "source": [
        "df_num.groupby('star_rating').describe()\n",
        "# df_num"
      ],
      "execution_count": 470,
      "outputs": [
        {
          "output_type": "execute_result",
          "data": {
            "text/html": [
              "<div>\n",
              "<style scoped>\n",
              "    .dataframe tbody tr th:only-of-type {\n",
              "        vertical-align: middle;\n",
              "    }\n",
              "\n",
              "    .dataframe tbody tr th {\n",
              "        vertical-align: top;\n",
              "    }\n",
              "\n",
              "    .dataframe thead tr th {\n",
              "        text-align: left;\n",
              "    }\n",
              "\n",
              "    .dataframe thead tr:last-of-type th {\n",
              "        text-align: right;\n",
              "    }\n",
              "</style>\n",
              "<table border=\"1\" class=\"dataframe\">\n",
              "  <thead>\n",
              "    <tr>\n",
              "      <th></th>\n",
              "      <th colspan=\"8\" halign=\"left\">helpful_votes</th>\n",
              "      <th colspan=\"8\" halign=\"left\">total_votes</th>\n",
              "      <th colspan=\"8\" halign=\"left\">vine</th>\n",
              "      <th colspan=\"8\" halign=\"left\">verified_purchase</th>\n",
              "    </tr>\n",
              "    <tr>\n",
              "      <th></th>\n",
              "      <th>count</th>\n",
              "      <th>mean</th>\n",
              "      <th>std</th>\n",
              "      <th>min</th>\n",
              "      <th>25%</th>\n",
              "      <th>50%</th>\n",
              "      <th>75%</th>\n",
              "      <th>max</th>\n",
              "      <th>count</th>\n",
              "      <th>mean</th>\n",
              "      <th>std</th>\n",
              "      <th>min</th>\n",
              "      <th>25%</th>\n",
              "      <th>50%</th>\n",
              "      <th>75%</th>\n",
              "      <th>max</th>\n",
              "      <th>count</th>\n",
              "      <th>mean</th>\n",
              "      <th>std</th>\n",
              "      <th>min</th>\n",
              "      <th>25%</th>\n",
              "      <th>50%</th>\n",
              "      <th>75%</th>\n",
              "      <th>max</th>\n",
              "      <th>count</th>\n",
              "      <th>mean</th>\n",
              "      <th>std</th>\n",
              "      <th>min</th>\n",
              "      <th>25%</th>\n",
              "      <th>50%</th>\n",
              "      <th>75%</th>\n",
              "      <th>max</th>\n",
              "    </tr>\n",
              "    <tr>\n",
              "      <th>star_rating</th>\n",
              "      <th></th>\n",
              "      <th></th>\n",
              "      <th></th>\n",
              "      <th></th>\n",
              "      <th></th>\n",
              "      <th></th>\n",
              "      <th></th>\n",
              "      <th></th>\n",
              "      <th></th>\n",
              "      <th></th>\n",
              "      <th></th>\n",
              "      <th></th>\n",
              "      <th></th>\n",
              "      <th></th>\n",
              "      <th></th>\n",
              "      <th></th>\n",
              "      <th></th>\n",
              "      <th></th>\n",
              "      <th></th>\n",
              "      <th></th>\n",
              "      <th></th>\n",
              "      <th></th>\n",
              "      <th></th>\n",
              "      <th></th>\n",
              "      <th></th>\n",
              "      <th></th>\n",
              "      <th></th>\n",
              "      <th></th>\n",
              "      <th></th>\n",
              "      <th></th>\n",
              "      <th></th>\n",
              "      <th></th>\n",
              "    </tr>\n",
              "  </thead>\n",
              "  <tbody>\n",
              "    <tr>\n",
              "      <th>1</th>\n",
              "      <td>11715.0</td>\n",
              "      <td>1.394708</td>\n",
              "      <td>8.469839</td>\n",
              "      <td>0.0</td>\n",
              "      <td>0.0</td>\n",
              "      <td>0.0</td>\n",
              "      <td>1.0</td>\n",
              "      <td>655.0</td>\n",
              "      <td>11715.0</td>\n",
              "      <td>1.932480</td>\n",
              "      <td>9.452737</td>\n",
              "      <td>0.0</td>\n",
              "      <td>0.0</td>\n",
              "      <td>0.0</td>\n",
              "      <td>2.0</td>\n",
              "      <td>685.0</td>\n",
              "      <td>11715.0</td>\n",
              "      <td>0.000085</td>\n",
              "      <td>0.009239</td>\n",
              "      <td>0.0</td>\n",
              "      <td>0.0</td>\n",
              "      <td>0.0</td>\n",
              "      <td>0.0</td>\n",
              "      <td>1.0</td>\n",
              "      <td>11715.0</td>\n",
              "      <td>0.898335</td>\n",
              "      <td>0.302220</td>\n",
              "      <td>0.0</td>\n",
              "      <td>1.0</td>\n",
              "      <td>1.0</td>\n",
              "      <td>1.0</td>\n",
              "      <td>1.0</td>\n",
              "    </tr>\n",
              "    <tr>\n",
              "      <th>2</th>\n",
              "      <td>6685.0</td>\n",
              "      <td>1.049215</td>\n",
              "      <td>3.663853</td>\n",
              "      <td>0.0</td>\n",
              "      <td>0.0</td>\n",
              "      <td>0.0</td>\n",
              "      <td>1.0</td>\n",
              "      <td>81.0</td>\n",
              "      <td>6685.0</td>\n",
              "      <td>1.378758</td>\n",
              "      <td>4.174331</td>\n",
              "      <td>0.0</td>\n",
              "      <td>0.0</td>\n",
              "      <td>0.0</td>\n",
              "      <td>1.0</td>\n",
              "      <td>85.0</td>\n",
              "      <td>6685.0</td>\n",
              "      <td>0.000299</td>\n",
              "      <td>0.017295</td>\n",
              "      <td>0.0</td>\n",
              "      <td>0.0</td>\n",
              "      <td>0.0</td>\n",
              "      <td>0.0</td>\n",
              "      <td>1.0</td>\n",
              "      <td>6685.0</td>\n",
              "      <td>0.950785</td>\n",
              "      <td>0.216332</td>\n",
              "      <td>0.0</td>\n",
              "      <td>1.0</td>\n",
              "      <td>1.0</td>\n",
              "      <td>1.0</td>\n",
              "      <td>1.0</td>\n",
              "    </tr>\n",
              "    <tr>\n",
              "      <th>3</th>\n",
              "      <td>10396.0</td>\n",
              "      <td>1.342055</td>\n",
              "      <td>9.266570</td>\n",
              "      <td>0.0</td>\n",
              "      <td>0.0</td>\n",
              "      <td>0.0</td>\n",
              "      <td>1.0</td>\n",
              "      <td>628.0</td>\n",
              "      <td>10396.0</td>\n",
              "      <td>1.627838</td>\n",
              "      <td>9.666538</td>\n",
              "      <td>0.0</td>\n",
              "      <td>0.0</td>\n",
              "      <td>0.0</td>\n",
              "      <td>1.0</td>\n",
              "      <td>634.0</td>\n",
              "      <td>10396.0</td>\n",
              "      <td>0.002212</td>\n",
              "      <td>0.046986</td>\n",
              "      <td>0.0</td>\n",
              "      <td>0.0</td>\n",
              "      <td>0.0</td>\n",
              "      <td>0.0</td>\n",
              "      <td>1.0</td>\n",
              "      <td>10396.0</td>\n",
              "      <td>0.943055</td>\n",
              "      <td>0.231749</td>\n",
              "      <td>0.0</td>\n",
              "      <td>1.0</td>\n",
              "      <td>1.0</td>\n",
              "      <td>1.0</td>\n",
              "      <td>1.0</td>\n",
              "    </tr>\n",
              "    <tr>\n",
              "      <th>4</th>\n",
              "      <td>17773.0</td>\n",
              "      <td>1.678107</td>\n",
              "      <td>10.718787</td>\n",
              "      <td>0.0</td>\n",
              "      <td>0.0</td>\n",
              "      <td>0.0</td>\n",
              "      <td>1.0</td>\n",
              "      <td>545.0</td>\n",
              "      <td>17773.0</td>\n",
              "      <td>1.904687</td>\n",
              "      <td>11.205331</td>\n",
              "      <td>0.0</td>\n",
              "      <td>0.0</td>\n",
              "      <td>0.0</td>\n",
              "      <td>1.0</td>\n",
              "      <td>563.0</td>\n",
              "      <td>17773.0</td>\n",
              "      <td>0.006189</td>\n",
              "      <td>0.078430</td>\n",
              "      <td>0.0</td>\n",
              "      <td>0.0</td>\n",
              "      <td>0.0</td>\n",
              "      <td>0.0</td>\n",
              "      <td>1.0</td>\n",
              "      <td>17773.0</td>\n",
              "      <td>0.903055</td>\n",
              "      <td>0.295891</td>\n",
              "      <td>0.0</td>\n",
              "      <td>1.0</td>\n",
              "      <td>1.0</td>\n",
              "      <td>1.0</td>\n",
              "      <td>1.0</td>\n",
              "    </tr>\n",
              "    <tr>\n",
              "      <th>5</th>\n",
              "      <td>53375.0</td>\n",
              "      <td>1.723260</td>\n",
              "      <td>12.850402</td>\n",
              "      <td>0.0</td>\n",
              "      <td>0.0</td>\n",
              "      <td>0.0</td>\n",
              "      <td>1.0</td>\n",
              "      <td>1655.0</td>\n",
              "      <td>53375.0</td>\n",
              "      <td>1.948703</td>\n",
              "      <td>13.313271</td>\n",
              "      <td>0.0</td>\n",
              "      <td>0.0</td>\n",
              "      <td>0.0</td>\n",
              "      <td>1.0</td>\n",
              "      <td>1679.0</td>\n",
              "      <td>53375.0</td>\n",
              "      <td>0.004328</td>\n",
              "      <td>0.065645</td>\n",
              "      <td>0.0</td>\n",
              "      <td>0.0</td>\n",
              "      <td>0.0</td>\n",
              "      <td>0.0</td>\n",
              "      <td>1.0</td>\n",
              "      <td>53375.0</td>\n",
              "      <td>0.833724</td>\n",
              "      <td>0.372332</td>\n",
              "      <td>0.0</td>\n",
              "      <td>1.0</td>\n",
              "      <td>1.0</td>\n",
              "      <td>1.0</td>\n",
              "      <td>1.0</td>\n",
              "    </tr>\n",
              "  </tbody>\n",
              "</table>\n",
              "</div>"
            ],
            "text/plain": [
              "            helpful_votes                            ... verified_purchase               \n",
              "                    count      mean        std  min  ...               25%  50%  75%  max\n",
              "star_rating                                          ...                                 \n",
              "1                 11715.0  1.394708   8.469839  0.0  ...               1.0  1.0  1.0  1.0\n",
              "2                  6685.0  1.049215   3.663853  0.0  ...               1.0  1.0  1.0  1.0\n",
              "3                 10396.0  1.342055   9.266570  0.0  ...               1.0  1.0  1.0  1.0\n",
              "4                 17773.0  1.678107  10.718787  0.0  ...               1.0  1.0  1.0  1.0\n",
              "5                 53375.0  1.723260  12.850402  0.0  ...               1.0  1.0  1.0  1.0\n",
              "\n",
              "[5 rows x 32 columns]"
            ]
          },
          "metadata": {},
          "execution_count": 470
        }
      ]
    },
    {
      "cell_type": "code",
      "metadata": {
        "id": "69ZlPecRzaOc",
        "colab": {
          "base_uri": "https://localhost:8080/",
          "height": 604
        },
        "outputId": "cba1c78c-885b-487e-8333-e87f50ba1e33"
      },
      "source": [
        "# Check the distribution of the star rating with the DataFrame | reference chart: https://www.datacamp.com/community/tutorials/histograms-matplotlib\n",
        "# plt.hist(df.star_rating, bins='auto', color = \"skyblue\", ec='grey')\n",
        "# plt.gca().set(title='Frequency Histogram | Review Stars |', ylabel='Frequency',xlabel = 'stars',alpha=0.7, rwidth=0.85);\n",
        "# plt.show()\n",
        "\n",
        "fig = plt.figure(figsize = (12,8))\n",
        "ax = fig.gca()\n",
        "df_discriptive.hist(ax=ax, color = \"skyblue\", ec='grey')\n",
        "plt.show()\n",
        "\n",
        "# Clustering per groups of product parent | votes per product parent | top 10 ~ 30 products (purchased) | sentiment analysis \n",
        "# Sentimet (from -ve) most common words for improvement | from (+ve) most common words for gap analysis\n",
        "\n"
      ],
      "execution_count": 471,
      "outputs": [
        {
          "output_type": "stream",
          "name": "stderr",
          "text": [
            "/usr/local/lib/python3.7/dist-packages/ipykernel_launcher.py:8: UserWarning:\n",
            "\n",
            "To output multiple subplots, the figure containing the passed axes is being cleared\n",
            "\n"
          ]
        },
        {
          "output_type": "display_data",
          "data": {
            "image/png": "[encoded data removed]",
            "text/plain": [
              "<Figure size 864x576 with 6 Axes>"
            ]
          },
          "metadata": {}
        }
      ]
    },
    {
      "cell_type": "code",
      "metadata": {
        "id": "qw-EMFLieWSI",
        "colab": {
          "base_uri": "https://localhost:8080/",
          "height": 365
        },
        "outputId": "25415dfc-e3ba-462e-86e9-7bd5cc6e37b6"
      },
      "source": [
        "# Looking at year and month for review | seems we can extra clean outliers outside 2015 #todo\n",
        "df['star_rating'].groupby([df[\"review_date\"].dt.year,df[\"review_date\"].dt.month]).count().plot(kind=\"bar\",color = ('#1c1cb7b8'))"
      ],
      "execution_count": 472,
      "outputs": [
        {
          "output_type": "execute_result",
          "data": {
            "text/plain": [
              "<matplotlib.axes._subplots.AxesSubplot at 0x7f5187c7d2d0>"
            ]
          },
          "metadata": {},
          "execution_count": 472
        },
        {
          "output_type": "display_data",
          "data": {
            "image/png": "[encoded data removed]",
            "text/plain": [
              "<Figure size 432x288 with 1 Axes>"
            ]
          },
          "metadata": {}
        }
      ]
    },
    {
      "cell_type": "code",
      "metadata": {
        "id": "ZYfWIueUPA2I"
      },
      "source": [
        "# Looking at year and month for review | seems we can extra clean outliers outside 2015 #todo\n",
        "\n",
        "# only 24 from ~100K reviews in 2014, seems cleaner if we neglect this data\n",
        "# df[df['review_date']<datetime.datetime(2015,1,1)].count()\n",
        "\n",
        "df = df[df['review_date']>datetime.datetime(2015,1,1)]\n",
        "df = df.reset_index()"
      ],
      "execution_count": 473,
      "outputs": []
    },
    {
      "cell_type": "code",
      "metadata": {
        "colab": {
          "base_uri": "https://localhost:8080/",
          "height": 277
        },
        "id": "wHO28Y9US8K2",
        "outputId": "e154824e-6cb8-42f0-8b04-d7a02bd9b35b"
      },
      "source": [
        "# Looking at year and month for review after cleaning year\n",
        "df['review_date'] = pd.to_datetime(df['review_date'])\n",
        "df['star_rating'].groupby([df[\"review_date\"].dt.month,df[\"review_date\"].dt.weekday]).count().plot(kind=\"bar\",figsize=(8,3),color = ('#1c1cb7b8'))\n",
        "# df.groupby([df[\"review_date\"].dt.month,df[\"review_date\"].dt.day]).count().plot(kind=\"bar\")\n",
        "\n",
        "# from IPython.display import HTML\n",
        "# import plotly.express as px\n",
        "\n",
        "# fig = px.bar(df, y=df['star_rating'].count(), x='review_date')\n",
        "# fig.show()\n",
        "\n",
        "# HTML(fig.to_html())"
      ],
      "execution_count": 474,
      "outputs": [
        {
          "output_type": "execute_result",
          "data": {
            "text/plain": [
              "<matplotlib.axes._subplots.AxesSubplot at 0x7f5187b99550>"
            ]
          },
          "metadata": {},
          "execution_count": 474
        },
        {
          "output_type": "display_data",
          "data": {
            "image/png": "[encoded data removed]",
            "text/plain": [
              "<Figure size 576x216 with 1 Axes>"
            ]
          },
          "metadata": {}
        }
      ]
    },
    {
      "cell_type": "code",
      "metadata": {
        "colab": {
          "base_uri": "https://localhost:8080/",
          "height": 509
        },
        "id": "-jTOw3vSdKGL",
        "outputId": "8d5aee77-c1b8-4318-ee31-88dfba33a94d"
      },
      "source": [
        "# Let's look at top viewed products & see over time their reviews to see fake vs not fake \n",
        "df['product_parent'] = df['product_parent'].astype(str)\n",
        "products = df[\"product_parent\"].value_counts()\n",
        "print(products[0:10])\n",
        "# products = df[\"product_title\"].value_counts()\n",
        "# products[0:10]\n",
        "\n",
        "df[\"product_title\"].value_counts()[:10].plot(kind='barh',title = 'Top 10 Products',color = ('#1c1cb7b8'))"
      ],
      "execution_count": 475,
      "outputs": [
        {
          "output_type": "stream",
          "name": "stdout",
          "text": [
            "640132942    303\n",
            "711375628    294\n",
            "115644976    232\n",
            "592779351    165\n",
            "666588098    156\n",
            "183888896    145\n",
            "352290767    143\n",
            "822230578    143\n",
            "131053049    134\n",
            "331176635    127\n",
            "Name: product_parent, dtype: int64\n"
          ]
        },
        {
          "output_type": "execute_result",
          "data": {
            "text/plain": [
              "<matplotlib.axes._subplots.AxesSubplot at 0x7f51849d21d0>"
            ]
          },
          "metadata": {},
          "execution_count": 475
        },
        {
          "output_type": "display_data",
          "data": {
            "image/png": "[encoded data removed]",
            "text/plain": [
              "<Figure size 432x288 with 1 Axes>"
            ]
          },
          "metadata": {}
        }
      ]
    },
    {
      "cell_type": "code",
      "metadata": {
        "colab": {
          "base_uri": "https://localhost:8080/",
          "height": 441
        },
        "id": "yro4sC-pxZ1N",
        "outputId": "deca976c-8eb5-4e0a-a153-7e86b829501d"
      },
      "source": [
        "\n",
        "top10 = products[0:10].index.to_list()\n",
        "print(top10)\n",
        "\n",
        "filtered_df = df[df['product_parent'].isin(top10)]\n",
        "filtered_df"
      ],
      "execution_count": 476,
      "outputs": [
        {
          "output_type": "stream",
          "name": "stdout",
          "text": [
            "['640132942', '711375628', '115644976', '592779351', '666588098', '183888896', '352290767', '822230578', '131053049', '331176635']\n"
          ]
        },
        {
          "output_type": "execute_result",
          "data": {
            "text/html": [
              "<div>\n",
              "<style scoped>\n",
              "    .dataframe tbody tr th:only-of-type {\n",
              "        vertical-align: middle;\n",
              "    }\n",
              "\n",
              "    .dataframe tbody tr th {\n",
              "        vertical-align: top;\n",
              "    }\n",
              "\n",
              "    .dataframe thead th {\n",
              "        text-align: right;\n",
              "    }\n",
              "</style>\n",
              "<table border=\"1\" class=\"dataframe\">\n",
              "  <thead>\n",
              "    <tr style=\"text-align: right;\">\n",
              "      <th></th>\n",
              "      <th>index</th>\n",
              "      <th>customer_id</th>\n",
              "      <th>product_id</th>\n",
              "      <th>product_parent</th>\n",
              "      <th>product_title</th>\n",
              "      <th>star_rating</th>\n",
              "      <th>helpful_votes</th>\n",
              "      <th>total_votes</th>\n",
              "      <th>vine</th>\n",
              "      <th>verified_purchase</th>\n",
              "      <th>review_body</th>\n",
              "      <th>review_date</th>\n",
              "    </tr>\n",
              "  </thead>\n",
              "  <tbody>\n",
              "    <tr>\n",
              "      <th>667</th>\n",
              "      <td>682</td>\n",
              "      <td>45654807</td>\n",
              "      <td>B013HUVH3S</td>\n",
              "      <td>183888896</td>\n",
              "      <td>miusol women's deep-v neck elegant cap sleeve ...</td>\n",
              "      <td>1</td>\n",
              "      <td>1</td>\n",
              "      <td>1</td>\n",
              "      <td>0</td>\n",
              "      <td>1</td>\n",
              "      <td>so if youre not wearing it during the cool mon...</td>\n",
              "      <td>2015-08-21</td>\n",
              "    </tr>\n",
              "    <tr>\n",
              "      <th>1155</th>\n",
              "      <td>1170</td>\n",
              "      <td>1962011</td>\n",
              "      <td>B013AWJA28</td>\n",
              "      <td>183888896</td>\n",
              "      <td>miusol women's deep-v neck elegant cap sleeve ...</td>\n",
              "      <td>1</td>\n",
              "      <td>0</td>\n",
              "      <td>1</td>\n",
              "      <td>0</td>\n",
              "      <td>1</td>\n",
              "      <td>one star it was not what i expected i look lik...</td>\n",
              "      <td>2015-08-28</td>\n",
              "    </tr>\n",
              "    <tr>\n",
              "      <th>1156</th>\n",
              "      <td>1171</td>\n",
              "      <td>16582913</td>\n",
              "      <td>B013AWJA28</td>\n",
              "      <td>183888896</td>\n",
              "      <td>miusol women's deep-v neck elegant cap sleeve ...</td>\n",
              "      <td>2</td>\n",
              "      <td>0</td>\n",
              "      <td>0</td>\n",
              "      <td>0</td>\n",
              "      <td>0</td>\n",
              "      <td>size up  be short if you love this dress it on...</td>\n",
              "      <td>2015-08-12</td>\n",
              "    </tr>\n",
              "    <tr>\n",
              "      <th>1160</th>\n",
              "      <td>1175</td>\n",
              "      <td>44972524</td>\n",
              "      <td>B013AVB2DY</td>\n",
              "      <td>183888896</td>\n",
              "      <td>miusol women's deep-v neck elegant cap sleeve ...</td>\n",
              "      <td>5</td>\n",
              "      <td>0</td>\n",
              "      <td>0</td>\n",
              "      <td>0</td>\n",
              "      <td>1</td>\n",
              "      <td>gorgeous dress beautiful dress looks very clas...</td>\n",
              "      <td>2015-08-17</td>\n",
              "    </tr>\n",
              "    <tr>\n",
              "      <th>1161</th>\n",
              "      <td>1176</td>\n",
              "      <td>15457492</td>\n",
              "      <td>B013AVAWOE</td>\n",
              "      <td>183888896</td>\n",
              "      <td>miusol women's deep-v neck elegant cap sleeve ...</td>\n",
              "      <td>5</td>\n",
              "      <td>0</td>\n",
              "      <td>0</td>\n",
              "      <td>0</td>\n",
              "      <td>1</td>\n",
              "      <td>super cute  fits great love the dress fits gre...</td>\n",
              "      <td>2015-08-26</td>\n",
              "    </tr>\n",
              "    <tr>\n",
              "      <th>...</th>\n",
              "      <td>...</td>\n",
              "      <td>...</td>\n",
              "      <td>...</td>\n",
              "      <td>...</td>\n",
              "      <td>...</td>\n",
              "      <td>...</td>\n",
              "      <td>...</td>\n",
              "      <td>...</td>\n",
              "      <td>...</td>\n",
              "      <td>...</td>\n",
              "      <td>...</td>\n",
              "      <td>...</td>\n",
              "    </tr>\n",
              "    <tr>\n",
              "      <th>96909</th>\n",
              "      <td>96934</td>\n",
              "      <td>40507719</td>\n",
              "      <td>B00VYXZSA4</td>\n",
              "      <td>115644976</td>\n",
              "      <td>ilovesia women's tight ankle capri cropped leg...</td>\n",
              "      <td>5</td>\n",
              "      <td>0</td>\n",
              "      <td>0</td>\n",
              "      <td>0</td>\n",
              "      <td>1</td>\n",
              "      <td>fits perfect im  and  pounds fits perfect  im ...</td>\n",
              "      <td>2015-08-27</td>\n",
              "    </tr>\n",
              "    <tr>\n",
              "      <th>96910</th>\n",
              "      <td>96935</td>\n",
              "      <td>1171121</td>\n",
              "      <td>B00VYXZSA4</td>\n",
              "      <td>115644976</td>\n",
              "      <td>ilovesia women's tight ankle capri cropped leg...</td>\n",
              "      <td>3</td>\n",
              "      <td>0</td>\n",
              "      <td>0</td>\n",
              "      <td>0</td>\n",
              "      <td>1</td>\n",
              "      <td>good and comfy but dont run for an hour on  go...</td>\n",
              "      <td>2015-07-10</td>\n",
              "    </tr>\n",
              "    <tr>\n",
              "      <th>96911</th>\n",
              "      <td>96936</td>\n",
              "      <td>37325430</td>\n",
              "      <td>B00VYXZSA4</td>\n",
              "      <td>115644976</td>\n",
              "      <td>ilovesia women's tight ankle capri cropped leg...</td>\n",
              "      <td>4</td>\n",
              "      <td>0</td>\n",
              "      <td>0</td>\n",
              "      <td>0</td>\n",
              "      <td>1</td>\n",
              "      <td>nice overall love them great for yoga but fits...</td>\n",
              "      <td>2015-06-10</td>\n",
              "    </tr>\n",
              "    <tr>\n",
              "      <th>96912</th>\n",
              "      <td>96937</td>\n",
              "      <td>28695806</td>\n",
              "      <td>B00VYXZOF8</td>\n",
              "      <td>115644976</td>\n",
              "      <td>ilovesia women's tight ankle capri cropped leg...</td>\n",
              "      <td>4</td>\n",
              "      <td>0</td>\n",
              "      <td>0</td>\n",
              "      <td>0</td>\n",
              "      <td>1</td>\n",
              "      <td>soft but not very breathable i wore these for ...</td>\n",
              "      <td>2015-08-18</td>\n",
              "    </tr>\n",
              "    <tr>\n",
              "      <th>96913</th>\n",
              "      <td>96938</td>\n",
              "      <td>49255424</td>\n",
              "      <td>B00VYXZOF8</td>\n",
              "      <td>115644976</td>\n",
              "      <td>ilovesia women's tight ankle capri cropped leg...</td>\n",
              "      <td>1</td>\n",
              "      <td>2</td>\n",
              "      <td>2</td>\n",
              "      <td>0</td>\n",
              "      <td>1</td>\n",
              "      <td>not worth it i thought these would be a good d...</td>\n",
              "      <td>2015-08-05</td>\n",
              "    </tr>\n",
              "  </tbody>\n",
              "</table>\n",
              "<p>1842 rows × 12 columns</p>\n",
              "</div>"
            ],
            "text/plain": [
              "       index  ...  review_date\n",
              "667      682  ...   2015-08-21\n",
              "1155    1170  ...   2015-08-28\n",
              "1156    1171  ...   2015-08-12\n",
              "1160    1175  ...   2015-08-17\n",
              "1161    1176  ...   2015-08-26\n",
              "...      ...  ...          ...\n",
              "96909  96934  ...   2015-08-27\n",
              "96910  96935  ...   2015-07-10\n",
              "96911  96936  ...   2015-06-10\n",
              "96912  96937  ...   2015-08-18\n",
              "96913  96938  ...   2015-08-05\n",
              "\n",
              "[1842 rows x 12 columns]"
            ]
          },
          "metadata": {},
          "execution_count": 476
        }
      ]
    },
    {
      "cell_type": "code",
      "metadata": {
        "colab": {
          "base_uri": "https://localhost:8080/",
          "height": 1000
        },
        "id": "YijZ42Nxt-WJ",
        "outputId": "7aa5ded6-62c9-4cc7-a57b-84ad4266c683"
      },
      "source": [
        "products10 = filtered_df['product_title'].unique()\n",
        "fig, axes = plt.subplots(len(products10),figsize=(14,40)) \n",
        "count=0\n",
        "for product, ax in zip(products10, axes):\n",
        "    # filtered_df[filtered_df['product_title']== product].groupby(filtered_df['review_date'].dt.isocalendar().week).mean()['star_rating'].plot(ax=ax,color = ('#1c1cb7b8'),kind = 'bar')\n",
        "    filtered_df[filtered_df['product_title']== product].groupby([filtered_df[\"review_date\"].dt.year,filtered_df[\"review_date\"].dt.month]).mean()['star_rating'].plot(ax=ax,color = ('#1c1cb7b8'))\n",
        "    count += 1\n",
        "    ax.set_title(\"Product {} :\".format(count) + product)\n",
        "    # ax.set_ylim([0, 5])\n",
        "\n",
        "plt.tight_layout()"
      ],
      "execution_count": 477,
      "outputs": [
        {
          "output_type": "display_data",
          "data": {
            "image/png": "[encoded data removed]",
            "text/plain": [
              "<Figure size 1008x2880 with 10 Axes>"
            ]
          },
          "metadata": {}
        }
      ]
    },
    {
      "cell_type": "code",
      "metadata": {
        "id": "5R8fkGEGABvc"
      },
      "source": [
        "def sentiment(row):\n",
        "    \n",
        "    '''This function returns sentiment value based on the star_rating from the user'''\n",
        "    \n",
        "    if row['star_rating'] == 3.0:\n",
        "        val = 'Neutral'\n",
        "    elif row['star_rating'] == 1.0 or row['star_rating'] == 2.0:\n",
        "        val = 'Negative'\n",
        "    elif row['star_rating'] == 4.0 or row['star_rating'] == 5.0:\n",
        "        val = 'Positive'\n",
        "    else:\n",
        "        val = -1\n",
        "    return val"
      ],
      "execution_count": 478,
      "outputs": []
    },
    {
      "cell_type": "markdown",
      "metadata": {
        "id": "bBgb9-e1ydji"
      },
      "source": [
        "### Visualisations"
      ]
    },
    {
      "cell_type": "code",
      "metadata": {
        "colab": {
          "base_uri": "https://localhost:8080/",
          "height": 518
        },
        "id": "lZ9RSbc0E3P3",
        "outputId": "02963afa-5d68-4cc9-c384-3507b3f2e4e9"
      },
      "source": [
        "# Distribution of Amazon Product Ratings\n",
        "\n",
        "ratings = df[\"star_rating\"].value_counts()\n",
        "numbers = ratings.index\n",
        "quantity = ratings.values\n",
        "\n",
        "custom_colors = [\"skyblue\", \"yellowgreen\", 'tomato', \"blue\", \"red\"]\n",
        "plt.figure(figsize=(10, 8))\n",
        "plt.pie(quantity, labels=numbers, colors=custom_colors)\n",
        "central_circle = plt.Circle((0, 0), 0.5, color='white')\n",
        "fig = plt.gcf()\n",
        "fig.gca().add_artist(central_circle)\n",
        "plt.rc('font', size=12)\n",
        "plt.title(\"Distribution of Amazon Product Ratings\", fontsize=20)\n",
        "plt.show()"
      ],
      "execution_count": 452,
      "outputs": [
        {
          "output_type": "display_data",
          "data": {
            "image/png": "[encoded data removed]",
            "text/plain": [
              "<Figure size 720x576 with 1 Axes>"
            ]
          },
          "metadata": {}
        }
      ]
    },
    {
      "cell_type": "code",
      "metadata": {
        "id": "VB3_pkSHB4_E"
      },
      "source": [
        "# reference for visuualisations: https://www.kaggle.com/roshansharma/amazon-alexa-reviews"
      ],
      "execution_count": null,
      "outputs": []
    },
    {
      "cell_type": "code",
      "metadata": {
        "id": "4B0bDy2vvfS2",
        "colab": {
          "base_uri": "https://localhost:8080/",
          "height": 542
        },
        "outputId": "253e85f3-79ee-4c64-b2a9-b3b6ee653fa5"
      },
      "source": [
        "# Distribution of ratings\n",
        "ratings = df['star_rating'].value_counts()\n",
        "\n",
        "label_rating = ratings.index\n",
        "size_rating = ratings.values\n",
        "\n",
        "colors = ['pink', 'lightblue', 'aqua', 'gold', 'crimson']\n",
        "\n",
        "rating_piechart = go.Pie(labels = label_rating,\n",
        "                         values = size_rating,\n",
        "                         marker = dict(colors = colors),\n",
        "                         name = 'Apparel', hole = 0.3)\n",
        "\n",
        "df2 = [rating_piechart]\n",
        "\n",
        "layout = go.Layout(\n",
        "           title = 'Distribution of Ratings for Apparel')\n",
        "\n",
        "fig = go.Figure(data = df2,\n",
        "                 layout = layout)\n",
        "\n",
        "py.iplot(fig)"
      ],
      "execution_count": 454,
      "outputs": [
        {
          "output_type": "display_data",
          "data": {
            "text/html": [
              "<div>\n",
              "        \n",
              "        \n",
              "            <div id=\"c22c4b5e-a6fe-41e7-9587-bf2b529cdfa8\" class=\"plotly-graph-div\" style=\"height:525px; width:100%;\"></div>\n",
              "            <script type=\"text/javascript\">\n",
              "                require([\"plotly\"], function(Plotly) {\n",
              "                    window.PLOTLYENV=window.PLOTLYENV || {};\n",
              "                    \n",
              "                if (document.getElementById(\"c22c4b5e-a6fe-41e7-9587-bf2b529cdfa8\")) {\n",
              "                    Plotly.newPlot(\n",
              "                        'c22c4b5e-a6fe-41e7-9587-bf2b529cdfa8',\n",
              "                        [{\"hole\": 0.3, \"labels\": [5, 4, 1, 3, 2], \"marker\": {\"colors\": [\"pink\", \"lightblue\", \"aqua\", \"gold\", \"crimson\"]}, \"name\": \"Apparel\", \"type\": \"pie\", \"values\": [53355, 17770, 11715, 10395, 6684]}],\n",
              "                        {\"template\": {\"data\": {\"bar\": [{\"error_x\": {\"color\": \"#2a3f5f\"}, \"error_y\": {\"color\": \"#2a3f5f\"}, \"marker\": {\"line\": {\"color\": \"#E5ECF6\", \"width\": 0.5}}, \"type\": \"bar\"}], \"barpolar\": [{\"marker\": {\"line\": {\"color\": \"#E5ECF6\", \"width\": 0.5}}, \"type\": \"barpolar\"}], \"carpet\": [{\"aaxis\": {\"endlinecolor\": \"#2a3f5f\", \"gridcolor\": \"white\", \"linecolor\": \"white\", \"minorgridcolor\": \"white\", \"startlinecolor\": \"#2a3f5f\"}, \"baxis\": {\"endlinecolor\": \"#2a3f5f\", \"gridcolor\": \"white\", \"linecolor\": \"white\", \"minorgridcolor\": \"white\", \"startlinecolor\": \"#2a3f5f\"}, \"type\": \"carpet\"}], \"choropleth\": [{\"colorbar\": {\"outlinewidth\": 0, \"ticks\": \"\"}, \"type\": \"choropleth\"}], \"contour\": [{\"colorbar\": {\"outlinewidth\": 0, \"ticks\": \"\"}, \"colorscale\": [[0.0, \"#0d0887\"], [0.1111111111111111, \"#46039f\"], [0.2222222222222222, \"#7201a8\"], [0.3333333333333333, \"#9c179e\"], [0.4444444444444444, \"#bd3786\"], [0.5555555555555556, \"#d8576b\"], [0.6666666666666666, \"#ed7953\"], [0.7777777777777778, \"#fb9f3a\"], [0.8888888888888888, \"#fdca26\"], [1.0, \"#f0f921\"]], \"type\": \"contour\"}], \"contourcarpet\": [{\"colorbar\": {\"outlinewidth\": 0, \"ticks\": \"\"}, \"type\": \"contourcarpet\"}], \"heatmap\": [{\"colorbar\": {\"outlinewidth\": 0, \"ticks\": \"\"}, \"colorscale\": [[0.0, \"#0d0887\"], [0.1111111111111111, \"#46039f\"], [0.2222222222222222, \"#7201a8\"], [0.3333333333333333, \"#9c179e\"], [0.4444444444444444, \"#bd3786\"], [0.5555555555555556, \"#d8576b\"], [0.6666666666666666, \"#ed7953\"], [0.7777777777777778, \"#fb9f3a\"], [0.8888888888888888, \"#fdca26\"], [1.0, \"#f0f921\"]], \"type\": \"heatmap\"}], \"heatmapgl\": [{\"colorbar\": {\"outlinewidth\": 0, \"ticks\": \"\"}, \"colorscale\": [[0.0, \"#0d0887\"], [0.1111111111111111, \"#46039f\"], [0.2222222222222222, \"#7201a8\"], [0.3333333333333333, \"#9c179e\"], [0.4444444444444444, \"#bd3786\"], [0.5555555555555556, \"#d8576b\"], [0.6666666666666666, \"#ed7953\"], [0.7777777777777778, \"#fb9f3a\"], [0.8888888888888888, \"#fdca26\"], [1.0, \"#f0f921\"]], \"type\": \"heatmapgl\"}], \"histogram\": [{\"marker\": {\"colorbar\": {\"outlinewidth\": 0, \"ticks\": \"\"}}, \"type\": \"histogram\"}], \"histogram2d\": [{\"colorbar\": {\"outlinewidth\": 0, \"ticks\": \"\"}, \"colorscale\": [[0.0, \"#0d0887\"], [0.1111111111111111, \"#46039f\"], [0.2222222222222222, \"#7201a8\"], [0.3333333333333333, \"#9c179e\"], [0.4444444444444444, \"#bd3786\"], [0.5555555555555556, \"#d8576b\"], [0.6666666666666666, \"#ed7953\"], [0.7777777777777778, \"#fb9f3a\"], [0.8888888888888888, \"#fdca26\"], [1.0, \"#f0f921\"]], \"type\": \"histogram2d\"}], \"histogram2dcontour\": [{\"colorbar\": {\"outlinewidth\": 0, \"ticks\": \"\"}, \"colorscale\": [[0.0, \"#0d0887\"], [0.1111111111111111, \"#46039f\"], [0.2222222222222222, \"#7201a8\"], [0.3333333333333333, \"#9c179e\"], [0.4444444444444444, \"#bd3786\"], [0.5555555555555556, \"#d8576b\"], [0.6666666666666666, \"#ed7953\"], [0.7777777777777778, \"#fb9f3a\"], [0.8888888888888888, \"#fdca26\"], [1.0, \"#f0f921\"]], \"type\": \"histogram2dcontour\"}], \"mesh3d\": [{\"colorbar\": {\"outlinewidth\": 0, \"ticks\": \"\"}, \"type\": \"mesh3d\"}], \"parcoords\": [{\"line\": {\"colorbar\": {\"outlinewidth\": 0, \"ticks\": \"\"}}, \"type\": \"parcoords\"}], \"pie\": [{\"automargin\": true, \"type\": \"pie\"}], \"scatter\": [{\"marker\": {\"colorbar\": {\"outlinewidth\": 0, \"ticks\": \"\"}}, \"type\": \"scatter\"}], \"scatter3d\": [{\"line\": {\"colorbar\": {\"outlinewidth\": 0, \"ticks\": \"\"}}, \"marker\": {\"colorbar\": {\"outlinewidth\": 0, \"ticks\": \"\"}}, \"type\": \"scatter3d\"}], \"scattercarpet\": [{\"marker\": {\"colorbar\": {\"outlinewidth\": 0, \"ticks\": \"\"}}, \"type\": \"scattercarpet\"}], \"scattergeo\": [{\"marker\": {\"colorbar\": {\"outlinewidth\": 0, \"ticks\": \"\"}}, \"type\": \"scattergeo\"}], \"scattergl\": [{\"marker\": {\"colorbar\": {\"outlinewidth\": 0, \"ticks\": \"\"}}, \"type\": \"scattergl\"}], \"scattermapbox\": [{\"marker\": {\"colorbar\": {\"outlinewidth\": 0, \"ticks\": \"\"}}, \"type\": \"scattermapbox\"}], \"scatterpolar\": [{\"marker\": {\"colorbar\": {\"outlinewidth\": 0, \"ticks\": \"\"}}, \"type\": \"scatterpolar\"}], \"scatterpolargl\": [{\"marker\": {\"colorbar\": {\"outlinewidth\": 0, \"ticks\": \"\"}}, \"type\": \"scatterpolargl\"}], \"scatterternary\": [{\"marker\": {\"colorbar\": {\"outlinewidth\": 0, \"ticks\": \"\"}}, \"type\": \"scatterternary\"}], \"surface\": [{\"colorbar\": {\"outlinewidth\": 0, \"ticks\": \"\"}, \"colorscale\": [[0.0, \"#0d0887\"], [0.1111111111111111, \"#46039f\"], [0.2222222222222222, \"#7201a8\"], [0.3333333333333333, \"#9c179e\"], [0.4444444444444444, \"#bd3786\"], [0.5555555555555556, \"#d8576b\"], [0.6666666666666666, \"#ed7953\"], [0.7777777777777778, \"#fb9f3a\"], [0.8888888888888888, \"#fdca26\"], [1.0, \"#f0f921\"]], \"type\": \"surface\"}], \"table\": [{\"cells\": {\"fill\": {\"color\": \"#EBF0F8\"}, \"line\": {\"color\": \"white\"}}, \"header\": {\"fill\": {\"color\": \"#C8D4E3\"}, \"line\": {\"color\": \"white\"}}, \"type\": \"table\"}]}, \"layout\": {\"annotationdefaults\": {\"arrowcolor\": \"#2a3f5f\", \"arrowhead\": 0, \"arrowwidth\": 1}, \"coloraxis\": {\"colorbar\": {\"outlinewidth\": 0, \"ticks\": \"\"}}, \"colorscale\": {\"diverging\": [[0, \"#8e0152\"], [0.1, \"#c51b7d\"], [0.2, \"#de77ae\"], [0.3, \"#f1b6da\"], [0.4, \"#fde0ef\"], [0.5, \"#f7f7f7\"], [0.6, \"#e6f5d0\"], [0.7, \"#b8e186\"], [0.8, \"#7fbc41\"], [0.9, \"#4d9221\"], [1, \"#276419\"]], \"sequential\": [[0.0, \"#0d0887\"], [0.1111111111111111, \"#46039f\"], [0.2222222222222222, \"#7201a8\"], [0.3333333333333333, \"#9c179e\"], [0.4444444444444444, \"#bd3786\"], [0.5555555555555556, \"#d8576b\"], [0.6666666666666666, \"#ed7953\"], [0.7777777777777778, \"#fb9f3a\"], [0.8888888888888888, \"#fdca26\"], [1.0, \"#f0f921\"]], \"sequentialminus\": [[0.0, \"#0d0887\"], [0.1111111111111111, \"#46039f\"], [0.2222222222222222, \"#7201a8\"], [0.3333333333333333, \"#9c179e\"], [0.4444444444444444, \"#bd3786\"], [0.5555555555555556, \"#d8576b\"], [0.6666666666666666, \"#ed7953\"], [0.7777777777777778, \"#fb9f3a\"], [0.8888888888888888, \"#fdca26\"], [1.0, \"#f0f921\"]]}, \"colorway\": [\"#636efa\", \"#EF553B\", \"#00cc96\", \"#ab63fa\", \"#FFA15A\", \"#19d3f3\", \"#FF6692\", \"#B6E880\", \"#FF97FF\", \"#FECB52\"], \"font\": {\"color\": \"#2a3f5f\"}, \"geo\": {\"bgcolor\": \"white\", \"lakecolor\": \"white\", \"landcolor\": \"#E5ECF6\", \"showlakes\": true, \"showland\": true, \"subunitcolor\": \"white\"}, \"hoverlabel\": {\"align\": \"left\"}, \"hovermode\": \"closest\", \"mapbox\": {\"style\": \"light\"}, \"paper_bgcolor\": \"white\", \"plot_bgcolor\": \"#E5ECF6\", \"polar\": {\"angularaxis\": {\"gridcolor\": \"white\", \"linecolor\": \"white\", \"ticks\": \"\"}, \"bgcolor\": \"#E5ECF6\", \"radialaxis\": {\"gridcolor\": \"white\", \"linecolor\": \"white\", \"ticks\": \"\"}}, \"scene\": {\"xaxis\": {\"backgroundcolor\": \"#E5ECF6\", \"gridcolor\": \"white\", \"gridwidth\": 2, \"linecolor\": \"white\", \"showbackground\": true, \"ticks\": \"\", \"zerolinecolor\": \"white\"}, \"yaxis\": {\"backgroundcolor\": \"#E5ECF6\", \"gridcolor\": \"white\", \"gridwidth\": 2, \"linecolor\": \"white\", \"showbackground\": true, \"ticks\": \"\", \"zerolinecolor\": \"white\"}, \"zaxis\": {\"backgroundcolor\": \"#E5ECF6\", \"gridcolor\": \"white\", \"gridwidth\": 2, \"linecolor\": \"white\", \"showbackground\": true, \"ticks\": \"\", \"zerolinecolor\": \"white\"}}, \"shapedefaults\": {\"line\": {\"color\": \"#2a3f5f\"}}, \"ternary\": {\"aaxis\": {\"gridcolor\": \"white\", \"linecolor\": \"white\", \"ticks\": \"\"}, \"baxis\": {\"gridcolor\": \"white\", \"linecolor\": \"white\", \"ticks\": \"\"}, \"bgcolor\": \"#E5ECF6\", \"caxis\": {\"gridcolor\": \"white\", \"linecolor\": \"white\", \"ticks\": \"\"}}, \"title\": {\"x\": 0.05}, \"xaxis\": {\"automargin\": true, \"gridcolor\": \"white\", \"linecolor\": \"white\", \"ticks\": \"\", \"title\": {\"standoff\": 15}, \"zerolinecolor\": \"white\", \"zerolinewidth\": 2}, \"yaxis\": {\"automargin\": true, \"gridcolor\": \"white\", \"linecolor\": \"white\", \"ticks\": \"\", \"title\": {\"standoff\": 15}, \"zerolinecolor\": \"white\", \"zerolinewidth\": 2}}}, \"title\": {\"text\": \"Distribution of Ratings for Apparel\"}},\n",
              "                        {\"responsive\": true}\n",
              "                    ).then(function(){\n",
              "                            \n",
              "var gd = document.getElementById('c22c4b5e-a6fe-41e7-9587-bf2b529cdfa8');\n",
              "var x = new MutationObserver(function (mutations, observer) {{\n",
              "        var display = window.getComputedStyle(gd).display;\n",
              "        if (!display || display === 'none') {{\n",
              "            console.log([gd, 'removed!']);\n",
              "            Plotly.purge(gd);\n",
              "            observer.disconnect();\n",
              "        }}\n",
              "}});\n",
              "\n",
              "// Listen for the removal of the full notebook cells\n",
              "var notebookContainer = gd.closest('#notebook-container');\n",
              "if (notebookContainer) {{\n",
              "    x.observe(notebookContainer, {childList: true});\n",
              "}}\n",
              "\n",
              "// Listen for the clearing of the current output cell\n",
              "var outputEl = gd.closest('.output');\n",
              "if (outputEl) {{\n",
              "    x.observe(outputEl, {childList: true});\n",
              "}}\n",
              "\n",
              "                        })\n",
              "                };\n",
              "                });\n",
              "            </script>\n",
              "        </div>"
            ],
            "application/vnd.plotly.v1+json": {
              "data": [
                {
                  "name": "Apparel",
                  "labels": [
                    5,
                    4,
                    1,
                    3,
                    2
                  ],
                  "values": [
                    53355,
                    17770,
                    11715,
                    10395,
                    6684
                  ],
                  "marker": {
                    "colors": [
                      "pink",
                      "lightblue",
                      "aqua",
                      "gold",
                      "crimson"
                    ]
                  },
                  "hole": 0.3,
                  "type": "pie"
                }
              ],
              "config": {
                "plotlyServerURL": "https://plot.ly",
                "linkText": "Export to plot.ly",
                "showLink": false
              },
              "layout": {
                "template": {
                  "layout": {
                    "shapedefaults": {
                      "line": {
                        "color": "#2a3f5f"
                      }
                    },
                    "polar": {
                      "radialaxis": {
                        "ticks": "",
                        "gridcolor": "white",
                        "linecolor": "white"
                      },
                      "bgcolor": "#E5ECF6",
                      "angularaxis": {
                        "ticks": "",
                        "gridcolor": "white",
                        "linecolor": "white"
                      }
                    },
                    "colorway": [
                      "#636efa",
                      "#EF553B",
                      "#00cc96",
                      "#ab63fa",
                      "#FFA15A",
                      "#19d3f3",
                      "#FF6692",
                      "#B6E880",
                      "#FF97FF",
                      "#FECB52"
                    ],
                    "xaxis": {
                      "automargin": true,
                      "title": {
                        "standoff": 15
                      },
                      "zerolinewidth": 2,
                      "ticks": "",
                      "zerolinecolor": "white",
                      "gridcolor": "white",
                      "linecolor": "white"
                    },
                    "colorscale": {
                      "diverging": [
                        [
                          0,
                          "#8e0152"
                        ],
                        [
                          0.1,
                          "#c51b7d"
                        ],
                        [
                          0.2,
                          "#de77ae"
                        ],
                        [
                          0.3,
                          "#f1b6da"
                        ],
                        [
                          0.4,
                          "#fde0ef"
                        ],
                        [
                          0.5,
                          "#f7f7f7"
                        ],
                        [
                          0.6,
                          "#e6f5d0"
                        ],
                        [
                          0.7,
                          "#b8e186"
                        ],
                        [
                          0.8,
                          "#7fbc41"
                        ],
                        [
                          0.9,
                          "#4d9221"
                        ],
                        [
                          1,
                          "#276419"
                        ]
                      ],
                      "sequential": [
                        [
                          0,
                          "#0d0887"
                        ],
                        [
                          0.1111111111111111,
                          "#46039f"
                        ],
                        [
                          0.2222222222222222,
                          "#7201a8"
                        ],
                        [
                          0.3333333333333333,
                          "#9c179e"
                        ],
                        [
                          0.4444444444444444,
                          "#bd3786"
                        ],
                        [
                          0.5555555555555556,
                          "#d8576b"
                        ],
                        [
                          0.6666666666666666,
                          "#ed7953"
                        ],
                        [
                          0.7777777777777778,
                          "#fb9f3a"
                        ],
                        [
                          0.8888888888888888,
                          "#fdca26"
                        ],
                        [
                          1,
                          "#f0f921"
                        ]
                      ],
                      "sequentialminus": [
                        [
                          0,
                          "#0d0887"
                        ],
                        [
                          0.1111111111111111,
                          "#46039f"
                        ],
                        [
                          0.2222222222222222,
                          "#7201a8"
                        ],
                        [
                          0.3333333333333333,
                          "#9c179e"
                        ],
                        [
                          0.4444444444444444,
                          "#bd3786"
                        ],
                        [
                          0.5555555555555556,
                          "#d8576b"
                        ],
                        [
                          0.6666666666666666,
                          "#ed7953"
                        ],
                        [
                          0.7777777777777778,
                          "#fb9f3a"
                        ],
                        [
                          0.8888888888888888,
                          "#fdca26"
                        ],
                        [
                          1,
                          "#f0f921"
                        ]
                      ]
                    },
                    "paper_bgcolor": "white",
                    "plot_bgcolor": "#E5ECF6",
                    "title": {
                      "x": 0.05
                    },
                    "scene": {
                      "zaxis": {
                        "backgroundcolor": "#E5ECF6",
                        "ticks": "",
                        "gridwidth": 2,
                        "showbackground": true,
                        "zerolinecolor": "white",
                        "gridcolor": "white",
                        "linecolor": "white"
                      },
                      "xaxis": {
                        "backgroundcolor": "#E5ECF6",
                        "ticks": "",
                        "gridwidth": 2,
                        "showbackground": true,
                        "zerolinecolor": "white",
                        "gridcolor": "white",
                        "linecolor": "white"
                      },
                      "yaxis": {
                        "backgroundcolor": "#E5ECF6",
                        "ticks": "",
                        "gridwidth": 2,
                        "showbackground": true,
                        "zerolinecolor": "white",
                        "gridcolor": "white",
                        "linecolor": "white"
                      }
                    },
                    "yaxis": {
                      "automargin": true,
                      "title": {
                        "standoff": 15
                      },
                      "zerolinewidth": 2,
                      "ticks": "",
                      "zerolinecolor": "white",
                      "gridcolor": "white",
                      "linecolor": "white"
                    },
                    "annotationdefaults": {
                      "arrowwidth": 1,
                      "arrowhead": 0,
                      "arrowcolor": "#2a3f5f"
                    },
                    "hoverlabel": {
                      "align": "left"
                    },
                    "ternary": {
                      "bgcolor": "#E5ECF6",
                      "baxis": {
                        "ticks": "",
                        "gridcolor": "white",
                        "linecolor": "white"
                      },
                      "caxis": {
                        "ticks": "",
                        "gridcolor": "white",
                        "linecolor": "white"
                      },
                      "aaxis": {
                        "ticks": "",
                        "gridcolor": "white",
                        "linecolor": "white"
                      }
                    },
                    "mapbox": {
                      "style": "light"
                    },
                    "hovermode": "closest",
                    "font": {
                      "color": "#2a3f5f"
                    },
                    "geo": {
                      "showland": true,
                      "landcolor": "#E5ECF6",
                      "showlakes": true,
                      "bgcolor": "white",
                      "subunitcolor": "white",
                      "lakecolor": "white"
                    },
                    "coloraxis": {
                      "colorbar": {
                        "outlinewidth": 0,
                        "ticks": ""
                      }
                    }
                  },
                  "data": {
                    "mesh3d": [
                      {
                        "colorbar": {
                          "outlinewidth": 0,
                          "ticks": ""
                        },
                        "type": "mesh3d"
                      }
                    ],
                    "scattercarpet": [
                      {
                        "marker": {
                          "colorbar": {
                            "outlinewidth": 0,
                            "ticks": ""
                          }
                        },
                        "type": "scattercarpet"
                      }
                    ],
                    "pie": [
                      {
                        "automargin": true,
                        "type": "pie"
                      }
                    ],
                    "surface": [
                      {
                        "colorbar": {
                          "outlinewidth": 0,
                          "ticks": ""
                        },
                        "type": "surface",
                        "colorscale": [
                          [
                            0,
                            "#0d0887"
                          ],
                          [
                            0.1111111111111111,
                            "#46039f"
                          ],
                          [
                            0.2222222222222222,
                            "#7201a8"
                          ],
                          [
                            0.3333333333333333,
                            "#9c179e"
                          ],
                          [
                            0.4444444444444444,
                            "#bd3786"
                          ],
                          [
                            0.5555555555555556,
                            "#d8576b"
                          ],
                          [
                            0.6666666666666666,
                            "#ed7953"
                          ],
                          [
                            0.7777777777777778,
                            "#fb9f3a"
                          ],
                          [
                            0.8888888888888888,
                            "#fdca26"
                          ],
                          [
                            1,
                            "#f0f921"
                          ]
                        ]
                      }
                    ],
                    "table": [
                      {
                        "header": {
                          "line": {
                            "color": "white"
                          },
                          "fill": {
                            "color": "#C8D4E3"
                          }
                        },
                        "cells": {
                          "line": {
                            "color": "white"
                          },
                          "fill": {
                            "color": "#EBF0F8"
                          }
                        },
                        "type": "table"
                      }
                    ],
                    "scatterpolargl": [
                      {
                        "marker": {
                          "colorbar": {
                            "outlinewidth": 0,
                            "ticks": ""
                          }
                        },
                        "type": "scatterpolargl"
                      }
                    ],
                    "contour": [
                      {
                        "colorbar": {
                          "outlinewidth": 0,
                          "ticks": ""
                        },
                        "type": "contour",
                        "colorscale": [
                          [
                            0,
                            "#0d0887"
                          ],
                          [
                            0.1111111111111111,
                            "#46039f"
                          ],
                          [
                            0.2222222222222222,
                            "#7201a8"
                          ],
                          [
                            0.3333333333333333,
                            "#9c179e"
                          ],
                          [
                            0.4444444444444444,
                            "#bd3786"
                          ],
                          [
                            0.5555555555555556,
                            "#d8576b"
                          ],
                          [
                            0.6666666666666666,
                            "#ed7953"
                          ],
                          [
                            0.7777777777777778,
                            "#fb9f3a"
                          ],
                          [
                            0.8888888888888888,
                            "#fdca26"
                          ],
                          [
                            1,
                            "#f0f921"
                          ]
                        ]
                      }
                    ],
                    "carpet": [
                      {
                        "type": "carpet",
                        "baxis": {
                          "minorgridcolor": "white",
                          "gridcolor": "white",
                          "linecolor": "white",
                          "endlinecolor": "#2a3f5f",
                          "startlinecolor": "#2a3f5f"
                        },
                        "aaxis": {
                          "minorgridcolor": "white",
                          "gridcolor": "white",
                          "linecolor": "white",
                          "endlinecolor": "#2a3f5f",
                          "startlinecolor": "#2a3f5f"
                        }
                      }
                    ],
                    "contourcarpet": [
                      {
                        "colorbar": {
                          "outlinewidth": 0,
                          "ticks": ""
                        },
                        "type": "contourcarpet"
                      }
                    ],
                    "heatmap": [
                      {
                        "colorbar": {
                          "outlinewidth": 0,
                          "ticks": ""
                        },
                        "type": "heatmap",
                        "colorscale": [
                          [
                            0,
                            "#0d0887"
                          ],
                          [
                            0.1111111111111111,
                            "#46039f"
                          ],
                          [
                            0.2222222222222222,
                            "#7201a8"
                          ],
                          [
                            0.3333333333333333,
                            "#9c179e"
                          ],
                          [
                            0.4444444444444444,
                            "#bd3786"
                          ],
                          [
                            0.5555555555555556,
                            "#d8576b"
                          ],
                          [
                            0.6666666666666666,
                            "#ed7953"
                          ],
                          [
                            0.7777777777777778,
                            "#fb9f3a"
                          ],
                          [
                            0.8888888888888888,
                            "#fdca26"
                          ],
                          [
                            1,
                            "#f0f921"
                          ]
                        ]
                      }
                    ],
                    "scattermapbox": [
                      {
                        "marker": {
                          "colorbar": {
                            "outlinewidth": 0,
                            "ticks": ""
                          }
                        },
                        "type": "scattermapbox"
                      }
                    ],
                    "scatter3d": [
                      {
                        "marker": {
                          "colorbar": {
                            "outlinewidth": 0,
                            "ticks": ""
                          }
                        },
                        "line": {
                          "colorbar": {
                            "outlinewidth": 0,
                            "ticks": ""
                          }
                        },
                        "type": "scatter3d"
                      }
                    ],
                    "scattergl": [
                      {
                        "marker": {
                          "colorbar": {
                            "outlinewidth": 0,
                            "ticks": ""
                          }
                        },
                        "type": "scattergl"
                      }
                    ],
                    "scatterternary": [
                      {
                        "marker": {
                          "colorbar": {
                            "outlinewidth": 0,
                            "ticks": ""
                          }
                        },
                        "type": "scatterternary"
                      }
                    ],
                    "histogram": [
                      {
                        "marker": {
                          "colorbar": {
                            "outlinewidth": 0,
                            "ticks": ""
                          }
                        },
                        "type": "histogram"
                      }
                    ],
                    "heatmapgl": [
                      {
                        "colorbar": {
                          "outlinewidth": 0,
                          "ticks": ""
                        },
                        "type": "heatmapgl",
                        "colorscale": [
                          [
                            0,
                            "#0d0887"
                          ],
                          [
                            0.1111111111111111,
                            "#46039f"
                          ],
                          [
                            0.2222222222222222,
                            "#7201a8"
                          ],
                          [
                            0.3333333333333333,
                            "#9c179e"
                          ],
                          [
                            0.4444444444444444,
                            "#bd3786"
                          ],
                          [
                            0.5555555555555556,
                            "#d8576b"
                          ],
                          [
                            0.6666666666666666,
                            "#ed7953"
                          ],
                          [
                            0.7777777777777778,
                            "#fb9f3a"
                          ],
                          [
                            0.8888888888888888,
                            "#fdca26"
                          ],
                          [
                            1,
                            "#f0f921"
                          ]
                        ]
                      }
                    ],
                    "scatterpolar": [
                      {
                        "marker": {
                          "colorbar": {
                            "outlinewidth": 0,
                            "ticks": ""
                          }
                        },
                        "type": "scatterpolar"
                      }
                    ],
                    "histogram2d": [
                      {
                        "colorbar": {
                          "outlinewidth": 0,
                          "ticks": ""
                        },
                        "type": "histogram2d",
                        "colorscale": [
                          [
                            0,
                            "#0d0887"
                          ],
                          [
                            0.1111111111111111,
                            "#46039f"
                          ],
                          [
                            0.2222222222222222,
                            "#7201a8"
                          ],
                          [
                            0.3333333333333333,
                            "#9c179e"
                          ],
                          [
                            0.4444444444444444,
                            "#bd3786"
                          ],
                          [
                            0.5555555555555556,
                            "#d8576b"
                          ],
                          [
                            0.6666666666666666,
                            "#ed7953"
                          ],
                          [
                            0.7777777777777778,
                            "#fb9f3a"
                          ],
                          [
                            0.8888888888888888,
                            "#fdca26"
                          ],
                          [
                            1,
                            "#f0f921"
                          ]
                        ]
                      }
                    ],
                    "scattergeo": [
                      {
                        "marker": {
                          "colorbar": {
                            "outlinewidth": 0,
                            "ticks": ""
                          }
                        },
                        "type": "scattergeo"
                      }
                    ],
                    "bar": [
                      {
                        "marker": {
                          "line": {
                            "color": "#E5ECF6",
                            "width": 0.5
                          }
                        },
                        "type": "bar",
                        "error_x": {
                          "color": "#2a3f5f"
                        },
                        "error_y": {
                          "color": "#2a3f5f"
                        }
                      }
                    ],
                    "choropleth": [
                      {
                        "colorbar": {
                          "outlinewidth": 0,
                          "ticks": ""
                        },
                        "type": "choropleth"
                      }
                    ],
                    "parcoords": [
                      {
                        "line": {
                          "colorbar": {
                            "outlinewidth": 0,
                            "ticks": ""
                          }
                        },
                        "type": "parcoords"
                      }
                    ],
                    "barpolar": [
                      {
                        "marker": {
                          "line": {
                            "color": "#E5ECF6",
                            "width": 0.5
                          }
                        },
                        "type": "barpolar"
                      }
                    ],
                    "histogram2dcontour": [
                      {
                        "colorbar": {
                          "outlinewidth": 0,
                          "ticks": ""
                        },
                        "type": "histogram2dcontour",
                        "colorscale": [
                          [
                            0,
                            "#0d0887"
                          ],
                          [
                            0.1111111111111111,
                            "#46039f"
                          ],
                          [
                            0.2222222222222222,
                            "#7201a8"
                          ],
                          [
                            0.3333333333333333,
                            "#9c179e"
                          ],
                          [
                            0.4444444444444444,
                            "#bd3786"
                          ],
                          [
                            0.5555555555555556,
                            "#d8576b"
                          ],
                          [
                            0.6666666666666666,
                            "#ed7953"
                          ],
                          [
                            0.7777777777777778,
                            "#fb9f3a"
                          ],
                          [
                            0.8888888888888888,
                            "#fdca26"
                          ],
                          [
                            1,
                            "#f0f921"
                          ]
                        ]
                      }
                    ],
                    "scatter": [
                      {
                        "marker": {
                          "colorbar": {
                            "outlinewidth": 0,
                            "ticks": ""
                          }
                        },
                        "type": "scatter"
                      }
                    ]
                  }
                },
                "title": {
                  "text": "Distribution of Ratings for Apparel"
                }
              }
            }
          },
          "metadata": {}
        }
      ]
    },
    {
      "cell_type": "code",
      "metadata": {
        "id": "uJT7bqN3wyFd"
      },
      "source": [
        "# Distribution of product_title\n",
        "color = plt.cm.copper(np.linspace(0, 1, 15))\n",
        "df['product_title'].value_counts().plot.bar(color = color, figsize = (15, 9))\n",
        "plt.title('Distribution of Product Title', fontsize = 20)\n",
        "plt.xlabel('product_title')\n",
        "plt.ylabel('count')\n",
        "plt.show()\n"
      ],
      "execution_count": 456,
      "outputs": []
    },
    {
      "cell_type": "code",
      "metadata": {
        "id": "ckYb3j2XxDe9"
      },
      "source": [
        "# Distribution of helpful votes\n",
        "helpfulVotes = df['helpful_votes'].value_counts()\n",
        "\n",
        "label_feedback = votes.index\n",
        "size_feedback = votes.values\n",
        "\n",
        "colors = ['yellow', 'lightgreen']\n",
        "\n",
        "votes_piechart = go.Pie(labels = label_votes,\n",
        "                         values = size_votes,\n",
        "                         marker = dict(colors = colors),\n",
        "                         name = 'Apparel', hole = 0.3)\n",
        "\n",
        "df2 = [votes_piechart]\n",
        "\n",
        "layout = go.Layout(\n",
        "           title = 'Distribution of Helpful Votes for Apparel')\n",
        "\n",
        "fig = go.Figure(data = df2,\n",
        "                 layout = layout)\n",
        "\n",
        "py.iplot(fig)"
      ],
      "execution_count": null,
      "outputs": []
    },
    {
      "cell_type": "code",
      "metadata": {
        "id": "4ptcS3bruj42"
      },
      "source": [
        "# Distribution in the length of the reviews\n",
        "df['length'].value_counts().plot.hist(color = 'skyblue', figsize = (15, 5), bins = 50)\n",
        "plt.title('Distribution of Length in Reviews')\n",
        "plt.xlabel('lengths')\n",
        "plt.ylabel('count')\n",
        "plt.show()"
      ],
      "execution_count": null,
      "outputs": []
    },
    {
      "cell_type": "code",
      "metadata": {
        "id": "mc9xl_4Fx-h5"
      },
      "source": [
        "# Check some of the reviews according to their lengths\n",
        "df[df['length'] == 1]['total_votes'].iloc[0]\n",
        "df[df['length'] == 21]['total_votes'].iloc[0]\n",
        "df[df['length'] == 50]['total_votes'].iloc[0]\n",
        "df[df['length'] == 150]['total_votes'].iloc[0]"
      ],
      "execution_count": null,
      "outputs": []
    },
    {
      "cell_type": "code",
      "metadata": {
        "id": "zrmExxe9y-KG"
      },
      "source": [
        "# Product title vs product rating\n",
        "plt.rcParams['figure.figsize'] = (15, 9)\n",
        "plt.style.use('fivethirtyeight')\n",
        "\n",
        "sns.boxenplot(df['product_title'], df['star_rating'], palette = 'spring')\n",
        "plt.title(\"product_title vs star rating\")\n",
        "plt.xticks(rotation = 90)\n",
        "plt.show()"
      ],
      "execution_count": null,
      "outputs": []
    },
    {
      "cell_type": "code",
      "metadata": {
        "id": "WVK1XOUTzRZC"
      },
      "source": [
        "# product vs. length of rating\n",
        "plt.rcParams['figure.figsize'] = (15, 9)\n",
        "plt.style.use('fivethirtyeight')\n",
        "\n",
        "sns.swarmplot(data['variation'], df['length'], palette = 'deep')\n",
        "plt.title(\"Variation vs Length of Ratings\")\n",
        "plt.xticks(rotation = 90)\n",
        "plt.show()"
      ],
      "execution_count": null,
      "outputs": []
    },
    {
      "cell_type": "code",
      "metadata": {
        "id": "oEjUqjwfzwSP"
      },
      "source": [
        "# Helpful ratings vs. mean star rating\n",
        "import warnings\n",
        "warnings.filterwarnings('ignore')\n",
        "\n",
        "plt.rcParams['figure.figsize'] = (12, 7)\n",
        "plt.style.use('fivethirtyeight')\n",
        "\n",
        "sns.violinplot(df['helpful_votes'], df['star_rating'], palette = 'cool')\n",
        "plt.title(\"helpful votes Mean Ratings\")\n",
        "plt.show()"
      ],
      "execution_count": null,
      "outputs": []
    },
    {
      "cell_type": "code",
      "metadata": {
        "id": "Y8L7t7cJ0KvE"
      },
      "source": [
        "# Most frequently occuring word - top 20\n",
        "from sklearn.feature_extraction.text import CountVectorizer\n",
        "\n",
        "\n",
        "cv = CountVectorizer(stop_words = 'english')\n",
        "words = cv.fit_transform(df.review_body)\n",
        "sum_words = words.sum(axis=0)\n",
        "\n",
        "\n",
        "words_freq = [(word, sum_words[0, idx]) for word, idx in cv.vocabulary_.items()]\n",
        "words_freq = sorted(words_freq, key = lambda x: x[1], reverse = True)\n",
        "frequency = pd.DataFrame(words_freq, columns=['word', 'freq'])\n",
        "\n",
        "plt.style.use('fivethirtyeight')\n",
        "color = plt.cm.ocean(np.linspace(0, 1, 20))\n",
        "frequency.head(20).plot(x='word', y='freq', kind='bar', figsize=(15, 6), color = color)\n",
        "plt.title(\"Most Frequently Occuring Words - Top 20\")\n",
        "plt.show()"
      ],
      "execution_count": null,
      "outputs": []
    },
    {
      "cell_type": "code",
      "metadata": {
        "id": "DRwGo7zo0ub7"
      },
      "source": [
        "# total votes vs length\n",
        "import warnings\n",
        "warnings.filterwarnings('ignore')\n",
        "\n",
        "plt.rcParams['figure.figsize'] = (12, 7)\n",
        "plt.style.use('fivethirtyeight')\n",
        "\n",
        "sns.stripplot(df['total_votes'], data['length'], palette = 'Reds')\n",
        "plt.title(\"Votes vs Length\")\n",
        "plt.show()"
      ],
      "execution_count": null,
      "outputs": []
    },
    {
      "cell_type": "code",
      "metadata": {
        "id": "0Rt3HTeZ1DG1"
      },
      "source": [
        "# Rating vs. Length vs. product_title\n",
        "trace = go.Scatter3d(\n",
        "    x = df['length'],\n",
        "    y = df['star_rating'],\n",
        "    z = df['product_title'],\n",
        "    name = 'Apparel',\n",
        "    mode='markers',\n",
        "    marker=dict(\n",
        "        size=10,\n",
        "        color = df['star_rating'],\n",
        "        colorscale = 'Viridis',\n",
        "    )\n",
        ")\n",
        "df = [trace]\n",
        "\n",
        "layout = go.Layout(\n",
        "    title = 'Length vs Variation vs Ratings',\n",
        "    margin=dict(\n",
        "        l=0,\n",
        "        r=0,\n",
        "        b=0,\n",
        "        t=0  \n",
        "    )\n",
        "    \n",
        ")\n",
        "fig = go.Figure(data = df, layout = \n",
        "                layout)\n",
        "iplot(fig)"
      ],
      "execution_count": null,
      "outputs": []
    },
    {
      "cell_type": "code",
      "metadata": {
        "id": "OkGSlA4qAFKs"
      },
      "source": [
        "#Applying the function in our new column\n",
        "df['sentiment'] = df.apply(sentiment, axis=1)\n",
        "df.head()"
      ],
      "execution_count": null,
      "outputs": []
    },
    {
      "cell_type": "code",
      "metadata": {
        "id": "6bCk3bG_AI68"
      },
      "source": [
        "\n",
        "# Distribution of sentiment class\n",
        "fig, axes = plt.subplots(1, figsize=(15,8))\n",
        "fig.suptitle(\"Comparing Ratio of Neutral Negative and Positive ratings\", fontsize = 25)\n",
        "plt.tight_layout(pad = 3.5)\n",
        "sns.countplot(x = \"sentiment\", data = df)\n",
        "axes.set_xlabel(\"Sentiment\", fontsize = 20)\n",
        "axes.set_ylabel(\"Count\", fontsize = 20)\n",
        "sns.despine()"
      ],
      "execution_count": null,
      "outputs": []
    },
    {
      "cell_type": "code",
      "metadata": {
        "id": "4S6YIWVAs_Ov"
      },
      "source": [
        "# Distribution of the retaings\n",
        "fig, axes = plt.subplots(1, figsize=(15,8))\n",
        "fig.suptitle(\"Comparing Ratio of Neutral Negative and Positive ratings\", fontsize = 25)\n",
        "plt.tight_layout(pad = 3.5)\n",
        "sns.countplot(x = \"star_rating\", data = df)\n",
        "axes.set_xlabel(\"Sentiment\", fontsize = 20)\n",
        "axes.set_ylabel(\"Count\", fontsize = 20)\n",
        "sns.despine()"
      ],
      "execution_count": null,
      "outputs": []
    },
    {
      "cell_type": "code",
      "metadata": {
        "id": "CCDPVgBwAL1m"
      },
      "source": [
        "# Group by product and Rating class\n",
        "df.groupby(\"product_title\")[\"review_body\"].unique()"
      ],
      "execution_count": null,
      "outputs": []
    },
    {
      "cell_type": "code",
      "metadata": {
        "id": "ZoBL1pgYAMYU"
      },
      "source": [
        "# Group by product and Rating class\n",
        "df.groupby(\"product_title\")[\"product_id\"].count()"
      ],
      "execution_count": null,
      "outputs": []
    },
    {
      "cell_type": "code",
      "metadata": {
        "id": "GEsotOp3Fgkn"
      },
      "source": [
        "# Group by product and Rating class\n",
        "df.groupby(\"product_title\")[\"sentiment\"].unique()"
      ],
      "execution_count": null,
      "outputs": []
    },
    {
      "cell_type": "code",
      "metadata": {
        "id": "ALZdqSW_2Y-x"
      },
      "source": [
        "from plotly import tools\n",
        "import plotly.offline as py\n",
        "py.init_notebook_mode(connected=True)\n",
        "import plotly.graph_objs as go\n",
        "%matplotlib inline\n",
        "import warnings\n",
        "warnings.filterwarnings('ignore')"
      ],
      "execution_count": null,
      "outputs": []
    },
    {
      "cell_type": "code",
      "metadata": {
        "id": "hyw_MrSOLQYg",
        "colab": {
          "base_uri": "https://localhost:8080/",
          "height": 948
        },
        "outputId": "349c7bb1-7fcd-44e9-dd87-26d9459845d0"
      },
      "source": [
        "import numpy as np\n",
        "print(df)\n",
        "# Leaving the text columns , finding the correlation between different features and their influence on score \n",
        "plt.figure(figsize = (10,10))\n",
        "corr = df.corr()\n",
        "sns.heatmap(corr , mask=np.zeros_like(corr, dtype=np.bool) , cmap=sns.diverging_palette(-100,0,as_cmap=True) , square = True)"
      ],
      "execution_count": 457,
      "outputs": [
        {
          "output_type": "stream",
          "name": "stdout",
          "text": [
            "       index  ...  review_date\n",
            "0          2  ...   2015-07-12\n",
            "1          3  ...   2015-06-03\n",
            "2          4  ...   2015-06-12\n",
            "3          6  ...   2015-07-28\n",
            "4          7  ...   2015-07-10\n",
            "...      ...  ...          ...\n",
            "99914  99939  ...   2015-05-05\n",
            "99915  99940  ...   2015-05-18\n",
            "99916  99941  ...   2015-06-29\n",
            "99917  99942  ...   2015-08-06\n",
            "99918  99943  ...   2015-07-07\n",
            "\n",
            "[99919 rows x 12 columns]\n"
          ]
        },
        {
          "output_type": "execute_result",
          "data": {
            "text/plain": [
              "<matplotlib.axes._subplots.AxesSubplot at 0x7f515ecf7b10>"
            ]
          },
          "metadata": {},
          "execution_count": 457
        },
        {
          "output_type": "display_data",
          "data": {
            "image/png": "[encoded data removed]",
            "text/plain": [
              "<Figure size 720x720 with 2 Axes>"
            ]
          },
          "metadata": {}
        }
      ]
    },
    {
      "cell_type": "code",
      "metadata": {
        "id": "fuj7m0WX1U_t"
      },
      "source": [
        "\n",
        "df=df['star_rating'].value_counts().to_frame()\n",
        "avgdf1 = df.groupby('helpful_votes').agg({'star_rating': np.average})\n",
        "avgdf2 = df.groupby('product_title').agg({'helpful_votes': np.average})\n",
        "avgdf3 = df.groupby('star_rating').agg({'helpful_votes': np.average})\n",
        "\n",
        "trace1 = go.Bar(\n",
        "    x=avgdf1.index,\n",
        "    y=round(avgdf1['star_rating'],2),\n",
        "    marker=dict(\n",
        "        color=avgdf1['star_rating'],\n",
        "        colorscale = 'RdBu')\n",
        ")\n",
        "\n",
        "trace2 = go.Bar(\n",
        "    x=df1.index,\n",
        "    y=df1.Rating,\n",
        "    marker=dict(\n",
        "        color=df1['star_rating'],\n",
        "        colorscale = 'RdBu')\n",
        ")\n",
        "\n",
        "trace3 = go.Bar(\n",
        "    x=avgdf2.index,\n",
        "    y=round(avgdf2['helpful_votes'],2),\n",
        "    marker=dict(\n",
        "        color=avgdf2['helpful_votes'],\n",
        "        colorscale = 'RdBu')\n",
        ")\n",
        "\n",
        "trace4 = go.Bar(\n",
        "    x=avgdf3.index,\n",
        "    y=round(avgdf3['helpful_votes'],2),\n",
        "    marker=dict(\n",
        "        color=avgdf3['helpful_votes'],\n",
        "        colorscale = 'Reds')\n",
        ")\n",
        "\n",
        "fig = tools.make_subplots(rows=2, cols=2, print_grid=False)\n",
        "\n",
        "fig.append_trace(trace1, 1, 1)\n",
        "fig.append_trace(trace2, 1, 2)\n",
        "fig.append_trace(trace3, 2, 1)\n",
        "fig.append_trace(trace4, 2, 2)\n",
        "\n",
        "fig['layout']['xaxis1'].update(title='product_title')\n",
        "fig['layout']['yaxis1'].update(title='Average Rating')\n",
        "fig['layout']['xaxis2'].update(title='Rating')\n",
        "fig['layout']['yaxis2'].update(title='Count')\n",
        "fig['layout']['xaxis3'].update(title='product_title')\n",
        "fig['layout']['yaxis3'].update(title='Average Age of the Reviewers')\n",
        "fig['layout']['xaxis4'].update(title='star_rating')\n",
        "fig['layout']['yaxis4'].update(title='Average Age of the Reviewers')\n",
        "\n",
        "fig['layout'].update(height=800, width=900,showlegend=False)\n",
        "fig.update_layout({'plot_bgcolor':'rgba(0,0,0,0)',\n",
        "                   'paper_bgcolor':'rgba(0,0,0,0)'})\n",
        "#fig['layout'].update(plot_bgcolor='rgba(0,0,0,0)')\n",
        "#fig['layout'].update(paper_bgcolor='rgba(0,0,0,0)')\n",
        "py.iplot(fig)"
      ],
      "execution_count": null,
      "outputs": []
    },
    {
      "cell_type": "code",
      "metadata": {
        "id": "fHUCpuHFXEzo"
      },
      "source": [
        "# # cv = df[\"product_title\"].value_counts()\n",
        "\n",
        "# trace = go.Scatter3d( x = avgdf1.index,\n",
        "#                       y = avgdf1['star_rating'],\n",
        "#                       z = cv[avgdf1.index],\n",
        "#                       mode = 'markers',\n",
        "#                       marker = dict(size=10,color=avgdf1['star_rating']),\n",
        "#                       hoverinfo =\"text\",\n",
        "#                       text=\"Class: \"+avgdf1.index+\" \\ Average Rating: \"+avgdf1['star_rating'].map(' {:,.2f}'.format).apply(str)+\" \\ Number of Reviewers: \"+cv[avgdf1.index].apply(str)\n",
        "#                       )\n",
        "\n",
        "# data = [trace]\n",
        "# layout = go.Layout(title=\"Average Rating & Class & Number of Reviewers\",\n",
        "#                    scene = dict(\n",
        "#                     xaxis = dict(title='product_title'),\n",
        "#                     yaxis = dict(title='Average Rating'),\n",
        "#                     zaxis = dict(title='Number of Sales'),),\n",
        "#                    margin = dict(l=30, r=30, b=30, t=30))\n",
        "# fig = go.Figure(data=data, layout=layout)\n",
        "# py.iplot(fig)\n",
        "# plt.savefig('3D_Scatter.png')"
      ],
      "execution_count": null,
      "outputs": []
    },
    {
      "cell_type": "code",
      "metadata": {
        "id": "utzlM4pvAQwt"
      },
      "source": [
        "# Plot number of reviews for top 50 products\n",
        "products = df[\"product_id\"].value_counts()\n",
        "plt.figure(figsize=(12,8))\n",
        "products[:10].plot(kind='bar')\n",
        "plt.title(\"Number of Reviews for Top 50 Products\")"
      ],
      "execution_count": null,
      "outputs": []
    },
    {
      "cell_type": "code",
      "metadata": {
        "id": "Xgy6fvkZBx-V"
      },
      "source": [
        "# Plot number of reviews for top 50 products\n",
        "products = df[\"product_title\"].value_counts()\n",
        "plt.figure(figsize=(12,8))\n",
        "products[:10].plot(kind='bar')\n",
        "plt.title(\"Number of Reviews for Top 50 Products\")"
      ],
      "execution_count": null,
      "outputs": []
    },
    {
      "cell_type": "code",
      "metadata": {
        "id": "yO7Cao81BKFd"
      },
      "source": [
        "# Word Count per Review type\n",
        "from textblob import TextBlob\n",
        "df['text_word_count']= df.apply(lambda row: len(row['review_body']), axis=1)\n",
        "# df[\"text_word_count\"] = temp_df[\"Text\"].apply(lambda text: len(text.split()))\n"
      ],
      "execution_count": null,
      "outputs": []
    },
    {
      "cell_type": "code",
      "metadata": {
        "id": "xowxyipbBXwt"
      },
      "source": [
        "df[df.star_rating==5].text_word_count.median()"
      ],
      "execution_count": null,
      "outputs": []
    },
    {
      "cell_type": "code",
      "metadata": {
        "id": "K1fJ-or2BPh9"
      },
      "source": [
        "sns.boxplot(x='star_rating',y='text_word_count', data=df, palette='RdBu', showfliers=False)\n",
        "plt.show()"
      ],
      "execution_count": null,
      "outputs": []
    },
    {
      "cell_type": "code",
      "metadata": {
        "id": "C_pVB7QSBfVF"
      },
      "source": [
        "sns.boxplot(x='sentiment',y='text_word_count', data=df, palette='RdBu', showfliers=False)\n",
        "plt.show()"
      ],
      "execution_count": null,
      "outputs": []
    },
    {
      "cell_type": "code",
      "metadata": {
        "id": "Dq6UgamkC5LY"
      },
      "source": [
        "# (6) Confirm data is ready with further exploratory analysis\n"
      ],
      "execution_count": null,
      "outputs": []
    },
    {
      "cell_type": "markdown",
      "metadata": {
        "id": "2B69HsoGAn80"
      },
      "source": [
        "\n",
        "\n",
        "*   Maximum reviews are positive\n",
        "*   Product with Max reviews is Tummy slimming belt\n",
        "*   This shows people mainly target losing weight :)\n",
        "*   Postive reviews has lesser words compared to Neutral and negative. Neutral commets are ones with most words. Which can be critic comment or unsatisfied customers.\n",
        "\n",
        "\n",
        "\n"
      ]
    },
    {
      "cell_type": "markdown",
      "metadata": {
        "id": "v5kE58WwCac1"
      },
      "source": [
        "### Popular words in Review"
      ]
    },
    {
      "cell_type": "code",
      "metadata": {
        "id": "gmiHZQYK5zJn"
      },
      "source": [
        "pos = df_discriptive.loc[df['classes'] == 'positive']\n",
        "pos = pos[0:25000]\n",
        "\n",
        "neg = df.loc[df['classes'] == 'negative']\n",
        "neg = neg[0:25000]"
      ],
      "execution_count": null,
      "outputs": []
    },
    {
      "cell_type": "code",
      "metadata": {
        "id": "hNyd6sVfSgFU"
      },
      "source": [
        "!pip install nltk"
      ],
      "execution_count": null,
      "outputs": []
    },
    {
      "cell_type": "code",
      "metadata": {
        "id": "7V-pjZG34Hs8"
      },
      "source": [
        "import nltk\n",
        "from nltk.corpus import stopwords\n",
        "from wordcloud import WordCloud\n",
        "import string\n",
        "import matplotlib.pyplot as plt\n",
        "nltk.download('punkt')\n",
        "nltk.download('stopwords')\n",
        "\n",
        "def create_Word_Corpus(temp):\n",
        "    words_corpus = ''\n",
        "    for val in temp[\"review_body\"]:\n",
        "        text = str(val).lower()\n",
        "        #text = text.translate(trantab)\n",
        "        tokens = nltk.word_tokenize(text)\n",
        "        tokens = [word for word in tokens if word not in stopwords.words('english')]\n",
        "        for words in tokens:\n",
        "            words_corpus = words_corpus + words + ' '\n",
        "    return words_corpus\n",
        "        \n"
      ],
      "execution_count": null,
      "outputs": []
    },
    {
      "cell_type": "code",
      "metadata": {
        "id": "uRPuC5_dSApX"
      },
      "source": [
        "# Generate a word cloud image\n",
        "pos_wordcloud = WordCloud(width=900, height=500).generate(create_Word_Corpus(pos))\n",
        "neg_wordcloud = WordCloud(width=900, height=500).generate(create_Word_Corpus(neg))"
      ],
      "execution_count": null,
      "outputs": []
    },
    {
      "cell_type": "code",
      "metadata": {
        "id": "5lUbrMRm648h"
      },
      "source": [
        "# Plot cloud\n",
        "def plot_Cloud(wordCloud):\n",
        "    plt.figure( figsize=(20,10), facecolor='w')\n",
        "    plt.imshow(wordCloud)\n",
        "    plt.axis(\"off\")\n",
        "    plt.tight_layout(pad=0)\n",
        "    plt.show()"
      ],
      "execution_count": null,
      "outputs": []
    },
    {
      "cell_type": "code",
      "metadata": {
        "id": "pXZ0tNWF662X"
      },
      "source": [
        "#Visuallizing popular positive words\n",
        "plot_Cloud(pos_wordcloud)"
      ],
      "execution_count": null,
      "outputs": []
    },
    {
      "cell_type": "code",
      "metadata": {
        "id": "2sdBwXSa94kY"
      },
      "source": [
        "#Visuallizing popular negative words\n",
        "plot_Cloud(neg_wordcloud)"
      ],
      "execution_count": null,
      "outputs": []
    },
    {
      "cell_type": "markdown",
      "metadata": {
        "id": "89EC93OaHRN6"
      },
      "source": [
        "### Feature Engineering"
      ]
    },
    {
      "cell_type": "code",
      "metadata": {
        "colab": {
          "base_uri": "https://localhost:8080/",
          "height": 580
        },
        "id": "rp4pM4dDHVxs",
        "outputId": "8f0d06ec-e806-4dd4-8415-5c60235d46e9"
      },
      "source": [
        "# Feature Engineering\n",
        "df_reviews = df[['review_body','star_rating']]\n",
        "df_reviews.rename(columns = {'review_body':'feature','star_rating':'label'},inplace = True)\n",
        "df_reviews.info()\n",
        "\n",
        "# Normalize star ratings to be from 0 to 1 instead 1 to 5 ; for EDA and ML purposes\n",
        "df_reviews_normalized = df_reviews\n",
        "df_reviews_normalized['label'] = (df_reviews_normalized['label'] - df_reviews_normalized['label'].min()) / (df_reviews_normalized['label'].max() - df_reviews_normalized['label'].min())   \n",
        "df_reviews_normalized "
      ],
      "execution_count": 480,
      "outputs": [
        {
          "output_type": "stream",
          "name": "stdout",
          "text": [
            "<class 'pandas.core.frame.DataFrame'>\n",
            "RangeIndex: 99919 entries, 0 to 99918\n",
            "Data columns (total 2 columns):\n",
            " #   Column   Non-Null Count  Dtype \n",
            "---  ------   --------------  ----- \n",
            " 0   feature  99919 non-null  object\n",
            " 1   label    99919 non-null  int64 \n",
            "dtypes: int64(1), object(1)\n",
            "memory usage: 1.5+ MB\n"
          ]
        },
        {
          "output_type": "execute_result",
          "data": {
            "text/html": [
              "<div>\n",
              "<style scoped>\n",
              "    .dataframe tbody tr th:only-of-type {\n",
              "        vertical-align: middle;\n",
              "    }\n",
              "\n",
              "    .dataframe tbody tr th {\n",
              "        vertical-align: top;\n",
              "    }\n",
              "\n",
              "    .dataframe thead th {\n",
              "        text-align: right;\n",
              "    }\n",
              "</style>\n",
              "<table border=\"1\" class=\"dataframe\">\n",
              "  <thead>\n",
              "    <tr style=\"text-align: right;\">\n",
              "      <th></th>\n",
              "      <th>feature</th>\n",
              "      <th>label</th>\n",
              "    </tr>\n",
              "  </thead>\n",
              "  <tbody>\n",
              "    <tr>\n",
              "      <th>0</th>\n",
              "      <td>great socks for the money nice socks great col...</td>\n",
              "      <td>1.00</td>\n",
              "    </tr>\n",
              "    <tr>\n",
              "      <th>1</th>\n",
              "      <td>slick hat i bought this for my husband and wow...</td>\n",
              "      <td>1.00</td>\n",
              "    </tr>\n",
              "    <tr>\n",
              "      <th>2</th>\n",
              "      <td>i would do it again perfect dress and the cust...</td>\n",
              "      <td>1.00</td>\n",
              "    </tr>\n",
              "    <tr>\n",
              "      <th>3</th>\n",
              "      <td>love it raw is the only way to go absolutely l...</td>\n",
              "      <td>1.00</td>\n",
              "    </tr>\n",
              "    <tr>\n",
              "      <th>4</th>\n",
              "      <td>three stars a bit large</td>\n",
              "      <td>0.75</td>\n",
              "    </tr>\n",
              "    <tr>\n",
              "      <th>...</th>\n",
              "      <td>...</td>\n",
              "      <td>...</td>\n",
              "    </tr>\n",
              "    <tr>\n",
              "      <th>99914</th>\n",
              "      <td>five stars my girlfriend loved it</td>\n",
              "      <td>1.00</td>\n",
              "    </tr>\n",
              "    <tr>\n",
              "      <th>99915</th>\n",
              "      <td>four stars great shirt</td>\n",
              "      <td>0.75</td>\n",
              "    </tr>\n",
              "    <tr>\n",
              "      <th>99916</th>\n",
              "      <td>five stars sweet shirt</td>\n",
              "      <td>1.00</td>\n",
              "    </tr>\n",
              "    <tr>\n",
              "      <th>99917</th>\n",
              "      <td>five stars very well made</td>\n",
              "      <td>1.00</td>\n",
              "    </tr>\n",
              "    <tr>\n",
              "      <th>99918</th>\n",
              "      <td>so great this was a hit at the baby shower</td>\n",
              "      <td>0.75</td>\n",
              "    </tr>\n",
              "  </tbody>\n",
              "</table>\n",
              "<p>99919 rows × 2 columns</p>\n",
              "</div>"
            ],
            "text/plain": [
              "                                                 feature  label\n",
              "0      great socks for the money nice socks great col...   1.00\n",
              "1      slick hat i bought this for my husband and wow...   1.00\n",
              "2      i would do it again perfect dress and the cust...   1.00\n",
              "3      love it raw is the only way to go absolutely l...   1.00\n",
              "4                                three stars a bit large   0.75\n",
              "...                                                  ...    ...\n",
              "99914                  five stars my girlfriend loved it   1.00\n",
              "99915                             four stars great shirt   0.75\n",
              "99916                             five stars sweet shirt   1.00\n",
              "99917                          five stars very well made   1.00\n",
              "99918         so great this was a hit at the baby shower   0.75\n",
              "\n",
              "[99919 rows x 2 columns]"
            ]
          },
          "metadata": {},
          "execution_count": 480
        }
      ]
    },
    {
      "cell_type": "markdown",
      "metadata": {
        "id": "xIwI2oREBU-n"
      },
      "source": [
        "### Stemming the reviews"
      ]
    },
    {
      "cell_type": "code",
      "metadata": {
        "id": "l2GwxbzuYIN_"
      },
      "source": [
        "#todo review\n",
        "from nltk.stem import PorterStemmer, WordNetLemmatizer\n",
        "import nltk\n",
        "import re\n",
        "from wordcloud import WordCloud,STOPWORDS\n",
        "from nltk.corpus import stopwords\n",
        "from wordcloud import WordCloud\n",
        "import string\n",
        "import matplotlib.pyplot as plt\n",
        "nltk.download('punkt')\n",
        "nltk.download('stopwords')\n",
        "\n",
        "# Extracting 'reviews' for processing\n",
        "\n",
        "print(df_reviews_normalized.head())\n",
        "\n",
        "#Performing stemming on the review dataframe\n",
        "ps = PorterStemmer()\n",
        "\n",
        "#splitting and adding the stemmed words except stopwords\n",
        "corpus = []\n",
        "for i in range(0, len(df_reviews_normalized)):\n",
        "    review = re.sub('[^a-zA-Z]', ' ', df_reviews_normalized['feature'][i])\n",
        "    review = review.split()\n",
        "    review = [ps.stem(word) for word in review if not word in stop_words]\n",
        "    review = ' '.join(review)\n",
        "    corpus.append(review)   \n",
        "\n",
        "corpus[2]\n"
      ],
      "execution_count": 493,
      "outputs": []
    },
    {
      "cell_type": "code",
      "metadata": {
        "id": "cwOWmSR7ECay"
      },
      "source": [
        "print(corpus[1])\n",
        "review_features.head(1)"
      ],
      "execution_count": null,
      "outputs": []
    },
    {
      "cell_type": "markdown",
      "metadata": {
        "id": "Ly43-MUhb39q"
      },
      "source": [
        "### Data Split, Machine Learning"
      ]
    },
    {
      "cell_type": "code",
      "metadata": {
        "id": "1hoZ8o-kC5LY"
      },
      "source": [
        "# (7) Training, Testing (and/or Validation) data split \n",
        "\n",
        "# for example, 60/20/20"
      ],
      "execution_count": null,
      "outputs": []
    },
    {
      "cell_type": "code",
      "metadata": {
        "id": "Wh3Mpqv0C5LY"
      },
      "source": [
        "# (7.b) If using Deep Learning, building the model\n",
        "\n",
        "# Add Input Layer\n",
        "# Add Hidden Layers\n",
        "# Add Output"
      ],
      "execution_count": null,
      "outputs": []
    },
    {
      "cell_type": "code",
      "metadata": {
        "id": "RvmY_kfYC5LZ"
      },
      "source": [
        "# (8) Training the Machine Learning Model (i.e, Fitting the Model)"
      ],
      "execution_count": null,
      "outputs": []
    },
    {
      "cell_type": "code",
      "metadata": {
        "id": "EZ01SXbIC5LZ"
      },
      "source": [
        "# (9) Evaluate the model metrics for Training (and/or Validation) data"
      ],
      "execution_count": null,
      "outputs": []
    },
    {
      "cell_type": "code",
      "metadata": {
        "id": "wTpOxodBC5LZ"
      },
      "source": [
        "# (10) Evaluate the model metris for Testing data\n",
        "\n",
        "\n",
        "# If metrics are poor, optimize either (a) the data, (b) the hyperpamaters"
      ],
      "execution_count": null,
      "outputs": []
    },
    {
      "cell_type": "code",
      "metadata": {
        "id": "0kitVPuJC5LZ"
      },
      "source": [
        "# (11) Use the model for prediction"
      ],
      "execution_count": null,
      "outputs": []
    },
    {
      "cell_type": "code",
      "metadata": {
        "id": "9WEaNzAVC5La"
      },
      "source": [
        "# (12) Write final predicted data  (e.g, to CSV or JSON, etc.)"
      ],
      "execution_count": null,
      "outputs": []
    },
    {
      "cell_type": "code",
      "metadata": {
        "id": "yREGkIWPCyi8"
      },
      "source": [
        "df_cleaned = df.head(100000)\n",
        "df_cleaned['star_rating'].count()\n",
        "df_cleaned['star_rating'].unique()\n",
        "df_cleaned['star_rating'].value_counts()\n",
        "# indexNames = df_cleaned[ df_cleaned['star_rating'] == 'star_rating' ].index\n",
        "# df_cleaned.drop(indexNames,inplace=True)\n",
        "# df_cleaned.dropna(inplace=True)"
      ],
      "execution_count": null,
      "outputs": []
    },
    {
      "cell_type": "code",
      "metadata": {
        "id": "AG7XsVDyI6QJ"
      },
      "source": [
        "from nltk.corpus import stopwords\n",
        "wpt = nltk.WordPunctTokenizer()\n",
        "stop_words = nltk.corpus.stopwords.words('english')"
      ],
      "execution_count": null,
      "outputs": []
    },
    {
      "cell_type": "code",
      "metadata": {
        "id": "8_QIF7WMC0b5"
      },
      "source": [
        "df_cleaned.head()"
      ],
      "execution_count": null,
      "outputs": []
    },
    {
      "cell_type": "code",
      "metadata": {
        "id": "Nehj4_GuC6MV"
      },
      "source": [
        "X_train, X_test, y_train, y_test = train_test_split( df_cleaned['review_body'], df_cleaned['star_rating'], test_size=0.33, random_state=42)"
      ],
      "execution_count": null,
      "outputs": []
    },
    {
      "cell_type": "code",
      "metadata": {
        "id": "hqU9kCgmC8a9"
      },
      "source": [
        "clf = Pipeline([\n",
        "    ('vect', CountVectorizer(analyzer='word', ngram_range=(1, 2))),\n",
        "    ('clf', LogisticRegression(max_iter=500,C=0.1,random_state=40,solver='newton-cg')),\n",
        "])\n",
        "clf = clf.fit(X_train, y_train)\n",
        "accuracy_train=accuracy_score(y_train, clf.predict(X_train))\n",
        "accuracy_test=accuracy_score(y_test, clf.predict(X_test))\n",
        "print('Accuracy on train %f' %accuracy_train)\n",
        "print('Accuracy on test %f' %accuracy_test)"
      ],
      "execution_count": null,
      "outputs": []
    },
    {
      "cell_type": "code",
      "metadata": {
        "id": "PnvPy_XCC-QO"
      },
      "source": [
        "clf = Pipeline([\n",
        "    ('vect',TfidfVectorizer()),\n",
        "    ('clf', LogisticRegression(max_iter=500,C=0.1,random_state=40,solver='newton-cg')),\n",
        "])\n",
        "clf = clf.fit(X_train, y_train)\n",
        "accuracy_train=accuracy_score(y_train, clf.predict(X_train))\n",
        "accuracy_test=accuracy_score(y_test, clf.predict(X_test))\n",
        "print('Accuracy on train %f' %accuracy_train)\n",
        "print('Accuracy on test %f' %accuracy_test)"
      ],
      "execution_count": null,
      "outputs": []
    },
    {
      "cell_type": "code",
      "metadata": {
        "id": "ic__5jgGDAp9"
      },
      "source": [
        "from sklearn.tree import DecisionTreeClassifier\n",
        "clf = Pipeline([\n",
        "    ('vect', CountVectorizer(analyzer='word', ngram_range=(1, 2))),\n",
        "    ('clf', DecisionTreeClassifier()),\n",
        "])\n",
        "clf = clf.fit(X_train, y_train)\n",
        "accuracy_train=accuracy_score(y_train, clf.predict(X_train))\n",
        "accuracy_test=accuracy_score(y_test, clf.predict(X_test))\n",
        "print('Accuracy on train %f' %accuracy_train)\n",
        "print('Accuracy on test %f' %accuracy_test)"
      ],
      "execution_count": null,
      "outputs": []
    },
    {
      "cell_type": "code",
      "metadata": {
        "id": "uEZ8tiYJDCkE"
      },
      "source": [
        "clf = Pipeline([\n",
        "    ('vect',TfidfVectorizer()),\n",
        "    ('clf', DecisionTreeClassifier()),\n",
        "])\n",
        "clf = clf.fit(X_train, y_train)\n",
        "accuracy_train=accuracy_score(y_train, clf.predict(X_train))\n",
        "accuracy_test=accuracy_score(y_test, clf.predict(X_test))\n",
        "print('Accuracy on train %f' %accuracy_train)\n",
        "print('Accuracy on test %f' %accuracy_test)"
      ],
      "execution_count": null,
      "outputs": []
    },
    {
      "cell_type": "code",
      "metadata": {
        "id": "K45qUiWMDEnf"
      },
      "source": [
        "from sklearn.svm import LinearSVC\n",
        "clf = Pipeline([\n",
        "    ('vect',TfidfVectorizer()),\n",
        "    ('clf',LinearSVC()),\n",
        "])\n",
        "clf = clf.fit(X_train, y_train)\n",
        "accuracy_train=accuracy_score(y_train, clf.predict(X_train))\n",
        "accuracy_test=accuracy_score(y_test, clf.predict(X_test))\n",
        "print('Accuracy on train %f' %accuracy_train)\n",
        "print('Accuracy on test %f' %accuracy_test)"
      ],
      "execution_count": null,
      "outputs": []
    },
    {
      "cell_type": "markdown",
      "metadata": {
        "id": "L5cNQkxJDMlG"
      },
      "source": [
        "#### Using KNN"
      ]
    },
    {
      "cell_type": "code",
      "metadata": {
        "id": "6VwNL-kOAgpY"
      },
      "source": [
        "def partition(x):\n",
        "    if x<3:\n",
        "        return 'Negative'\n",
        "    elif x>3:\n",
        "        return 'Positive'\n",
        "    return 'Neutral'\n",
        "\n",
        "actualScore = df['star_rating']\n",
        "positiveNegative = actualScore.map(partition)\n",
        "df['Score'] = positiveNegative"
      ],
      "execution_count": null,
      "outputs": []
    },
    {
      "cell_type": "code",
      "metadata": {
        "id": "GF-Kbsq1Dd-O"
      },
      "source": [
        "df['Time'] = df['review_date']\n",
        "sortedData = df.sort_values('product_id',axis=0,kind=\"quicksort\", ascending=True)\n",
        "final = sortedData.drop_duplicates(subset={\"customer_id\",\"Time\",\"review_body\"},keep=\"first\",inplace=False)\n",
        "\n",
        "final = final[final.helpful_votes >= final.total_votes-final.helpful_votes]\n",
        "\n",
        "#As data is huge, due to computation limitation we will randomly select data. we will try to pick data in a way so that it doesn't make data imbalance problem\n",
        "finalp = final[final.Score == 'Positive']\n",
        "finalp = finalp.sample(frac=0.008,random_state=2) #0.055\n",
        "\n",
        "finaln = final[final.Score == 'Negative']\n",
        "finaln = finaln.sample(frac=0.1,random_state=1) #0.25\n",
        "\n",
        "finalne = final[final.Score == 'Neutral']\n",
        "finalne = finalne.sample(frac=0.02,random_state=4) #0.25\n",
        "\n",
        "final = pd.concat([finalp,finaln, finalne],axis=0)\n",
        "\n",
        "#sording data by timestamp so that it can be devided in train and test dataset for time based slicing.\n",
        "final = final.sort_values('Time',axis=0,kind=\"quicksort\", ascending=True).reset_index(drop=True)"
      ],
      "execution_count": null,
      "outputs": []
    },
    {
      "cell_type": "code",
      "metadata": {
        "id": "ys06wKoVt8or"
      },
      "source": [
        "import re\n",
        "import string\n",
        "import nltk\n",
        "#nltk.download('stopwords')\n",
        "from nltk.corpus import stopwords\n",
        "from nltk.stem import PorterStemmer\n",
        "from nltk.stem.wordnet import WordNetLemmatizer\n",
        "\n",
        "stop = set(stopwords.words('english')) #set of stopwords\n",
        "sno = nltk.stem.SnowballStemmer('english') #initialising the snowball stemmer\n",
        "\n",
        "def cleanhtml(sentence): #function to clean the word of any html-tags\n",
        "    cleanr = re.compile('<.*?>')\n",
        "    cleantext = re.sub(cleanr, ' ', sentence)\n",
        "    return cleantext\n",
        "def cleanpunc(sentence): #function to clean the word of any punctuation or special characters\n",
        "    cleaned = re.sub(r'[?|!|\\'|\"|#]',r'',sentence)\n",
        "    cleaned = re.sub(r'[.|,|)|(|\\|/]',r' ',cleaned)\n",
        "    return  cleaned\n",
        "\n",
        "i=0\n",
        "str1=' '\n",
        "final_string=[]\n",
        "all_positive_words=[] # store words from +ve reviews here\n",
        "all_negative_words=[] # store words from -ve reviews here.\n",
        "all_neutral_words=[]\n",
        "s=''\n",
        "\n",
        "for sent in final['review_body'].values:\n",
        "    filtered_sentence=[]\n",
        "    #print(sent);\n",
        "    sent=cleanhtml(sent) # remove HTMl tags\n",
        "    for w in sent.split():\n",
        "        for cleaned_words in cleanpunc(w).split():\n",
        "            if((cleaned_words.isalpha()) & (len(cleaned_words)>2)):    \n",
        "                if(cleaned_words.lower() not in stop):\n",
        "                    s=(sno.stem(cleaned_words.lower())).encode('utf8')\n",
        "                    filtered_sentence.append(s)\n",
        "                    if (final['Score'].values)[i] == 'Positive': \n",
        "                        all_positive_words.append(s) #list of all words used to describe positive reviews\n",
        "                    if(final['Score'].values)[i] == 'Negative':\n",
        "                        all_negative_words.append(s) #list of all words used to describe negative reviews reviews\n",
        "                    if(final['Score'].values)[i] == 'Neutral':\n",
        "                        all_neutral_words.append(s) #list of all words used to describe negative reviews reviews\n",
        "                else:\n",
        "                    continue\n",
        "            else:\n",
        "                continue \n",
        "    str1 = b\" \".join(filtered_sentence) #final string of cleaned words    \n",
        "    final_string.append(str1)\n",
        "    i+=1"
      ],
      "execution_count": null,
      "outputs": []
    },
    {
      "cell_type": "code",
      "metadata": {
        "id": "WZSXSUnquFiL"
      },
      "source": [
        "from sklearn.model_selection import cross_val_score\n",
        "\n",
        "def find_optimal_k(X_train,y_train, myList):\n",
        "   \n",
        "    #creating odd list of K for KNN\n",
        "    #myList = list(range(0,40))\n",
        "    neighbors = list(filter(lambda x: x % 2 != 0, myList))\n",
        "\n",
        "    # empty list that will hold cv scores\n",
        "    cv_scores = []\n",
        "\n",
        "    # perform 10-fold cross validation\n",
        "    for k in neighbors:\n",
        "        knn = KNeighborsClassifier(n_neighbors=k,n_jobs=8)\n",
        "        scores = cross_val_score(knn, X_train, y_train, cv=10, scoring='accuracy')\n",
        "        cv_scores.append(scores.mean())\n",
        "\n",
        "    # changing to misclassification error\n",
        "    MSE = [1 - x for x in cv_scores]\n",
        "\n",
        "    # determining best k\n",
        "    optimal_k = neighbors[MSE.index(min(MSE))]\n",
        "    print('\\nThe optimal number of neighbors is %d.' % optimal_k)\n",
        "\n",
        "\n",
        "    plt.figure(figsize=(10,6))\n",
        "    plt.plot(list(filter(lambda x: x % 2 != 0, myList)),MSE,color='blue', linestyle='dashed', marker='o',\n",
        "             markerfacecolor='red', markersize=10)\n",
        "    plt.title('Error Rate vs. K Value')\n",
        "    plt.xlabel('K')\n",
        "    plt.ylabel('Error Rate')\n",
        "\n",
        "    print(\"the misclassification error for each k value is : \", np.round(MSE,3))\n",
        "    \n",
        "    return optimal_k"
      ],
      "execution_count": null,
      "outputs": []
    },
    {
      "cell_type": "code",
      "metadata": {
        "id": "kGhyYqdWuIoX"
      },
      "source": [
        "from sklearn.feature_extraction.text import CountVectorizer\n",
        " \n",
        "count_vect = CountVectorizer() \n",
        "final_bow_count = count_vect.fit_transform(final_string)#final['Text'].values)"
      ],
      "execution_count": null,
      "outputs": []
    },
    {
      "cell_type": "code",
      "metadata": {
        "id": "V126kTzUuLey"
      },
      "source": [
        "from sklearn.preprocessing import StandardScaler\n",
        "\n",
        "final_bow_np = StandardScaler(with_mean=False).fit_transform(final_bow_count )"
      ],
      "execution_count": null,
      "outputs": []
    },
    {
      "cell_type": "code",
      "metadata": {
        "id": "D3KjQljauPAg"
      },
      "source": [
        "#We already have sorted data by timestamp so we will use first 70% of data as Train with cross validation and next 30% for test\n",
        "import math\n",
        "from sklearn import datasets\n",
        "from sklearn.neighbors import KNeighborsClassifier\n",
        "from sklearn.model_selection import train_test_split\n",
        "\n",
        "X = final_bow_np\n",
        "y = final['Score']\n",
        "\n",
        "X_train =  final_bow_np[:math.ceil(len(final)*.7)] \n",
        "X_test = final_bow_np[math.ceil(len(final)*.7):]\n",
        "y_train = y[:math.ceil(len(final)*.7)]\n",
        "y_test =  y[math.ceil(len(final)*.7):]\n",
        "\n",
        "\"\"\"\n",
        "df_test = pd.read_csv('test.csv')\n",
        "\n",
        "df_test = df_test.dropna()\n",
        "\n",
        "X_test = df_test['review_body']\n",
        "y_test = df_test['ratings']\n",
        "\n",
        "count_vect_test = CountVectorizer() \n",
        "final_bow_count_test = count_vect.fit_transform(X_test)\n",
        "final_bow_np_test = StandardScaler(with_mean=False).fit_transform(final_bow_count_test)\n",
        "\n",
        "X_test = final_bow_np_test\n",
        "\"\"\""
      ],
      "execution_count": null,
      "outputs": []
    },
    {
      "cell_type": "code",
      "metadata": {
        "id": "AkDl34ZBLpoP"
      },
      "source": [
        "import numpy as np"
      ],
      "execution_count": null,
      "outputs": []
    },
    {
      "cell_type": "code",
      "metadata": {
        "id": "2HRwmtOFuTSS"
      },
      "source": [
        "myList = list(range(0,15))\n",
        "\n",
        "optimal_k = find_optimal_k(X_train ,y_train,myList)"
      ],
      "execution_count": null,
      "outputs": []
    },
    {
      "cell_type": "code",
      "metadata": {
        "id": "nVLHURiPubUK"
      },
      "source": [
        "knn = KNeighborsClassifier(n_neighbors=optimal_k, n_jobs=8)\n",
        "knn.fit(X_train, y_train)\n",
        "pred = knn.predict(X_test)"
      ],
      "execution_count": null,
      "outputs": []
    },
    {
      "cell_type": "code",
      "metadata": {
        "id": "_C3Uw-s2udtC"
      },
      "source": [
        "print(\"Accuracy for KNN model with Bag of words is \",round(accuracy_score(y_test ,pred),3))"
      ],
      "execution_count": null,
      "outputs": []
    },
    {
      "cell_type": "markdown",
      "metadata": {
        "id": "hUmSHUnnO64e"
      },
      "source": [
        "#### EDA by Spacy"
      ]
    },
    {
      "cell_type": "code",
      "metadata": {
        "id": "ItSXNr5iwJDX"
      },
      "source": [
        "import spacy\n",
        "from spacy.lang.en.stop_words import STOP_WORDS\n",
        "import en_core_web_sm\n",
        "nlp = en_core_web_sm.load()"
      ],
      "execution_count": null,
      "outputs": []
    },
    {
      "cell_type": "code",
      "metadata": {
        "id": "hddVQXnpwQZZ"
      },
      "source": [
        "stopwords = list(STOP_WORDS)"
      ],
      "execution_count": null,
      "outputs": []
    },
    {
      "cell_type": "code",
      "metadata": {
        "id": "jbJbjXlAwWBR"
      },
      "source": [
        "import string\n",
        "punctuations = string.punctuation\n",
        "from spacy.lang.en import English\n",
        "parser = English()\n",
        "def spacy_tokenizer(sentence):\n",
        "    mytokens = parser(sentence)\n",
        "    mytokens = [word.lemma_.lower() if word.lemma_ != \"-PRON-\" else word.lower_ for word in mytokens]\n",
        "    mytokens = [word for word in mytokens if word not in stopwords and word not in punctuations]\n",
        "    return mytokens\n",
        "from sklearn.feature_extraction.text import CountVectorizer, TfidfVectorizer\n",
        "from sklearn.metrics import accuracy_score\n",
        "from sklearn.base import TransformerMixin\n",
        "from sklearn.pipeline import Pipeline\n",
        "#Custom Transformer using spaCy\n",
        "class predictors(TransformerMixin):\n",
        "    \n",
        "    def transform(self, X, **transform_params):\n",
        "        return [clean_text(text) for text in X]\n",
        "    def fit(self, X, y=None, **fit_params):\n",
        "        return self\n",
        "    def get_params(self,deep=True):\n",
        "        return{}\n",
        "    \n",
        "# Basic function to clean the text\n",
        "def clean_text(text):\n",
        "    return text.strip().lower()\n",
        "tfdifVect = TfidfVectorizer(tokenizer = spacy_tokenizer)"
      ],
      "execution_count": null,
      "outputs": []
    },
    {
      "cell_type": "code",
      "metadata": {
        "id": "uULAPP4vwhW0"
      },
      "source": [
        "from spacy import displacy"
      ],
      "execution_count": null,
      "outputs": []
    },
    {
      "cell_type": "code",
      "metadata": {
        "id": "CVH9uOS6wj7D"
      },
      "source": [
        "# Breaking down a review into dependencies\n",
        "doc = nlp(df['review_body'][8]) \n",
        "displacy.render(doc,style='dep',jupyter=True)"
      ],
      "execution_count": null,
      "outputs": []
    },
    {
      "cell_type": "code",
      "metadata": {
        "id": "PqdB8uTrw5oD"
      },
      "source": [
        "#X = data.drop('star_rating',axis=1)\n",
        "X = df['review_body']\n",
        "y = df['sentiment']"
      ],
      "execution_count": null,
      "outputs": []
    },
    {
      "cell_type": "code",
      "metadata": {
        "id": "SYLWogGfxCMH"
      },
      "source": [
        "from sklearn.model_selection import train_test_split"
      ],
      "execution_count": null,
      "outputs": []
    },
    {
      "cell_type": "code",
      "metadata": {
        "id": "lzMLKjdsPQw4"
      },
      "source": [
        "X_train, X_test, y_train, y_test = train_test_split(X, y,test_size=0.2, random_state=42)"
      ],
      "execution_count": null,
      "outputs": []
    },
    {
      "cell_type": "markdown",
      "metadata": {
        "id": "jn3Ey6KwD12W"
      },
      "source": [
        "#### Support Vector Machines"
      ]
    },
    {
      "cell_type": "code",
      "metadata": {
        "id": "RuPbvXkZyAqw"
      },
      "source": [
        "from sklearn.svm import LinearSVC\n",
        "classifier = LinearSVC()"
      ],
      "execution_count": null,
      "outputs": []
    },
    {
      "cell_type": "code",
      "metadata": {
        "id": "w1nlBk7ryG6v"
      },
      "source": [
        "pipe = Pipeline([('cleaner', predictors()),\n",
        "                 ('tfidfVect', tfdifVect),\n",
        "                ('classifier',classifier),])"
      ],
      "execution_count": null,
      "outputs": []
    },
    {
      "cell_type": "code",
      "metadata": {
        "id": "EAuTpL5dNFnY"
      },
      "source": [
        "y_train"
      ],
      "execution_count": null,
      "outputs": []
    },
    {
      "cell_type": "code",
      "metadata": {
        "id": "GAy0Ld7JOQ51"
      },
      "source": [
        "from sklearn.svm import LinearSVC\n",
        "classifier = LinearSVC()"
      ],
      "execution_count": null,
      "outputs": []
    },
    {
      "cell_type": "code",
      "metadata": {
        "id": "nuTOc-vROQ51"
      },
      "source": [
        "pipe = Pipeline([('cleaner', predictors()),\n",
        "                 ('tfidfVect', tfdifVect),\n",
        "                ('classifier',classifier),])"
      ],
      "execution_count": null,
      "outputs": []
    },
    {
      "cell_type": "code",
      "metadata": {
        "id": "r6w0AXgfyJEZ"
      },
      "source": [
        "pipe.fit(X_train, y_train)"
      ],
      "execution_count": null,
      "outputs": []
    },
    {
      "cell_type": "code",
      "metadata": {
        "id": "IUZoWoUtyLxB"
      },
      "source": [
        "sample_prediction = pipe.predict(X_test)"
      ],
      "execution_count": null,
      "outputs": []
    },
    {
      "cell_type": "code",
      "metadata": {
        "id": "xDPwwMbAyPu5"
      },
      "source": [
        "count = 1\n",
        "for (sample,pred) in zip(X_test[0:10],sample_prediction[0:10]):\n",
        "    print('\\n',count,')')\n",
        "    print(sample,\"'PREDICTION':\", pred)\n",
        "    count += 1"
      ],
      "execution_count": null,
      "outputs": []
    },
    {
      "cell_type": "code",
      "metadata": {
        "id": "nhSKoe-ryZ1-"
      },
      "source": [
        "#Test Accuracy\n",
        "print(\"Accuracy:\", pipe.score(X_test,y_test))"
      ],
      "execution_count": null,
      "outputs": []
    },
    {
      "cell_type": "code",
      "metadata": {
        "id": "6anoVgH3yc3-"
      },
      "source": [
        "pipe.predict([\"but fitting small and bad also costly and overpriced\"])"
      ],
      "execution_count": null,
      "outputs": []
    },
    {
      "cell_type": "code",
      "metadata": {
        "id": "3dlN5jMGyyFy"
      },
      "source": [
        "pipe.predict([\"Not great\"])"
      ],
      "execution_count": null,
      "outputs": []
    },
    {
      "cell_type": "markdown",
      "metadata": {
        "id": "aqUBeDUzy9hT"
      },
      "source": [
        "#### Logistic Regression\n"
      ]
    },
    {
      "cell_type": "code",
      "metadata": {
        "id": "UOaWWGGpy-eV"
      },
      "source": [
        "from sklearn.linear_model import LogisticRegression"
      ],
      "execution_count": null,
      "outputs": []
    },
    {
      "cell_type": "code",
      "metadata": {
        "id": "NGh2urwgzDhj"
      },
      "source": [
        "classifier =  LogisticRegression()"
      ],
      "execution_count": null,
      "outputs": []
    },
    {
      "cell_type": "code",
      "metadata": {
        "id": "WmbyyN5rzFj5"
      },
      "source": [
        "pipe = Pipeline([('cleaner', predictors()),\n",
        "                ('tfidfVect', tfdifVect),\n",
        "                ('classifier',classifier)])"
      ],
      "execution_count": null,
      "outputs": []
    },
    {
      "cell_type": "code",
      "metadata": {
        "id": "28x-9tbTzHYK"
      },
      "source": [
        "pipe.fit(X_train,y_train)"
      ],
      "execution_count": null,
      "outputs": []
    },
    {
      "cell_type": "code",
      "metadata": {
        "id": "sJGmbg9KzKI4"
      },
      "source": [
        "sample_prediction = pipe.predict(X_test)"
      ],
      "execution_count": null,
      "outputs": []
    },
    {
      "cell_type": "code",
      "metadata": {
        "id": "w3NOutKbzMVR"
      },
      "source": [
        "#Test Accuracy\n",
        "print(\"Accuracy:\", pipe.score(X_test,y_test))"
      ],
      "execution_count": null,
      "outputs": []
    },
    {
      "cell_type": "code",
      "metadata": {
        "id": "crxpUMVEzRJX"
      },
      "source": [
        "pipe.predict([\"but fitting small and bad also costly and overpriced\"])"
      ],
      "execution_count": null,
      "outputs": []
    },
    {
      "cell_type": "code",
      "metadata": {
        "id": "qA8da6STzShe"
      },
      "source": [
        "pipe.predict([\"Not great\"])"
      ],
      "execution_count": null,
      "outputs": []
    },
    {
      "cell_type": "markdown",
      "metadata": {
        "id": "SHZq2JU1zfdx"
      },
      "source": [
        "#### Decision Trees\n"
      ]
    },
    {
      "cell_type": "code",
      "metadata": {
        "id": "9nxAysjOzggg"
      },
      "source": [
        "from sklearn.tree import DecisionTreeClassifier"
      ],
      "execution_count": null,
      "outputs": []
    },
    {
      "cell_type": "code",
      "metadata": {
        "id": "QtoX1SiOzjwG"
      },
      "source": [
        "classifier = DecisionTreeClassifier()"
      ],
      "execution_count": null,
      "outputs": []
    },
    {
      "cell_type": "code",
      "metadata": {
        "id": "jLGuWk-pzl_a"
      },
      "source": [
        "pipe = Pipeline([('cleaner', predictors()),\n",
        "                ('tfidfVect', tfdifVect),\n",
        "                ('classifier',classifier)])"
      ],
      "execution_count": null,
      "outputs": []
    },
    {
      "cell_type": "code",
      "metadata": {
        "id": "7mLeIvKjzop_"
      },
      "source": [
        "pipe.fit(X_train,y_train)"
      ],
      "execution_count": null,
      "outputs": []
    },
    {
      "cell_type": "code",
      "metadata": {
        "id": "_-4IvFWLzrJK"
      },
      "source": [
        "sample_prediction = pipe.predict(X_test)"
      ],
      "execution_count": null,
      "outputs": []
    },
    {
      "cell_type": "code",
      "metadata": {
        "id": "eIMCCd95ztEA"
      },
      "source": [
        "print(\"Accuracy:\", pipe.score(X_test,y_test))"
      ],
      "execution_count": null,
      "outputs": []
    },
    {
      "cell_type": "code",
      "metadata": {
        "id": "DSdeDY6lzxdj"
      },
      "source": [
        "pipe.predict([\"but fitting small and bad also costly and overpriced\"])"
      ],
      "execution_count": null,
      "outputs": []
    },
    {
      "cell_type": "code",
      "metadata": {
        "id": "4e_yuI4TzyL4"
      },
      "source": [
        "pipe.predict([\"Not great\"])"
      ],
      "execution_count": null,
      "outputs": []
    },
    {
      "cell_type": "markdown",
      "metadata": {
        "id": "-y8twuG_z6is"
      },
      "source": [
        "#### Random Forest"
      ]
    },
    {
      "cell_type": "code",
      "metadata": {
        "id": "SilfcpmOz7vh"
      },
      "source": [
        "from sklearn.ensemble import RandomForestClassifier"
      ],
      "execution_count": null,
      "outputs": []
    },
    {
      "cell_type": "code",
      "metadata": {
        "id": "ze_v6YMzz_cr"
      },
      "source": [
        "classifier = RandomForestClassifier(n_estimators = 100, random_state = 42)"
      ],
      "execution_count": null,
      "outputs": []
    },
    {
      "cell_type": "code",
      "metadata": {
        "id": "CtlRp1xx0CAf"
      },
      "source": [
        "pipe = Pipeline([('cleaner', predictors()),\n",
        "                ('tfidfVect', tfdifVect),\n",
        "                ('classifier',classifier)])"
      ],
      "execution_count": null,
      "outputs": []
    },
    {
      "cell_type": "code",
      "metadata": {
        "id": "x7hklnb60Duf"
      },
      "source": [
        "pipe.fit(X_train,y_train)"
      ],
      "execution_count": null,
      "outputs": []
    },
    {
      "cell_type": "code",
      "metadata": {
        "id": "9zmQVHMH0FVF"
      },
      "source": [
        "sample_prediction = pipe.predict(X_test)"
      ],
      "execution_count": null,
      "outputs": []
    },
    {
      "cell_type": "code",
      "metadata": {
        "id": "XPGZosCh0HL-"
      },
      "source": [
        "print(\"Accuracy:\", pipe.score(X_test,y_test))"
      ],
      "execution_count": null,
      "outputs": []
    },
    {
      "cell_type": "code",
      "metadata": {
        "id": "5wiWeg_80I8Q"
      },
      "source": [
        "pipe.predict([\"but fitting small and bad also costly and overpriced\"])"
      ],
      "execution_count": null,
      "outputs": []
    },
    {
      "cell_type": "code",
      "metadata": {
        "id": "PNc2610I0KZl"
      },
      "source": [
        "pipe.predict([\"Not good\"])"
      ],
      "execution_count": null,
      "outputs": []
    },
    {
      "cell_type": "code",
      "metadata": {
        "id": "nLa841mRTONA"
      },
      "source": [
        "pipe.predict([\"Nice dress, good fitting\"])"
      ],
      "execution_count": null,
      "outputs": []
    },
    {
      "cell_type": "code",
      "metadata": {
        "id": "UPDhju6oTS0B"
      },
      "source": [
        "pipe.predict([\"perfect size, good material\"])"
      ],
      "execution_count": null,
      "outputs": []
    }
  ]
}